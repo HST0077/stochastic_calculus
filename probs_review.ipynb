{
 "cells": [
  {
   "cell_type": "markdown",
   "id": "b6c9d6ca-de86-48cd-a46d-f39b131d83a9",
   "metadata": {},
   "source": [
    "# 심볼릭 연산"
   ]
  },
  {
   "attachments": {
    "4da3b43b-9c98-4862-8b7f-d0fab7d3fe3e.png": {
     "image/png": "[encoded data removed]"
    }
   },
   "cell_type": "markdown",
   "id": "5d1abcce-3749-46f6-99d0-641c13cfde8b",
   "metadata": {},
   "source": [
    "![image.png](attachment:4da3b43b-9c98-4862-8b7f-d0fab7d3fe3e.png)"
   ]
  },
  {
   "cell_type": "code",
   "execution_count": 3,
   "id": "e5b6dbf9-4d96-4288-9561-4021696d606a",
   "metadata": {},
   "outputs": [
    {
     "data": {
      "text/latex": [
       "$\\displaystyle e$"
      ],
      "text/plain": [
       "E"
      ]
     },
     "execution_count": 3,
     "metadata": {},
     "output_type": "execute_result"
    }
   ],
   "source": [
    "from sympy.abc import n\n",
    "from sympy import limit,oo\n",
    "\n",
    "limit((1+1/n)**n,n,oo)"
   ]
  },
  {
   "cell_type": "code",
   "execution_count": 7,
   "id": "0297375c-18b0-4ed3-bd06-8488c1a973d0",
   "metadata": {},
   "outputs": [
    {
     "data": {
      "text/latex": [
       "$\\displaystyle e$"
      ],
      "text/plain": [
       "E"
      ]
     },
     "execution_count": 7,
     "metadata": {},
     "output_type": "execute_result"
    }
   ],
   "source": [
    "from sympy import symbols, limit, oo\n",
    "\n",
    "n=symbols('n',integer=True)\n",
    "limit((1+1/n)**n,n,oo)"
   ]
  },
  {
   "cell_type": "code",
   "execution_count": 9,
   "id": "49e05192-9001-4a30-b73e-0f2c4c003419",
   "metadata": {},
   "outputs": [
    {
     "data": {
      "text/latex": [
       "$\\displaystyle e$"
      ],
      "text/plain": [
       "E"
      ]
     },
     "execution_count": 9,
     "metadata": {},
     "output_type": "execute_result"
    }
   ],
   "source": [
    "limit((1+n)**(1/n),n,0)"
   ]
  },
  {
   "attachments": {
    "00851571-433d-4537-9b76-3dce94f32709.png": {
     "image/png": "[encoded data removed]"
    }
   },
   "cell_type": "markdown",
   "id": "44debbdb-2983-4d22-ad56-efcb3b0b9605",
   "metadata": {},
   "source": [
    "![image.png](attachment:00851571-433d-4537-9b76-3dce94f32709.png)"
   ]
  },
  {
   "cell_type": "code",
   "execution_count": 10,
   "id": "91cb9f35-4ebc-4cb5-9961-528e8b01d4a1",
   "metadata": {},
   "outputs": [
    {
     "data": {
      "text/latex": [
       "$\\displaystyle \\frac{5}{6}$"
      ],
      "text/plain": [
       "5/6"
      ]
     },
     "execution_count": 10,
     "metadata": {},
     "output_type": "execute_result"
    }
   ],
   "source": [
    "from sympy import Rational\n",
    "\n",
    "Rational(1,2)+Rational(1,3)"
   ]
  },
  {
   "cell_type": "code",
   "execution_count": 7,
   "id": "ea5ccdbc-024d-46b0-bde1-427cc0921537",
   "metadata": {},
   "outputs": [
    {
     "data": {
      "text/latex": [
       "$\\displaystyle \\frac{m}{m^{2} - n^{2}} + \\frac{n}{m + n}$"
      ],
      "text/plain": [
       "m/(m**2 - n**2) + n/(m + n)"
      ]
     },
     "execution_count": 7,
     "metadata": {},
     "output_type": "execute_result"
    }
   ],
   "source": [
    "import sympy as sp\n",
    "# symbols()를 사용해 변수 정의\n",
    "m,n=sp.symbols('m n',real=True) # 실수형으로 정의\n",
    "out=m/(m**2-n**2)+n/(m+n)\n",
    "out"
   ]
  },
  {
   "cell_type": "code",
   "execution_count": 8,
   "id": "aea7966c-bd32-45e5-8138-e0c8d3bfae93",
   "metadata": {},
   "outputs": [
    {
     "data": {
      "text/latex": [
       "$\\displaystyle \\frac{m n + m - n^{2}}{m^{2} - n^{2}}$"
      ],
      "text/plain": [
       "(m*n + m - n**2)/(m**2 - n**2)"
      ]
     },
     "execution_count": 8,
     "metadata": {},
     "output_type": "execute_result"
    }
   ],
   "source": [
    "out.simplify()"
   ]
  },
  {
   "attachments": {
    "5f389253-911c-4c1f-906f-ac17fb36a426.png": {
     "image/png": "[encoded data removed]"
    }
   },
   "cell_type": "markdown",
   "id": "26b5d2f0-f36e-4b88-80fa-d01dccd972ee",
   "metadata": {},
   "source": [
    "![image.png](attachment:5f389253-911c-4c1f-906f-ac17fb36a426.png)"
   ]
  },
  {
   "cell_type": "code",
   "execution_count": 9,
   "id": "05d479a8-2ddd-4014-a34a-7c9903e22d0f",
   "metadata": {},
   "outputs": [
    {
     "data": {
      "text/latex": [
       "$\\displaystyle 3 \\sqrt{2}$"
      ],
      "text/plain": [
       "3*sqrt(2)"
      ]
     },
     "execution_count": 9,
     "metadata": {},
     "output_type": "execute_result"
    }
   ],
   "source": [
    "import sympy as sp\n",
    "sp.sqrt(2)+sp.sqrt(8)"
   ]
  },
  {
   "cell_type": "code",
   "execution_count": 10,
   "id": "dd696f2e-cd86-4100-b242-2ef254c615c3",
   "metadata": {},
   "outputs": [
    {
     "data": {
      "text/plain": [
       "4.242640687119286"
      ]
     },
     "execution_count": 10,
     "metadata": {},
     "output_type": "execute_result"
    }
   ],
   "source": [
    "import numpy as np\n",
    "np.sqrt(2)+np.sqrt(8)"
   ]
  },
  {
   "cell_type": "code",
   "execution_count": 11,
   "id": "190b18ac-90c4-47e8-9f02-6683d4a6cddc",
   "metadata": {},
   "outputs": [
    {
     "data": {
      "text/latex": [
       "$\\displaystyle \\sqrt[3]{x}$"
      ],
      "text/plain": [
       "x**(1/3)"
      ]
     },
     "execution_count": 11,
     "metadata": {},
     "output_type": "execute_result"
    }
   ],
   "source": [
    "# 3제곱근의 표현\n",
    "x=sp.symbols('x')\n",
    "sp.cbrt(x)"
   ]
  },
  {
   "cell_type": "code",
   "execution_count": 12,
   "id": "99e9f5d4-6a18-4b66-80e8-7ef557e5b717",
   "metadata": {},
   "outputs": [
    {
     "data": {
      "text/latex": [
       "$\\displaystyle x^{\\frac{1}{n}}$"
      ],
      "text/plain": [
       "x**(1/n)"
      ]
     },
     "execution_count": 12,
     "metadata": {},
     "output_type": "execute_result"
    }
   ],
   "source": [
    "# n 제곱근의 표현\n",
    "sp.root(x,n)"
   ]
  },
  {
   "cell_type": "code",
   "execution_count": 13,
   "id": "dbeca94e-1a85-4333-b426-2a6b41a37e7e",
   "metadata": {},
   "outputs": [
    {
     "data": {
      "text/latex": [
       "$\\displaystyle x^{\\frac{1}{n}}$"
      ],
      "text/plain": [
       "x**(1/n)"
      ]
     },
     "execution_count": 13,
     "metadata": {},
     "output_type": "execute_result"
    }
   ],
   "source": [
    "x**(1/n)"
   ]
  },
  {
   "attachments": {
    "2ae92fab-5d82-47ef-8053-213fd0706998.png": {
     "image/png": "[encoded data removed]"
    }
   },
   "cell_type": "markdown",
   "id": "fbfb38b3-7e0c-440b-87f9-22322a28f0df",
   "metadata": {},
   "source": [
    "![image.png](attachment:2ae92fab-5d82-47ef-8053-213fd0706998.png)"
   ]
  },
  {
   "cell_type": "code",
   "execution_count": 16,
   "id": "cf122754-c0bb-44a9-becb-879abdae3077",
   "metadata": {},
   "outputs": [
    {
     "data": {
      "text/latex": [
       "$\\displaystyle \\left(a + b + c\\right) \\left(a^{2} - a b - a c + b^{2} - b c + c^{2}\\right)$"
      ],
      "text/plain": [
       "(a + b + c)*(a**2 - a*b - a*c + b**2 - b*c + c**2)"
      ]
     },
     "execution_count": 16,
     "metadata": {},
     "output_type": "execute_result"
    }
   ],
   "source": [
    "import sympy as sp\n",
    "a,b,c=sp.symbols('a b c') # 문자 심볼을 인식시켜주자\n",
    "L=a**3+b**3+c**3-3*a*b*c\n",
    "out=sp.factor(L)\n",
    "out"
   ]
  },
  {
   "cell_type": "code",
   "execution_count": 18,
   "id": "1c4e8daa-9500-46c3-a00b-1d2b91cc7924",
   "metadata": {},
   "outputs": [
    {
     "data": {
      "text/latex": [
       "$\\displaystyle a^{3} - 3 a b c + b^{3} + c^{3}$"
      ],
      "text/plain": [
       "a**3 - 3*a*b*c + b**3 + c**3"
      ]
     },
     "execution_count": 18,
     "metadata": {},
     "output_type": "execute_result"
    }
   ],
   "source": [
    "# 식 전개하기\n",
    "out.expand()"
   ]
  },
  {
   "attachments": {
    "c1ad355c-4fa2-48c8-94db-a2c9c8c4f2bc.png": {
     "image/png": "[encoded data removed]"
    }
   },
   "cell_type": "markdown",
   "id": "64836c30-95da-4a8c-b186-2762e7621edf",
   "metadata": {},
   "source": [
    "![image.png](attachment:c1ad355c-4fa2-48c8-94db-a2c9c8c4f2bc.png)"
   ]
  },
  {
   "cell_type": "code",
   "execution_count": 20,
   "id": "73b77a2e-d94e-4e1b-ac1b-1c195c04871d",
   "metadata": {},
   "outputs": [
    {
     "data": {
      "text/latex": [
       "$\\displaystyle x^{9} - x^{8} + x^{7} - x^{6} + x^{5} - x^{4} + x^{3} - x^{2} + x - 1$"
      ],
      "text/plain": [
       "x**9 - x**8 + x**7 - x**6 + x**5 - x**4 + x**3 - x**2 + x - 1"
      ]
     },
     "execution_count": 20,
     "metadata": {},
     "output_type": "execute_result"
    }
   ],
   "source": [
    "from sympy import div,symbols\n",
    "\n",
    "x=symbols('x')\n",
    "\n",
    "# div(dividend,divisor)를 사용함\n",
    "q,r=div(x**10-1,x+1)\n",
    "q"
   ]
  },
  {
   "cell_type": "code",
   "execution_count": 21,
   "id": "ad1f7750-d425-4421-9bd7-ddf703eda2aa",
   "metadata": {},
   "outputs": [
    {
     "data": {
      "text/latex": [
       "$\\displaystyle 0$"
      ],
      "text/plain": [
       "0"
      ]
     },
     "execution_count": 21,
     "metadata": {},
     "output_type": "execute_result"
    }
   ],
   "source": [
    "r"
   ]
  },
  {
   "attachments": {
    "37c2f427-7aaf-4af0-a999-f5196e86a0b6.png": {
     "image/png": "[encoded data removed]"
    }
   },
   "cell_type": "markdown",
   "id": "4ee31eb9-b2ce-4e44-a4d4-cdd507baf1cf",
   "metadata": {},
   "source": [
    "![image.png](attachment:37c2f427-7aaf-4af0-a999-f5196e86a0b6.png)"
   ]
  },
  {
   "cell_type": "code",
   "execution_count": 22,
   "id": "99d4e5b4-086f-4286-8cf5-2cf732cae4f1",
   "metadata": {},
   "outputs": [
    {
     "data": {
      "text/latex": [
       "$\\displaystyle \\sum_{k=1}^{\\infty} \\frac{\\left(-1\\right)^{k + 1}}{k^{2}}$"
      ],
      "text/plain": [
       "Sum((-1)**(k + 1)/k**2, (k, 1, oo))"
      ]
     },
     "execution_count": 22,
     "metadata": {},
     "output_type": "execute_result"
    }
   ],
   "source": [
    "import sympy as sp\n",
    "k=sp.symbols('k',integer=True,positive=True)\n",
    "# 무한대는 sp.oo으로 표현한다. \n",
    "sp.Sum((-1)**(1+k)*1/k**2,(k,1,sp.oo)) "
   ]
  },
  {
   "cell_type": "code",
   "execution_count": 23,
   "id": "7627d078-dba4-4e32-ac22-a309d0a5ca9f",
   "metadata": {},
   "outputs": [
    {
     "data": {
      "text/latex": [
       "$\\displaystyle \\frac{\\pi^{2}}{12}$"
      ],
      "text/plain": [
       "pi**2/12"
      ]
     },
     "execution_count": 23,
     "metadata": {},
     "output_type": "execute_result"
    }
   ],
   "source": [
    "sp.summation((-1)**(1+k)*1/k**2,(k,1,sp.oo)) "
   ]
  },
  {
   "attachments": {
    "9e6aecbd-61a9-426c-9942-aade9ae425fd.png": {
     "image/png": "[encoded data removed]"
    }
   },
   "cell_type": "markdown",
   "id": "c5a71b87-ea56-45cc-9ff0-db98bba5ef90",
   "metadata": {},
   "source": [
    "![image.png](attachment:9e6aecbd-61a9-426c-9942-aade9ae425fd.png)"
   ]
  },
  {
   "cell_type": "code",
   "execution_count": 24,
   "id": "e7efb075-be5a-4337-a3eb-9501c4167d93",
   "metadata": {},
   "outputs": [
    {
     "data": {
      "text/latex": [
       "$\\displaystyle 0$"
      ],
      "text/plain": [
       "0"
      ]
     },
     "execution_count": 24,
     "metadata": {},
     "output_type": "execute_result"
    }
   ],
   "source": [
    "import sympy as sp\n",
    "# m은 정수이고, 0이 아니라고 가정\n",
    "m=sp.symbols('m',integer=True, nonzero=True)\n",
    "# x는 실수로 정의\n",
    "x=sp.symbols('x',real=True)\n",
    "\n",
    "# 파이 값은 sp.pi로 선택\n",
    "sp.integrate(sp.cos(m*x),(x,-sp.pi,sp.pi))"
   ]
  },
  {
   "attachments": {
    "92ed011d-b079-4cbe-bb9e-fe8a5f71a5ab.png": {
     "image/png": "[encoded data removed]"
    }
   },
   "cell_type": "markdown",
   "id": "af8d4c6b-e5e1-4f36-8344-0136b4fae52e",
   "metadata": {},
   "source": [
    "![image.png](attachment:92ed011d-b079-4cbe-bb9e-fe8a5f71a5ab.png)"
   ]
  },
  {
   "cell_type": "code",
   "execution_count": 2,
   "id": "59b97327-250a-4b4a-9eb5-dddd57f4e9d3",
   "metadata": {
    "tags": []
   },
   "outputs": [
    {
     "data": {
      "text/plain": [
       "65"
      ]
     },
     "execution_count": 2,
     "metadata": {},
     "output_type": "execute_result"
    }
   ],
   "source": [
    "# ord()는 문자의 unicode를 반환하는 함수\n",
    "ord('A')"
   ]
  },
  {
   "cell_type": "code",
   "execution_count": 3,
   "id": "1ee8c412-2761-450a-8f53-94471c1a88de",
   "metadata": {
    "tags": []
   },
   "outputs": [
    {
     "data": {
      "text/plain": [
       "'A'"
      ]
     },
     "execution_count": 3,
     "metadata": {},
     "output_type": "execute_result"
    }
   ],
   "source": [
    "# 직전 셀의 결과를 다시 문자로 변환\n",
    "chr(_)"
   ]
  },
  {
   "cell_type": "code",
   "execution_count": 4,
   "id": "3483ee13-c6e2-43d2-8445-d44df4d34017",
   "metadata": {
    "tags": []
   },
   "outputs": [
    {
     "data": {
      "text/plain": [
       "['A', 'B', 'C', 'D', 'E']"
      ]
     },
     "execution_count": 4,
     "metadata": {},
     "output_type": "execute_result"
    }
   ],
   "source": [
    "# 알파벳 리스트 생성\n",
    "S=[chr(i) for i in range(ord('A'),ord('F'))]\n",
    "S"
   ]
  },
  {
   "cell_type": "code",
   "execution_count": 5,
   "id": "153e8d6a-21a2-4a43-85ff-2f8d00be047c",
   "metadata": {
    "tags": []
   },
   "outputs": [
    {
     "data": {
      "text/plain": [
       "['C', 'A']"
      ]
     },
     "execution_count": 5,
     "metadata": {},
     "output_type": "execute_result"
    }
   ],
   "source": [
    "from random import sample\n",
    "sample(S,2)"
   ]
  },
  {
   "cell_type": "code",
   "execution_count": 6,
   "id": "32ea0cf2-31e8-412f-821f-c5b1ac651fc9",
   "metadata": {
    "tags": []
   },
   "outputs": [
    {
     "data": {
      "text/plain": [
       "['E', 'A', 'C', 'D']"
      ]
     },
     "execution_count": 6,
     "metadata": {},
     "output_type": "execute_result"
    }
   ],
   "source": [
    "from random import choices\n",
    "choices(S,k=4)"
   ]
  },
  {
   "attachments": {
    "4213196d-c126-41fa-960d-e6af59c9ab52.png": {
     "image/png": "[encoded data removed]"
    }
   },
   "cell_type": "markdown",
   "id": "7dc5e4a2-f4fd-42b9-ade6-2af18b83afa6",
   "metadata": {},
   "source": [
    "![image.png](attachment:4213196d-c126-41fa-960d-e6af59c9ab52.png)"
   ]
  },
  {
   "cell_type": "code",
   "execution_count": 7,
   "id": "eaa9468a-d1cd-4fad-96b5-cd26e5cbbebf",
   "metadata": {
    "tags": []
   },
   "outputs": [
    {
     "data": {
      "text/plain": [
       "[3, 3, 0, -2, -2, 3, 5, 0, -2, 0, -2, -1, 3, 0, 3, -4, -2, 4, -1, 4]"
      ]
     },
     "execution_count": 7,
     "metadata": {},
     "output_type": "execute_result"
    }
   ],
   "source": [
    "import random as rd \n",
    "\n",
    "A=[rd.randint(-5,5) for _ in range(20)]\n",
    "A"
   ]
  },
  {
   "cell_type": "code",
   "execution_count": 8,
   "id": "0ea115dd-6daf-4e46-afbf-d18120a10631",
   "metadata": {
    "tags": []
   },
   "outputs": [
    {
     "data": {
      "text/plain": [
       "array([ 5,  1, -4, -4, -2, -5, -5,  4, -2, -3,  0, -1,  1,  2, -1, -1, -3,\n",
       "       -3, -4,  0])"
      ]
     },
     "execution_count": 8,
     "metadata": {},
     "output_type": "execute_result"
    }
   ],
   "source": [
    "import numpy as np\n",
    "np.random.randint(-5,6,size=20)"
   ]
  },
  {
   "attachments": {
    "67d83476-7a94-4461-8081-cfd66a592296.png": {
     "image/png": "[encoded data removed]"
    }
   },
   "cell_type": "markdown",
   "id": "980324e1-76fd-4d17-8838-676807fca487",
   "metadata": {},
   "source": [
    "![image.png](attachment:67d83476-7a94-4461-8081-cfd66a592296.png)"
   ]
  },
  {
   "cell_type": "code",
   "execution_count": 1,
   "id": "642afcb6-17d2-4dab-95ee-0100b579dead",
   "metadata": {
    "tags": []
   },
   "outputs": [
    {
     "data": {
      "text/latex": [
       "$\\displaystyle \\frac{1}{4}$"
      ],
      "text/plain": [
       "1/4"
      ]
     },
     "execution_count": 1,
     "metadata": {},
     "output_type": "execute_result"
    }
   ],
   "source": [
    "from sympy.stats import P, Die\n",
    "# 1부터 4의 자연수 확률분포\n",
    "X=Die('X',4)\n",
    "P(X<=1) # X가 1이하일 확률"
   ]
  },
  {
   "cell_type": "code",
   "execution_count": 2,
   "id": "89402662-5df2-4ab3-b4ee-b928da57f3c4",
   "metadata": {
    "tags": []
   },
   "outputs": [
    {
     "data": {
      "text/latex": [
       "$\\displaystyle 1$"
      ],
      "text/plain": [
       "1"
      ]
     },
     "execution_count": 2,
     "metadata": {},
     "output_type": "execute_result"
    }
   ],
   "source": [
    "P(X<=4) # X가 4이하일 확률"
   ]
  },
  {
   "cell_type": "code",
   "execution_count": 3,
   "id": "3d3f72ee-9fd5-48be-b6b1-8fc83502ad27",
   "metadata": {
    "tags": []
   },
   "outputs": [
    {
     "data": {
      "text/plain": [
       "array([[2, 3, 2, 3, 4, 1, 1, 2, 1, 4]])"
      ]
     },
     "execution_count": 3,
     "metadata": {},
     "output_type": "execute_result"
    }
   ],
   "source": [
    "# X의 랜덤 샘플 10개 구하기\n",
    "from sympy.stats import sample\n",
    "\n",
    "sample(X,size=(1,10))"
   ]
  },
  {
   "cell_type": "code",
   "execution_count": 4,
   "id": "05b30a66-89e6-46cc-ac39-9eb814884ca1",
   "metadata": {
    "tags": []
   },
   "outputs": [
    {
     "data": {
      "text/plain": [
       "[4, 3, 2, 3, 3, 3, 3, 1, 4, 4]"
      ]
     },
     "execution_count": 4,
     "metadata": {},
     "output_type": "execute_result"
    }
   ],
   "source": [
    "# X의 랜덤 샘플 10개 구하기 (다른 방법)\n",
    "from sympy.stats import sample\n",
    "\n",
    "samples=[sample(X) for _ in range(10)]\n",
    "samples"
   ]
  },
  {
   "cell_type": "code",
   "execution_count": 5,
   "id": "1ecc66a0-7db6-4ffc-b094-1d6d8d7c0ba5",
   "metadata": {
    "tags": []
   },
   "outputs": [
    {
     "data": {
      "text/latex": [
       "$\\displaystyle \\begin{cases} \\frac{1}{4} & \\text{for}\\: k \\leq 4 \\\\0 & \\text{otherwise} \\end{cases}$"
      ],
      "text/plain": [
       "Piecewise((1/4, k <= 4), (0, True))"
      ]
     },
     "execution_count": 5,
     "metadata": {},
     "output_type": "execute_result"
    }
   ],
   "source": [
    "# 확률밀도 함수 표현하기\n",
    "from sympy.stats import density\n",
    "from sympy import symbols\n",
    "\n",
    "k=symbols('k',positive=True, integer=True)\n",
    "f=lambda k: density(X)(k)\n",
    "f(k)"
   ]
  },
  {
   "cell_type": "code",
   "execution_count": 6,
   "id": "e2ce515b-018a-41cd-88ee-0ef4af60be89",
   "metadata": {
    "tags": []
   },
   "outputs": [
    {
     "data": {
      "text/latex": [
       "$\\displaystyle \\frac{5}{2}$"
      ],
      "text/plain": [
       "5/2"
      ]
     },
     "execution_count": 6,
     "metadata": {},
     "output_type": "execute_result"
    }
   ],
   "source": [
    "# 평균과 분산\n",
    "from sympy.stats import E, variance\n",
    "\n",
    "E(X) # 평균"
   ]
  },
  {
   "cell_type": "code",
   "execution_count": 7,
   "id": "e92f0560-1556-498c-903e-f83c7f72634a",
   "metadata": {
    "tags": []
   },
   "outputs": [
    {
     "data": {
      "text/latex": [
       "$\\displaystyle \\frac{5}{4}$"
      ],
      "text/plain": [
       "5/4"
      ]
     },
     "execution_count": 7,
     "metadata": {},
     "output_type": "execute_result"
    }
   ],
   "source": [
    "variance(X) # 분산"
   ]
  },
  {
   "cell_type": "code",
   "execution_count": 10,
   "id": "4e0895b9-a173-44eb-a99a-e9b0465f8817",
   "metadata": {
    "tags": []
   },
   "outputs": [
    {
     "data": {
      "text/latex": [
       "$\\displaystyle \\frac{5}{18}$"
      ],
      "text/plain": [
       "5/18"
      ]
     },
     "execution_count": 10,
     "metadata": {},
     "output_type": "execute_result"
    }
   ],
   "source": [
    "from sympy.stats import P, Die\n",
    "\n",
    "# 두 개의 주사위를 정의합니다.\n",
    "D1 = Die('D1', 6)\n",
    "D2 = Die('D2', 6)\n",
    "\n",
    "# D1과 D2의 합이 8보다 클 확률\n",
    "P(D1 + D2 > 8)"
   ]
  },
  {
   "cell_type": "code",
   "execution_count": 7,
   "id": "1307acc7-7c62-42f5-a31b-2ec846e4c1c0",
   "metadata": {
    "tags": []
   },
   "outputs": [
    {
     "data": {
      "text/plain": [
       "36"
      ]
     },
     "execution_count": 7,
     "metadata": {},
     "output_type": "execute_result"
    }
   ],
   "source": [
    "# 검증\n",
    "# 주사위의 순서쌍 만들기\n",
    "dies=[(d1,d2) for d1 in range(1,7) for d2 in range(1,7)]\n",
    "len(dies) # 전체 사건의 수"
   ]
  },
  {
   "cell_type": "code",
   "execution_count": 8,
   "id": "a8a9a04c-fccc-4ec6-9f05-621ce238b7d0",
   "metadata": {
    "tags": []
   },
   "outputs": [
    {
     "data": {
      "text/plain": [
       "10"
      ]
     },
     "execution_count": 8,
     "metadata": {},
     "output_type": "execute_result"
    }
   ],
   "source": [
    "# (d1 + d2) > 8 인 경우 출력\n",
    "result = [(d1, d2) for d1, d2 in dies if (d1 + d2) > 8]\n",
    "len(result)"
   ]
  },
  {
   "attachments": {
    "e951d348-343f-4fd3-9c08-b4476511690f.png": {
     "image/png": "[encoded data removed]"
    }
   },
   "cell_type": "markdown",
   "id": "ab94a795-395d-4d12-bd5d-ea65d3348e70",
   "metadata": {},
   "source": [
    "![image.png](attachment:e951d348-343f-4fd3-9c08-b4476511690f.png)"
   ]
  },
  {
   "cell_type": "code",
   "execution_count": 12,
   "id": "839430dd-f142-4a85-8012-7f6898128138",
   "metadata": {
    "tags": []
   },
   "outputs": [
    {
     "data": {
      "text/plain": [
       "3"
      ]
     },
     "execution_count": 12,
     "metadata": {},
     "output_type": "execute_result"
    }
   ],
   "source": [
    "# d1=5이고, (d1 + d2) > 8 인 경우 출력\n",
    "result = [(d1, d2) for d1,d2 in dies if (d1 + d2) > 8 and d1==5]\n",
    "len(result)"
   ]
  },
  {
   "cell_type": "code",
   "execution_count": 13,
   "id": "eeddf9f0-5e16-46d7-8fc4-432eade72329",
   "metadata": {
    "tags": []
   },
   "outputs": [
    {
     "data": {
      "text/latex": [
       "$\\displaystyle \\frac{1}{2}$"
      ],
      "text/plain": [
       "1/2"
      ]
     },
     "execution_count": 13,
     "metadata": {},
     "output_type": "execute_result"
    }
   ],
   "source": [
    "from sympy import Rational\n",
    "Rational(3,36)/Rational(1,6)"
   ]
  },
  {
   "attachments": {
    "6a70be56-8821-4497-96ff-747704bfe514.png": {
     "image/png": "[encoded data removed]"
    }
   },
   "cell_type": "markdown",
   "id": "77c53b2d-6613-4ebd-b715-0e9ea9e4ab85",
   "metadata": {},
   "source": [
    "![image.png](attachment:6a70be56-8821-4497-96ff-747704bfe514.png)"
   ]
  },
  {
   "cell_type": "code",
   "execution_count": 17,
   "id": "45da8b44-c0b3-4111-9184-079987d6b183",
   "metadata": {
    "tags": []
   },
   "outputs": [
    {
     "data": {
      "text/latex": [
       "$\\displaystyle \\frac{3}{5}$"
      ],
      "text/plain": [
       "3/5"
      ]
     },
     "execution_count": 17,
     "metadata": {},
     "output_type": "execute_result"
    }
   ],
   "source": [
    "from sympy.stats import P, Die\n",
    "\n",
    "# 확률변수 정의\n",
    "X = Die('X', 10)\n",
    "\n",
    "P_A=P(X>=5)\n",
    "P_A"
   ]
  },
  {
   "cell_type": "code",
   "execution_count": 18,
   "id": "0f4c0e8b-8a48-4f7e-910a-09ca1cc47aef",
   "metadata": {
    "tags": []
   },
   "outputs": [
    {
     "data": {
      "text/latex": [
       "$\\displaystyle \\frac{1}{10}$"
      ],
      "text/plain": [
       "1/10"
      ]
     },
     "execution_count": 18,
     "metadata": {},
     "output_type": "execute_result"
    }
   ],
   "source": [
    "P_B=P(X>=10)\n",
    "P_B"
   ]
  },
  {
   "cell_type": "code",
   "execution_count": 19,
   "id": "ec9e278c-dc85-4753-89af-702e1c5ce6fa",
   "metadata": {
    "tags": []
   },
   "outputs": [
    {
     "data": {
      "text/latex": [
       "$\\displaystyle \\frac{1}{6}$"
      ],
      "text/plain": [
       "1/6"
      ]
     },
     "execution_count": 19,
     "metadata": {},
     "output_type": "execute_result"
    }
   ],
   "source": [
    "P_B/P_A"
   ]
  },
  {
   "attachments": {
    "9303eae7-cfd3-4ec2-9ad0-068c8ac5d770.png": {
     "image/png": "[encoded data removed]"
    }
   },
   "cell_type": "markdown",
   "id": "63559519-38a8-46df-8a97-cdd39d51795c",
   "metadata": {},
   "source": [
    "![image.png](attachment:9303eae7-cfd3-4ec2-9ad0-068c8ac5d770.png)"
   ]
  },
  {
   "cell_type": "code",
   "execution_count": 6,
   "id": "23702b3c-7659-4c10-8c71-3f898bd41114",
   "metadata": {
    "tags": []
   },
   "outputs": [
    {
     "name": "stdout",
     "output_type": "stream",
     "text": [
      "('A', 'B', 'C')\n",
      "('A', 'C', 'B')\n",
      "('B', 'A', 'C')\n",
      "('B', 'C', 'A')\n",
      "('C', 'A', 'B')\n",
      "('C', 'B', 'A')\n"
     ]
    }
   ],
   "source": [
    "import itertools\n",
    "\n",
    "hats=['A','B','C']\n",
    "selected_hats=itertools.permutations(hats)\n",
    "for p in selected_hats:\n",
    "    print(p)"
   ]
  },
  {
   "attachments": {
    "b5f52a5d-a604-4290-8a26-ad7fc4e30edc.png": {
     "image/png": "[encoded data removed]"
    }
   },
   "cell_type": "markdown",
   "id": "a184124e-293c-4f99-9508-1d0e8b014be1",
   "metadata": {},
   "source": [
    "![image.png](attachment:b5f52a5d-a604-4290-8a26-ad7fc4e30edc.png)"
   ]
  },
  {
   "cell_type": "code",
   "execution_count": 13,
   "id": "07b80a85-925b-4887-b776-4e2aa14c4047",
   "metadata": {
    "tags": []
   },
   "outputs": [
    {
     "data": {
      "text/latex": [
       "$\\displaystyle \\frac{1}{6}$"
      ],
      "text/plain": [
       "1/6"
      ]
     },
     "execution_count": 13,
     "metadata": {},
     "output_type": "execute_result"
    }
   ],
   "source": [
    "from sympy.stats import P, Die\n",
    "from sympy import Eq\n",
    "\n",
    "# 두 개의 주사위를 정의합니다.\n",
    "D1 = Die('D1', 6)\n",
    "D2 = Die('D2', 6)\n",
    "\n",
    "# D1과 D2의 합이 7일 확률\n",
    "P(Eq(D1 + D2, 7))"
   ]
  },
  {
   "cell_type": "code",
   "execution_count": 19,
   "id": "fe7bc618-d630-4fe7-b7bb-f47eb783ee73",
   "metadata": {
    "tags": []
   },
   "outputs": [
    {
     "data": {
      "text/latex": [
       "$\\displaystyle 0$"
      ],
      "text/plain": [
       "0"
      ]
     },
     "execution_count": 19,
     "metadata": {},
     "output_type": "execute_result"
    }
   ],
   "source": [
    "P(D1+D2==7)"
   ]
  },
  {
   "cell_type": "code",
   "execution_count": 20,
   "id": "98af7b4d-4a85-40a5-81d4-02100e935fb3",
   "metadata": {
    "tags": []
   },
   "outputs": [
    {
     "data": {
      "text/latex": [
       "$\\displaystyle \\frac{1}{6}$"
      ],
      "text/plain": [
       "1/6"
      ]
     },
     "execution_count": 20,
     "metadata": {},
     "output_type": "execute_result"
    }
   ],
   "source": [
    "P(D1+D2>6)-P(D1+D2>7)"
   ]
  },
  {
   "cell_type": "code",
   "execution_count": 21,
   "id": "617f3a85-3c9a-4d0c-9ffe-ea38b886bb4f",
   "metadata": {
    "tags": []
   },
   "outputs": [
    {
     "data": {
      "text/latex": [
       "$\\displaystyle \\frac{1}{36}$"
      ],
      "text/plain": [
       "1/36"
      ]
     },
     "execution_count": 21,
     "metadata": {},
     "output_type": "execute_result"
    }
   ],
   "source": [
    "P(Eq(D1,4) & Eq(D2,3))"
   ]
  },
  {
   "cell_type": "code",
   "execution_count": 18,
   "id": "a3c7b2ea-d811-434e-9244-bfa4b0607dde",
   "metadata": {
    "tags": []
   },
   "outputs": [
    {
     "data": {
      "text/plain": [
       "[(1, 6), (2, 5), (3, 4), (4, 3), (5, 2), (6, 1)]"
      ]
     },
     "execution_count": 18,
     "metadata": {},
     "output_type": "execute_result"
    }
   ],
   "source": [
    "# (d1 + d2) ==7 인 경우 출력\n",
    "dies=[(d1,d2) for d1 in range(1,7) for d2 in range(1,7)]\n",
    "result = [(d1, d2) for d1, d2 in dies if (d1 + d2) == 7]\n",
    "result"
   ]
  },
  {
   "cell_type": "code",
   "execution_count": 10,
   "id": "f1b51eee-ad05-45d1-a50f-aac97916367d",
   "metadata": {
    "tags": []
   },
   "outputs": [
    {
     "data": {
      "text/latex": [
       "$\\displaystyle \\left\\{A, B, C\\right\\}$"
      ],
      "text/plain": [
       "{A, B, C}"
      ]
     },
     "execution_count": 10,
     "metadata": {},
     "output_type": "execute_result"
    }
   ],
   "source": [
    "from sympy import symbols, Union, Intersection, Complement\n",
    "\n",
    "# 집합 기호 정의\n",
    "A, B, C = symbols('A B C', cls=FiniteSet)\n",
    "\n",
    "# 합집합 A ∪ B ∪ C\n",
    "A_union_B_union_C = Union(A, B, C)\n",
    "\n",
    "# 교집합\n",
    "A_intersect_B = Intersection(A, B)\n",
    "A_intersect_C = Intersection(A, C)\n",
    "B_intersect_C = Intersection(B, C)\n",
    "A_intersect_B_intersect_C = Intersection(A, B, C)\n",
    "A_union_B_union_C"
   ]
  },
  {
   "cell_type": "code",
   "execution_count": 12,
   "id": "1f0c1af7-1e8f-49aa-833d-0d598a3b7cee",
   "metadata": {
    "tags": []
   },
   "outputs": [
    {
     "data": {
      "text/latex": [
       "$\\displaystyle \\left\\{A\\right\\} \\cap \\left\\{B\\right\\}$"
      ],
      "text/plain": [
       "Intersection({A}, {B})"
      ]
     },
     "execution_count": 12,
     "metadata": {},
     "output_type": "execute_result"
    }
   ],
   "source": [
    "Intersection(A,B)"
   ]
  },
  {
   "cell_type": "markdown",
   "id": "97cdb00a-be25-4d3a-849b-5eba947f1072",
   "metadata": {
    "tags": []
   },
   "source": [
    "# 주사위 던지기"
   ]
  },
  {
   "cell_type": "code",
   "execution_count": 8,
   "id": "3f6cfe2a-1b25-40b5-8519-63aabb94c613",
   "metadata": {
    "tags": []
   },
   "outputs": [
    {
     "data": {
      "text/latex": [
       "$\\displaystyle \\begin{cases} \\frac{1}{6} & \\text{for}\\: k \\leq 6 \\\\0 & \\text{otherwise} \\end{cases}$"
      ],
      "text/plain": [
       "Piecewise((1/6, k <= 6), (0, True))"
      ]
     },
     "execution_count": 8,
     "metadata": {},
     "output_type": "execute_result"
    }
   ],
   "source": [
    "from sympy import symbols\n",
    "from sympy.stats import Die, density\n",
    "k=symbols('k',integer=True, positive=True)\n",
    "X=Die('X')\n",
    "density(X)(k) # 확률질량함수 구하기"
   ]
  },
  {
   "cell_type": "code",
   "execution_count": 9,
   "id": "ec409717-1baf-465f-a307-e0bc4db3cc0d",
   "metadata": {
    "tags": []
   },
   "outputs": [
    {
     "data": {
      "text/latex": [
       "$\\displaystyle \\frac{7}{2}$"
      ],
      "text/plain": [
       "7/2"
      ]
     },
     "execution_count": 9,
     "metadata": {},
     "output_type": "execute_result"
    }
   ],
   "source": [
    "from sympy.stats import E, variance\n",
    "E(X) # 평균구하기"
   ]
  },
  {
   "cell_type": "code",
   "execution_count": 10,
   "id": "92c2aa22-cec1-4008-bb62-829471232c0f",
   "metadata": {
    "tags": []
   },
   "outputs": [
    {
     "data": {
      "text/latex": [
       "$\\displaystyle \\frac{35}{12}$"
      ],
      "text/plain": [
       "35/12"
      ]
     },
     "execution_count": 10,
     "metadata": {},
     "output_type": "execute_result"
    }
   ],
   "source": [
    "variance(X) # 분산구하기"
   ]
  },
  {
   "cell_type": "code",
   "execution_count": 11,
   "id": "04966e5a-7f99-4f89-9c3d-08d5cf5a5d83",
   "metadata": {
    "tags": []
   },
   "outputs": [
    {
     "data": {
      "text/plain": [
       "array([[5, 6, 4, 5],\n",
       "       [2, 3, 4, 3],\n",
       "       [3, 4, 5, 1]])"
      ]
     },
     "execution_count": 11,
     "metadata": {},
     "output_type": "execute_result"
    }
   ],
   "source": [
    "# sample 출력\n",
    "from sympy.stats import sample\n",
    "# size 인자는 출력되는 데이터의 형태를 지정해 준다. \n",
    "sample(X,size=(3,4))"
   ]
  },
  {
   "cell_type": "markdown",
   "id": "981da728-6b30-4550-a555-1ef6da13b69d",
   "metadata": {},
   "source": [
    "# 이항분포"
   ]
  },
  {
   "cell_type": "code",
   "execution_count": 36,
   "id": "50a998ba-2627-4e6d-904d-ad171f53cd2b",
   "metadata": {},
   "outputs": [
    {
     "data": {
      "text/latex": [
       "$\\displaystyle 2^{n}$"
      ],
      "text/plain": [
       "2**n"
      ]
     },
     "execution_count": 36,
     "metadata": {},
     "output_type": "execute_result"
    }
   ],
   "source": [
    "from sympy import summation, symbols, binomial \n",
    "n,k=symbols('n k', integer=True,nonnegative=True)\n",
    "p=symbols('p',nonnegative=True)\n",
    "summation(binomial(n,k),(k,0,n))"
   ]
  },
  {
   "cell_type": "code",
   "execution_count": 40,
   "id": "e386b12b-1c5d-4d1d-8b60-71ca9efbe9f1",
   "metadata": {},
   "outputs": [
    {
     "data": {
      "text/latex": [
       "$\\displaystyle \\begin{cases} 1 & \\text{for}\\: \\frac{p}{\\left|{p - 1}\\right|} \\leq 1 \\wedge \\left(n = 0 \\vee n > 0\\right) \\\\\\sum_{k=0}^{n} p^{k} \\left(1 - p\\right)^{- k + n} {\\binom{n}{k}} & \\text{otherwise} \\end{cases}$"
      ],
      "text/plain": [
       "Piecewise((1, (Eq(n, 0) | (n > 0)) & (p/Abs(p - 1) <= 1)), (Sum(p**k*(1 - p)**(-k + n)*binomial(n, k), (k, 0, n)), True))"
      ]
     },
     "execution_count": 40,
     "metadata": {},
     "output_type": "execute_result"
    }
   ],
   "source": [
    "from sympy import summation, symbols, binomial \n",
    "n,k=symbols('n k', integer=True,nonnegative=True)\n",
    "p=symbols('p',nonnegative=True)\n",
    "# 확률이 1이 됨을 증명\n",
    "summation(binomial(n,k)*p**k*(1-p)**(n-k),(k,0,n)).simplify()"
   ]
  },
  {
   "cell_type": "code",
   "execution_count": 41,
   "id": "7af523e6-4024-4064-b590-066cbf17e8f3",
   "metadata": {},
   "outputs": [
    {
     "data": {
      "text/latex": [
       "$\\displaystyle \\begin{cases} n p & \\text{for}\\: \\left(n = 0 \\wedge \\frac{p}{\\left|{p - 1}\\right|} < 1\\right) \\vee \\left(\\frac{p}{\\left|{p - 1}\\right|} \\leq 1 \\wedge n > 0\\right) \\vee \\left(\\frac{p}{\\left|{p - 1}\\right|} \\leq 1 \\wedge n > 1\\right) \\\\n! \\sum_{k=0}^{n} \\frac{p^{k} \\left(1 - p\\right)^{- k + n}}{\\left(- k + n\\right)! \\left(k - 1\\right)!} & \\text{otherwise} \\end{cases}$"
      ],
      "text/plain": [
       "Piecewise((n*p, (Eq(n, 0) & (p/Abs(p - 1) < 1)) | ((n > 0) & (p/Abs(p - 1) <= 1)) | ((n > 1) & (p/Abs(p - 1) <= 1))), (factorial(n)*Sum(p**k*(1 - p)**(-k + n)/(factorial(-k + n)*factorial(k - 1)), (k, 0, n)), True))"
      ]
     },
     "execution_count": 41,
     "metadata": {},
     "output_type": "execute_result"
    }
   ],
   "source": [
    "# 이항분포의 평균 검증\n",
    "summation(k*binomial(n,k)*p**k*(1-p)**(n-k),(k,0,n)).simplify()"
   ]
  },
  {
   "cell_type": "code",
   "execution_count": 43,
   "id": "c62d7e56-0aea-4ba6-b907-616d853ea220",
   "metadata": {
    "collapsed": true,
    "jupyter": {
     "outputs_hidden": true
    }
   },
   "outputs": [
    {
     "ename": "KeyboardInterrupt",
     "evalue": "",
     "output_type": "error",
     "traceback": [
      "\u001b[1;31m---------------------------------------------------------------------------\u001b[0m",
      "\u001b[1;31mKeyError\u001b[0m                                  Traceback (most recent call last)",
      "File \u001b[1;32mC:\\ProgramData\\anaconda3\\Lib\\site-packages\\sympy\\core\\assumptions.py:499\u001b[0m, in \u001b[0;36mmake_property.<locals>.getit\u001b[1;34m(self)\u001b[0m\n\u001b[0;32m    498\u001b[0m \u001b[38;5;28;01mtry\u001b[39;00m:\n\u001b[1;32m--> 499\u001b[0m     \u001b[38;5;28;01mreturn\u001b[39;00m \u001b[38;5;28mself\u001b[39m\u001b[38;5;241m.\u001b[39m_assumptions[fact]\n\u001b[0;32m    500\u001b[0m \u001b[38;5;28;01mexcept\u001b[39;00m \u001b[38;5;167;01mKeyError\u001b[39;00m:\n",
      "\u001b[1;31mKeyError\u001b[0m: 'zero'",
      "\nDuring handling of the above exception, another exception occurred:\n",
      "\u001b[1;31mKeyError\u001b[0m                                  Traceback (most recent call last)",
      "File \u001b[1;32mC:\\ProgramData\\anaconda3\\Lib\\site-packages\\sympy\\core\\assumptions.py:499\u001b[0m, in \u001b[0;36mmake_property.<locals>.getit\u001b[1;34m(self)\u001b[0m\n\u001b[0;32m    498\u001b[0m \u001b[38;5;28;01mtry\u001b[39;00m:\n\u001b[1;32m--> 499\u001b[0m     \u001b[38;5;28;01mreturn\u001b[39;00m \u001b[38;5;28mself\u001b[39m\u001b[38;5;241m.\u001b[39m_assumptions[fact]\n\u001b[0;32m    500\u001b[0m \u001b[38;5;28;01mexcept\u001b[39;00m \u001b[38;5;167;01mKeyError\u001b[39;00m:\n",
      "\u001b[1;31mKeyError\u001b[0m: 'zero'",
      "\nDuring handling of the above exception, another exception occurred:\n",
      "\u001b[1;31mKeyError\u001b[0m                                  Traceback (most recent call last)",
      "File \u001b[1;32mC:\\ProgramData\\anaconda3\\Lib\\site-packages\\sympy\\core\\assumptions.py:499\u001b[0m, in \u001b[0;36mmake_property.<locals>.getit\u001b[1;34m(self)\u001b[0m\n\u001b[0;32m    498\u001b[0m \u001b[38;5;28;01mtry\u001b[39;00m:\n\u001b[1;32m--> 499\u001b[0m     \u001b[38;5;28;01mreturn\u001b[39;00m \u001b[38;5;28mself\u001b[39m\u001b[38;5;241m.\u001b[39m_assumptions[fact]\n\u001b[0;32m    500\u001b[0m \u001b[38;5;28;01mexcept\u001b[39;00m \u001b[38;5;167;01mKeyError\u001b[39;00m:\n",
      "\u001b[1;31mKeyError\u001b[0m: 'zero'",
      "\nDuring handling of the above exception, another exception occurred:\n",
      "\u001b[1;31mKeyError\u001b[0m                                  Traceback (most recent call last)",
      "File \u001b[1;32mC:\\ProgramData\\anaconda3\\Lib\\site-packages\\sympy\\core\\assumptions.py:499\u001b[0m, in \u001b[0;36mmake_property.<locals>.getit\u001b[1;34m(self)\u001b[0m\n\u001b[0;32m    498\u001b[0m \u001b[38;5;28;01mtry\u001b[39;00m:\n\u001b[1;32m--> 499\u001b[0m     \u001b[38;5;28;01mreturn\u001b[39;00m \u001b[38;5;28mself\u001b[39m\u001b[38;5;241m.\u001b[39m_assumptions[fact]\n\u001b[0;32m    500\u001b[0m \u001b[38;5;28;01mexcept\u001b[39;00m \u001b[38;5;167;01mKeyError\u001b[39;00m:\n",
      "\u001b[1;31mKeyError\u001b[0m: 'zero'",
      "\nDuring handling of the above exception, another exception occurred:\n",
      "\u001b[1;31mKeyError\u001b[0m                                  Traceback (most recent call last)",
      "File \u001b[1;32mC:\\ProgramData\\anaconda3\\Lib\\site-packages\\sympy\\core\\assumptions.py:499\u001b[0m, in \u001b[0;36mmake_property.<locals>.getit\u001b[1;34m(self)\u001b[0m\n\u001b[0;32m    498\u001b[0m \u001b[38;5;28;01mtry\u001b[39;00m:\n\u001b[1;32m--> 499\u001b[0m     \u001b[38;5;28;01mreturn\u001b[39;00m \u001b[38;5;28mself\u001b[39m\u001b[38;5;241m.\u001b[39m_assumptions[fact]\n\u001b[0;32m    500\u001b[0m \u001b[38;5;28;01mexcept\u001b[39;00m \u001b[38;5;167;01mKeyError\u001b[39;00m:\n",
      "\u001b[1;31mKeyError\u001b[0m: 'zero'",
      "\nDuring handling of the above exception, another exception occurred:\n",
      "\u001b[1;31mKeyError\u001b[0m                                  Traceback (most recent call last)",
      "File \u001b[1;32mC:\\ProgramData\\anaconda3\\Lib\\site-packages\\sympy\\core\\assumptions.py:499\u001b[0m, in \u001b[0;36mmake_property.<locals>.getit\u001b[1;34m(self)\u001b[0m\n\u001b[0;32m    498\u001b[0m \u001b[38;5;28;01mtry\u001b[39;00m:\n\u001b[1;32m--> 499\u001b[0m     \u001b[38;5;28;01mreturn\u001b[39;00m \u001b[38;5;28mself\u001b[39m\u001b[38;5;241m.\u001b[39m_assumptions[fact]\n\u001b[0;32m    500\u001b[0m \u001b[38;5;28;01mexcept\u001b[39;00m \u001b[38;5;167;01mKeyError\u001b[39;00m:\n",
      "\u001b[1;31mKeyError\u001b[0m: 'zero'",
      "\nDuring handling of the above exception, another exception occurred:\n",
      "\u001b[1;31mKeyError\u001b[0m                                  Traceback (most recent call last)",
      "File \u001b[1;32mC:\\ProgramData\\anaconda3\\Lib\\site-packages\\sympy\\core\\assumptions.py:499\u001b[0m, in \u001b[0;36mmake_property.<locals>.getit\u001b[1;34m(self)\u001b[0m\n\u001b[0;32m    498\u001b[0m \u001b[38;5;28;01mtry\u001b[39;00m:\n\u001b[1;32m--> 499\u001b[0m     \u001b[38;5;28;01mreturn\u001b[39;00m \u001b[38;5;28mself\u001b[39m\u001b[38;5;241m.\u001b[39m_assumptions[fact]\n\u001b[0;32m    500\u001b[0m \u001b[38;5;28;01mexcept\u001b[39;00m \u001b[38;5;167;01mKeyError\u001b[39;00m:\n",
      "\u001b[1;31mKeyError\u001b[0m: 'zero'",
      "\nDuring handling of the above exception, another exception occurred:\n",
      "\u001b[1;31mKeyError\u001b[0m                                  Traceback (most recent call last)",
      "File \u001b[1;32mC:\\ProgramData\\anaconda3\\Lib\\site-packages\\sympy\\core\\assumptions.py:499\u001b[0m, in \u001b[0;36mmake_property.<locals>.getit\u001b[1;34m(self)\u001b[0m\n\u001b[0;32m    498\u001b[0m \u001b[38;5;28;01mtry\u001b[39;00m:\n\u001b[1;32m--> 499\u001b[0m     \u001b[38;5;28;01mreturn\u001b[39;00m \u001b[38;5;28mself\u001b[39m\u001b[38;5;241m.\u001b[39m_assumptions[fact]\n\u001b[0;32m    500\u001b[0m \u001b[38;5;28;01mexcept\u001b[39;00m \u001b[38;5;167;01mKeyError\u001b[39;00m:\n",
      "\u001b[1;31mKeyError\u001b[0m: 'zero'",
      "\nDuring handling of the above exception, another exception occurred:\n",
      "\u001b[1;31mKeyError\u001b[0m                                  Traceback (most recent call last)",
      "File \u001b[1;32mC:\\ProgramData\\anaconda3\\Lib\\site-packages\\sympy\\core\\assumptions.py:499\u001b[0m, in \u001b[0;36mmake_property.<locals>.getit\u001b[1;34m(self)\u001b[0m\n\u001b[0;32m    498\u001b[0m \u001b[38;5;28;01mtry\u001b[39;00m:\n\u001b[1;32m--> 499\u001b[0m     \u001b[38;5;28;01mreturn\u001b[39;00m \u001b[38;5;28mself\u001b[39m\u001b[38;5;241m.\u001b[39m_assumptions[fact]\n\u001b[0;32m    500\u001b[0m \u001b[38;5;28;01mexcept\u001b[39;00m \u001b[38;5;167;01mKeyError\u001b[39;00m:\n",
      "\u001b[1;31mKeyError\u001b[0m: 'zero'",
      "\nDuring handling of the above exception, another exception occurred:\n",
      "\u001b[1;31mKeyError\u001b[0m                                  Traceback (most recent call last)",
      "File \u001b[1;32mC:\\ProgramData\\anaconda3\\Lib\\site-packages\\sympy\\core\\assumptions.py:499\u001b[0m, in \u001b[0;36mmake_property.<locals>.getit\u001b[1;34m(self)\u001b[0m\n\u001b[0;32m    498\u001b[0m \u001b[38;5;28;01mtry\u001b[39;00m:\n\u001b[1;32m--> 499\u001b[0m     \u001b[38;5;28;01mreturn\u001b[39;00m \u001b[38;5;28mself\u001b[39m\u001b[38;5;241m.\u001b[39m_assumptions[fact]\n\u001b[0;32m    500\u001b[0m \u001b[38;5;28;01mexcept\u001b[39;00m \u001b[38;5;167;01mKeyError\u001b[39;00m:\n",
      "\u001b[1;31mKeyError\u001b[0m: 'zero'",
      "\nDuring handling of the above exception, another exception occurred:\n",
      "\u001b[1;31mKeyError\u001b[0m                                  Traceback (most recent call last)",
      "File \u001b[1;32mC:\\ProgramData\\anaconda3\\Lib\\site-packages\\sympy\\core\\assumptions.py:499\u001b[0m, in \u001b[0;36mmake_property.<locals>.getit\u001b[1;34m(self)\u001b[0m\n\u001b[0;32m    498\u001b[0m \u001b[38;5;28;01mtry\u001b[39;00m:\n\u001b[1;32m--> 499\u001b[0m     \u001b[38;5;28;01mreturn\u001b[39;00m \u001b[38;5;28mself\u001b[39m\u001b[38;5;241m.\u001b[39m_assumptions[fact]\n\u001b[0;32m    500\u001b[0m \u001b[38;5;28;01mexcept\u001b[39;00m \u001b[38;5;167;01mKeyError\u001b[39;00m:\n",
      "\u001b[1;31mKeyError\u001b[0m: 'zero'",
      "\nDuring handling of the above exception, another exception occurred:\n",
      "\u001b[1;31mKeyError\u001b[0m                                  Traceback (most recent call last)",
      "File \u001b[1;32mC:\\ProgramData\\anaconda3\\Lib\\site-packages\\sympy\\core\\assumptions.py:499\u001b[0m, in \u001b[0;36mmake_property.<locals>.getit\u001b[1;34m(self)\u001b[0m\n\u001b[0;32m    498\u001b[0m \u001b[38;5;28;01mtry\u001b[39;00m:\n\u001b[1;32m--> 499\u001b[0m     \u001b[38;5;28;01mreturn\u001b[39;00m \u001b[38;5;28mself\u001b[39m\u001b[38;5;241m.\u001b[39m_assumptions[fact]\n\u001b[0;32m    500\u001b[0m \u001b[38;5;28;01mexcept\u001b[39;00m \u001b[38;5;167;01mKeyError\u001b[39;00m:\n",
      "\u001b[1;31mKeyError\u001b[0m: 'zero'",
      "\nDuring handling of the above exception, another exception occurred:\n",
      "\u001b[1;31mKeyError\u001b[0m                                  Traceback (most recent call last)",
      "File \u001b[1;32mC:\\ProgramData\\anaconda3\\Lib\\site-packages\\sympy\\core\\assumptions.py:499\u001b[0m, in \u001b[0;36mmake_property.<locals>.getit\u001b[1;34m(self)\u001b[0m\n\u001b[0;32m    498\u001b[0m \u001b[38;5;28;01mtry\u001b[39;00m:\n\u001b[1;32m--> 499\u001b[0m     \u001b[38;5;28;01mreturn\u001b[39;00m \u001b[38;5;28mself\u001b[39m\u001b[38;5;241m.\u001b[39m_assumptions[fact]\n\u001b[0;32m    500\u001b[0m \u001b[38;5;28;01mexcept\u001b[39;00m \u001b[38;5;167;01mKeyError\u001b[39;00m:\n",
      "\u001b[1;31mKeyError\u001b[0m: 'zero'",
      "\nDuring handling of the above exception, another exception occurred:\n",
      "\u001b[1;31mKeyError\u001b[0m                                  Traceback (most recent call last)",
      "File \u001b[1;32mC:\\ProgramData\\anaconda3\\Lib\\site-packages\\sympy\\core\\assumptions.py:499\u001b[0m, in \u001b[0;36mmake_property.<locals>.getit\u001b[1;34m(self)\u001b[0m\n\u001b[0;32m    498\u001b[0m \u001b[38;5;28;01mtry\u001b[39;00m:\n\u001b[1;32m--> 499\u001b[0m     \u001b[38;5;28;01mreturn\u001b[39;00m \u001b[38;5;28mself\u001b[39m\u001b[38;5;241m.\u001b[39m_assumptions[fact]\n\u001b[0;32m    500\u001b[0m \u001b[38;5;28;01mexcept\u001b[39;00m \u001b[38;5;167;01mKeyError\u001b[39;00m:\n",
      "\u001b[1;31mKeyError\u001b[0m: 'zero'",
      "\nDuring handling of the above exception, another exception occurred:\n",
      "\u001b[1;31mKeyError\u001b[0m                                  Traceback (most recent call last)",
      "File \u001b[1;32mC:\\ProgramData\\anaconda3\\Lib\\site-packages\\sympy\\core\\assumptions.py:499\u001b[0m, in \u001b[0;36mmake_property.<locals>.getit\u001b[1;34m(self)\u001b[0m\n\u001b[0;32m    498\u001b[0m \u001b[38;5;28;01mtry\u001b[39;00m:\n\u001b[1;32m--> 499\u001b[0m     \u001b[38;5;28;01mreturn\u001b[39;00m \u001b[38;5;28mself\u001b[39m\u001b[38;5;241m.\u001b[39m_assumptions[fact]\n\u001b[0;32m    500\u001b[0m \u001b[38;5;28;01mexcept\u001b[39;00m \u001b[38;5;167;01mKeyError\u001b[39;00m:\n",
      "\u001b[1;31mKeyError\u001b[0m: 'zero'",
      "\nDuring handling of the above exception, another exception occurred:\n",
      "\u001b[1;31mKeyError\u001b[0m                                  Traceback (most recent call last)",
      "File \u001b[1;32mC:\\ProgramData\\anaconda3\\Lib\\site-packages\\sympy\\core\\assumptions.py:499\u001b[0m, in \u001b[0;36mmake_property.<locals>.getit\u001b[1;34m(self)\u001b[0m\n\u001b[0;32m    498\u001b[0m \u001b[38;5;28;01mtry\u001b[39;00m:\n\u001b[1;32m--> 499\u001b[0m     \u001b[38;5;28;01mreturn\u001b[39;00m \u001b[38;5;28mself\u001b[39m\u001b[38;5;241m.\u001b[39m_assumptions[fact]\n\u001b[0;32m    500\u001b[0m \u001b[38;5;28;01mexcept\u001b[39;00m \u001b[38;5;167;01mKeyError\u001b[39;00m:\n",
      "\u001b[1;31mKeyError\u001b[0m: 'zero'",
      "\nDuring handling of the above exception, another exception occurred:\n",
      "\u001b[1;31mKeyError\u001b[0m                                  Traceback (most recent call last)",
      "File \u001b[1;32mC:\\ProgramData\\anaconda3\\Lib\\site-packages\\sympy\\core\\assumptions.py:499\u001b[0m, in \u001b[0;36mmake_property.<locals>.getit\u001b[1;34m(self)\u001b[0m\n\u001b[0;32m    498\u001b[0m \u001b[38;5;28;01mtry\u001b[39;00m:\n\u001b[1;32m--> 499\u001b[0m     \u001b[38;5;28;01mreturn\u001b[39;00m \u001b[38;5;28mself\u001b[39m\u001b[38;5;241m.\u001b[39m_assumptions[fact]\n\u001b[0;32m    500\u001b[0m \u001b[38;5;28;01mexcept\u001b[39;00m \u001b[38;5;167;01mKeyError\u001b[39;00m:\n",
      "\u001b[1;31mKeyError\u001b[0m: 'zero'",
      "\nDuring handling of the above exception, another exception occurred:\n",
      "\u001b[1;31mKeyError\u001b[0m                                  Traceback (most recent call last)",
      "File \u001b[1;32mC:\\ProgramData\\anaconda3\\Lib\\site-packages\\sympy\\core\\assumptions.py:499\u001b[0m, in \u001b[0;36mmake_property.<locals>.getit\u001b[1;34m(self)\u001b[0m\n\u001b[0;32m    498\u001b[0m \u001b[38;5;28;01mtry\u001b[39;00m:\n\u001b[1;32m--> 499\u001b[0m     \u001b[38;5;28;01mreturn\u001b[39;00m \u001b[38;5;28mself\u001b[39m\u001b[38;5;241m.\u001b[39m_assumptions[fact]\n\u001b[0;32m    500\u001b[0m \u001b[38;5;28;01mexcept\u001b[39;00m \u001b[38;5;167;01mKeyError\u001b[39;00m:\n",
      "\u001b[1;31mKeyError\u001b[0m: 'zero'",
      "\nDuring handling of the above exception, another exception occurred:\n",
      "\u001b[1;31mKeyError\u001b[0m                                  Traceback (most recent call last)",
      "File \u001b[1;32mC:\\ProgramData\\anaconda3\\Lib\\site-packages\\sympy\\core\\assumptions.py:499\u001b[0m, in \u001b[0;36mmake_property.<locals>.getit\u001b[1;34m(self)\u001b[0m\n\u001b[0;32m    498\u001b[0m \u001b[38;5;28;01mtry\u001b[39;00m:\n\u001b[1;32m--> 499\u001b[0m     \u001b[38;5;28;01mreturn\u001b[39;00m \u001b[38;5;28mself\u001b[39m\u001b[38;5;241m.\u001b[39m_assumptions[fact]\n\u001b[0;32m    500\u001b[0m \u001b[38;5;28;01mexcept\u001b[39;00m \u001b[38;5;167;01mKeyError\u001b[39;00m:\n",
      "\u001b[1;31mKeyError\u001b[0m: 'zero'",
      "\nDuring handling of the above exception, another exception occurred:\n",
      "\u001b[1;31mKeyError\u001b[0m                                  Traceback (most recent call last)",
      "File \u001b[1;32mC:\\ProgramData\\anaconda3\\Lib\\site-packages\\sympy\\core\\assumptions.py:499\u001b[0m, in \u001b[0;36mmake_property.<locals>.getit\u001b[1;34m(self)\u001b[0m\n\u001b[0;32m    498\u001b[0m \u001b[38;5;28;01mtry\u001b[39;00m:\n\u001b[1;32m--> 499\u001b[0m     \u001b[38;5;28;01mreturn\u001b[39;00m \u001b[38;5;28mself\u001b[39m\u001b[38;5;241m.\u001b[39m_assumptions[fact]\n\u001b[0;32m    500\u001b[0m \u001b[38;5;28;01mexcept\u001b[39;00m \u001b[38;5;167;01mKeyError\u001b[39;00m:\n",
      "\u001b[1;31mKeyError\u001b[0m: 'zero'",
      "\nDuring handling of the above exception, another exception occurred:\n",
      "\u001b[1;31mKeyboardInterrupt\u001b[0m                         Traceback (most recent call last)",
      "Cell \u001b[1;32mIn[43], line 2\u001b[0m\n\u001b[0;32m      1\u001b[0m \u001b[38;5;66;03m# E(X(X-1)) 계산\u001b[39;00m\n\u001b[1;32m----> 2\u001b[0m summation(k\u001b[38;5;241m*\u001b[39m(k\u001b[38;5;241m-\u001b[39m\u001b[38;5;241m1\u001b[39m)\u001b[38;5;241m*\u001b[39mbinomial(n,k)\u001b[38;5;241m*\u001b[39mp\u001b[38;5;241m*\u001b[39m\u001b[38;5;241m*\u001b[39mk\u001b[38;5;241m*\u001b[39m(\u001b[38;5;241m1\u001b[39m\u001b[38;5;241m-\u001b[39mp)\u001b[38;5;241m*\u001b[39m\u001b[38;5;241m*\u001b[39m(n\u001b[38;5;241m-\u001b[39mk),(k,\u001b[38;5;241m1\u001b[39m,n))\u001b[38;5;241m.\u001b[39msimplify()\n",
      "File \u001b[1;32mC:\\ProgramData\\anaconda3\\Lib\\site-packages\\sympy\\core\\basic.py:1853\u001b[0m, in \u001b[0;36mBasic.simplify\u001b[1;34m(self, **kwargs)\u001b[0m\n\u001b[0;32m   1851\u001b[0m \u001b[38;5;250m\u001b[39m\u001b[38;5;124;03m\"\"\"See the simplify function in sympy.simplify\"\"\"\u001b[39;00m\n\u001b[0;32m   1852\u001b[0m \u001b[38;5;28;01mfrom\u001b[39;00m \u001b[38;5;21;01msympy\u001b[39;00m\u001b[38;5;21;01m.\u001b[39;00m\u001b[38;5;21;01msimplify\u001b[39;00m\u001b[38;5;21;01m.\u001b[39;00m\u001b[38;5;21;01msimplify\u001b[39;00m \u001b[38;5;28;01mimport\u001b[39;00m simplify\n\u001b[1;32m-> 1853\u001b[0m \u001b[38;5;28;01mreturn\u001b[39;00m simplify(\u001b[38;5;28mself\u001b[39m, \u001b[38;5;241m*\u001b[39m\u001b[38;5;241m*\u001b[39mkwargs)\n",
      "File \u001b[1;32mC:\\ProgramData\\anaconda3\\Lib\\site-packages\\sympy\\simplify\\simplify.py:666\u001b[0m, in \u001b[0;36msimplify\u001b[1;34m(expr, ratio, measure, rational, inverse, doit, **kwargs)\u001b[0m\n\u001b[0;32m    664\u001b[0m expr \u001b[38;5;241m=\u001b[39m piecewise_fold(expr)\n\u001b[0;32m    665\u001b[0m \u001b[38;5;66;03m# Apply doit, if doit=True\u001b[39;00m\n\u001b[1;32m--> 666\u001b[0m expr \u001b[38;5;241m=\u001b[39m done(expr)\n\u001b[0;32m    667\u001b[0m \u001b[38;5;66;03m# Still a Piecewise?\u001b[39;00m\n\u001b[0;32m    668\u001b[0m \u001b[38;5;28;01mif\u001b[39;00m expr\u001b[38;5;241m.\u001b[39mhas(Piecewise):\n\u001b[0;32m    669\u001b[0m     \u001b[38;5;66;03m# Fold into a single Piecewise, in case doit lead to some\u001b[39;00m\n\u001b[0;32m    670\u001b[0m     \u001b[38;5;66;03m# expressions being Piecewise\u001b[39;00m\n",
      "File \u001b[1;32mC:\\ProgramData\\anaconda3\\Lib\\site-packages\\sympy\\simplify\\simplify.py:585\u001b[0m, in \u001b[0;36msimplify.<locals>.done\u001b[1;34m(e)\u001b[0m\n\u001b[0;32m    584\u001b[0m \u001b[38;5;28;01mdef\u001b[39;00m \u001b[38;5;21mdone\u001b[39m(e):\n\u001b[1;32m--> 585\u001b[0m     rv \u001b[38;5;241m=\u001b[39m e\u001b[38;5;241m.\u001b[39mdoit() \u001b[38;5;28;01mif\u001b[39;00m doit \u001b[38;5;28;01melse\u001b[39;00m e\n\u001b[0;32m    586\u001b[0m     \u001b[38;5;28;01mreturn\u001b[39;00m shorter(rv, collect_abs(rv))\n",
      "File \u001b[1;32mC:\\ProgramData\\anaconda3\\Lib\\site-packages\\sympy\\functions\\elementary\\piecewise.py:213\u001b[0m, in \u001b[0;36mPiecewise.doit\u001b[1;34m(self, **hints)\u001b[0m\n\u001b[0;32m    211\u001b[0m \u001b[38;5;28;01mif\u001b[39;00m hints\u001b[38;5;241m.\u001b[39mget(\u001b[38;5;124m'\u001b[39m\u001b[38;5;124mdeep\u001b[39m\u001b[38;5;124m'\u001b[39m, \u001b[38;5;28;01mTrue\u001b[39;00m):\n\u001b[0;32m    212\u001b[0m     \u001b[38;5;28;01mif\u001b[39;00m \u001b[38;5;28misinstance\u001b[39m(e, Basic):\n\u001b[1;32m--> 213\u001b[0m         newe \u001b[38;5;241m=\u001b[39m e\u001b[38;5;241m.\u001b[39mdoit(\u001b[38;5;241m*\u001b[39m\u001b[38;5;241m*\u001b[39mhints)\n\u001b[0;32m    214\u001b[0m         \u001b[38;5;28;01mif\u001b[39;00m newe \u001b[38;5;241m!=\u001b[39m \u001b[38;5;28mself\u001b[39m:\n\u001b[0;32m    215\u001b[0m             e \u001b[38;5;241m=\u001b[39m newe\n",
      "File \u001b[1;32mC:\\ProgramData\\anaconda3\\Lib\\site-packages\\sympy\\core\\operations.py:455\u001b[0m, in \u001b[0;36mAssocOp.doit\u001b[1;34m(self, **hints)\u001b[0m\n\u001b[0;32m    453\u001b[0m \u001b[38;5;28;01mdef\u001b[39;00m \u001b[38;5;21mdoit\u001b[39m(\u001b[38;5;28mself\u001b[39m, \u001b[38;5;241m*\u001b[39m\u001b[38;5;241m*\u001b[39mhints):\n\u001b[0;32m    454\u001b[0m     \u001b[38;5;28;01mif\u001b[39;00m hints\u001b[38;5;241m.\u001b[39mget(\u001b[38;5;124m'\u001b[39m\u001b[38;5;124mdeep\u001b[39m\u001b[38;5;124m'\u001b[39m, \u001b[38;5;28;01mTrue\u001b[39;00m):\n\u001b[1;32m--> 455\u001b[0m         terms \u001b[38;5;241m=\u001b[39m [term\u001b[38;5;241m.\u001b[39mdoit(\u001b[38;5;241m*\u001b[39m\u001b[38;5;241m*\u001b[39mhints) \u001b[38;5;28;01mfor\u001b[39;00m term \u001b[38;5;129;01min\u001b[39;00m \u001b[38;5;28mself\u001b[39m\u001b[38;5;241m.\u001b[39margs]\n\u001b[0;32m    456\u001b[0m     \u001b[38;5;28;01melse\u001b[39;00m:\n\u001b[0;32m    457\u001b[0m         terms \u001b[38;5;241m=\u001b[39m \u001b[38;5;28mself\u001b[39m\u001b[38;5;241m.\u001b[39margs\n",
      "File \u001b[1;32mC:\\ProgramData\\anaconda3\\Lib\\site-packages\\sympy\\core\\operations.py:455\u001b[0m, in \u001b[0;36m<listcomp>\u001b[1;34m(.0)\u001b[0m\n\u001b[0;32m    453\u001b[0m \u001b[38;5;28;01mdef\u001b[39;00m \u001b[38;5;21mdoit\u001b[39m(\u001b[38;5;28mself\u001b[39m, \u001b[38;5;241m*\u001b[39m\u001b[38;5;241m*\u001b[39mhints):\n\u001b[0;32m    454\u001b[0m     \u001b[38;5;28;01mif\u001b[39;00m hints\u001b[38;5;241m.\u001b[39mget(\u001b[38;5;124m'\u001b[39m\u001b[38;5;124mdeep\u001b[39m\u001b[38;5;124m'\u001b[39m, \u001b[38;5;28;01mTrue\u001b[39;00m):\n\u001b[1;32m--> 455\u001b[0m         terms \u001b[38;5;241m=\u001b[39m [term\u001b[38;5;241m.\u001b[39mdoit(\u001b[38;5;241m*\u001b[39m\u001b[38;5;241m*\u001b[39mhints) \u001b[38;5;28;01mfor\u001b[39;00m term \u001b[38;5;129;01min\u001b[39;00m \u001b[38;5;28mself\u001b[39m\u001b[38;5;241m.\u001b[39margs]\n\u001b[0;32m    456\u001b[0m     \u001b[38;5;28;01melse\u001b[39;00m:\n\u001b[0;32m    457\u001b[0m         terms \u001b[38;5;241m=\u001b[39m \u001b[38;5;28mself\u001b[39m\u001b[38;5;241m.\u001b[39margs\n",
      "File \u001b[1;32mC:\\ProgramData\\anaconda3\\Lib\\site-packages\\sympy\\core\\operations.py:455\u001b[0m, in \u001b[0;36mAssocOp.doit\u001b[1;34m(self, **hints)\u001b[0m\n\u001b[0;32m    453\u001b[0m \u001b[38;5;28;01mdef\u001b[39;00m \u001b[38;5;21mdoit\u001b[39m(\u001b[38;5;28mself\u001b[39m, \u001b[38;5;241m*\u001b[39m\u001b[38;5;241m*\u001b[39mhints):\n\u001b[0;32m    454\u001b[0m     \u001b[38;5;28;01mif\u001b[39;00m hints\u001b[38;5;241m.\u001b[39mget(\u001b[38;5;124m'\u001b[39m\u001b[38;5;124mdeep\u001b[39m\u001b[38;5;124m'\u001b[39m, \u001b[38;5;28;01mTrue\u001b[39;00m):\n\u001b[1;32m--> 455\u001b[0m         terms \u001b[38;5;241m=\u001b[39m [term\u001b[38;5;241m.\u001b[39mdoit(\u001b[38;5;241m*\u001b[39m\u001b[38;5;241m*\u001b[39mhints) \u001b[38;5;28;01mfor\u001b[39;00m term \u001b[38;5;129;01min\u001b[39;00m \u001b[38;5;28mself\u001b[39m\u001b[38;5;241m.\u001b[39margs]\n\u001b[0;32m    456\u001b[0m     \u001b[38;5;28;01melse\u001b[39;00m:\n\u001b[0;32m    457\u001b[0m         terms \u001b[38;5;241m=\u001b[39m \u001b[38;5;28mself\u001b[39m\u001b[38;5;241m.\u001b[39margs\n",
      "File \u001b[1;32mC:\\ProgramData\\anaconda3\\Lib\\site-packages\\sympy\\core\\operations.py:455\u001b[0m, in \u001b[0;36m<listcomp>\u001b[1;34m(.0)\u001b[0m\n\u001b[0;32m    453\u001b[0m \u001b[38;5;28;01mdef\u001b[39;00m \u001b[38;5;21mdoit\u001b[39m(\u001b[38;5;28mself\u001b[39m, \u001b[38;5;241m*\u001b[39m\u001b[38;5;241m*\u001b[39mhints):\n\u001b[0;32m    454\u001b[0m     \u001b[38;5;28;01mif\u001b[39;00m hints\u001b[38;5;241m.\u001b[39mget(\u001b[38;5;124m'\u001b[39m\u001b[38;5;124mdeep\u001b[39m\u001b[38;5;124m'\u001b[39m, \u001b[38;5;28;01mTrue\u001b[39;00m):\n\u001b[1;32m--> 455\u001b[0m         terms \u001b[38;5;241m=\u001b[39m [term\u001b[38;5;241m.\u001b[39mdoit(\u001b[38;5;241m*\u001b[39m\u001b[38;5;241m*\u001b[39mhints) \u001b[38;5;28;01mfor\u001b[39;00m term \u001b[38;5;129;01min\u001b[39;00m \u001b[38;5;28mself\u001b[39m\u001b[38;5;241m.\u001b[39margs]\n\u001b[0;32m    456\u001b[0m     \u001b[38;5;28;01melse\u001b[39;00m:\n\u001b[0;32m    457\u001b[0m         terms \u001b[38;5;241m=\u001b[39m \u001b[38;5;28mself\u001b[39m\u001b[38;5;241m.\u001b[39margs\n",
      "File \u001b[1;32mC:\\ProgramData\\anaconda3\\Lib\\site-packages\\sympy\\concrete\\summations.py:252\u001b[0m, in \u001b[0;36mSum.doit\u001b[1;34m(self, **hints)\u001b[0m\n\u001b[0;32m    249\u001b[0m     a, b \u001b[38;5;241m=\u001b[39m b \u001b[38;5;241m+\u001b[39m \u001b[38;5;241m1\u001b[39m, a \u001b[38;5;241m-\u001b[39m \u001b[38;5;241m1\u001b[39m\n\u001b[0;32m    250\u001b[0m     f \u001b[38;5;241m=\u001b[39m \u001b[38;5;241m-\u001b[39mf\n\u001b[1;32m--> 252\u001b[0m newf \u001b[38;5;241m=\u001b[39m eval_sum(f, (i, a, b))\n\u001b[0;32m    253\u001b[0m \u001b[38;5;28;01mif\u001b[39;00m newf \u001b[38;5;129;01mis\u001b[39;00m \u001b[38;5;28;01mNone\u001b[39;00m:\n\u001b[0;32m    254\u001b[0m     \u001b[38;5;28;01mif\u001b[39;00m f \u001b[38;5;241m==\u001b[39m \u001b[38;5;28mself\u001b[39m\u001b[38;5;241m.\u001b[39mfunction:\n",
      "File \u001b[1;32mC:\\ProgramData\\anaconda3\\Lib\\site-packages\\sympy\\concrete\\summations.py:1048\u001b[0m, in \u001b[0;36meval_sum\u001b[1;34m(f, limits)\u001b[0m\n\u001b[0;32m   1045\u001b[0m     \u001b[38;5;28;01mreturn\u001b[39;00m \u001b[38;5;28;01mNone\u001b[39;00m\n\u001b[0;32m   1046\u001b[0m \u001b[38;5;66;03m# Try to do it symbolically. Even when the number of terms is\u001b[39;00m\n\u001b[0;32m   1047\u001b[0m \u001b[38;5;66;03m# known, this can save time when b-a is big.\u001b[39;00m\n\u001b[1;32m-> 1048\u001b[0m value \u001b[38;5;241m=\u001b[39m eval_sum_symbolic(f\u001b[38;5;241m.\u001b[39mexpand(), (i, a, b))\n\u001b[0;32m   1049\u001b[0m \u001b[38;5;28;01mif\u001b[39;00m value \u001b[38;5;129;01mis\u001b[39;00m \u001b[38;5;129;01mnot\u001b[39;00m \u001b[38;5;28;01mNone\u001b[39;00m:\n\u001b[0;32m   1050\u001b[0m     \u001b[38;5;28;01mreturn\u001b[39;00m value\n",
      "File \u001b[1;32mC:\\ProgramData\\anaconda3\\Lib\\site-packages\\sympy\\concrete\\summations.py:1252\u001b[0m, in \u001b[0;36meval_sum_symbolic\u001b[1;34m(f, limits)\u001b[0m\n\u001b[0;32m   1249\u001b[0m     \u001b[38;5;28;01mif\u001b[39;00m r \u001b[38;5;129;01mnot\u001b[39;00m \u001b[38;5;129;01min\u001b[39;00m (\u001b[38;5;28;01mNone\u001b[39;00m, S\u001b[38;5;241m.\u001b[39mNaN):\n\u001b[0;32m   1250\u001b[0m         \u001b[38;5;28;01mreturn\u001b[39;00m r\n\u001b[1;32m-> 1252\u001b[0m h \u001b[38;5;241m=\u001b[39m eval_sum_hyper(f_orig, (i, a, b))\n\u001b[0;32m   1253\u001b[0m \u001b[38;5;28;01mif\u001b[39;00m h \u001b[38;5;129;01mis\u001b[39;00m \u001b[38;5;129;01mnot\u001b[39;00m \u001b[38;5;28;01mNone\u001b[39;00m:\n\u001b[0;32m   1254\u001b[0m     \u001b[38;5;28;01mreturn\u001b[39;00m h\n",
      "File \u001b[1;32mC:\\ProgramData\\anaconda3\\Lib\\site-packages\\sympy\\concrete\\summations.py:1343\u001b[0m, in \u001b[0;36meval_sum_hyper\u001b[1;34m(f, i_a_b)\u001b[0m\n\u001b[0;32m   1341\u001b[0m \u001b[38;5;28;01mif\u001b[39;00m res1 \u001b[38;5;129;01mis\u001b[39;00m \u001b[38;5;28;01mNone\u001b[39;00m \u001b[38;5;129;01mor\u001b[39;00m n_illegal(res1) \u001b[38;5;241m>\u001b[39m had:\n\u001b[0;32m   1342\u001b[0m     \u001b[38;5;28;01mreturn\u001b[39;00m\n\u001b[1;32m-> 1343\u001b[0m res2 \u001b[38;5;241m=\u001b[39m _eval_sum_hyper(f, i, b \u001b[38;5;241m+\u001b[39m \u001b[38;5;241m1\u001b[39m)\n\u001b[0;32m   1344\u001b[0m \u001b[38;5;28;01mif\u001b[39;00m res2 \u001b[38;5;129;01mis\u001b[39;00m \u001b[38;5;28;01mNone\u001b[39;00m \u001b[38;5;129;01mor\u001b[39;00m n_illegal(res2) \u001b[38;5;241m>\u001b[39m had:\n\u001b[0;32m   1345\u001b[0m     \u001b[38;5;28;01mreturn\u001b[39;00m\n",
      "File \u001b[1;32mC:\\ProgramData\\anaconda3\\Lib\\site-packages\\sympy\\concrete\\summations.py:1268\u001b[0m, in \u001b[0;36m_eval_sum_hyper\u001b[1;34m(f, i, a)\u001b[0m\n\u001b[0;32m   1266\u001b[0m \u001b[38;5;250m\u001b[39m\u001b[38;5;124;03m\"\"\" Returns (res, cond). Sums from a to oo. \"\"\"\u001b[39;00m\n\u001b[0;32m   1267\u001b[0m \u001b[38;5;28;01mif\u001b[39;00m a \u001b[38;5;241m!=\u001b[39m \u001b[38;5;241m0\u001b[39m:\n\u001b[1;32m-> 1268\u001b[0m     \u001b[38;5;28;01mreturn\u001b[39;00m _eval_sum_hyper(f\u001b[38;5;241m.\u001b[39msubs(i, i \u001b[38;5;241m+\u001b[39m a), i, \u001b[38;5;241m0\u001b[39m)\n\u001b[0;32m   1270\u001b[0m \u001b[38;5;28;01mif\u001b[39;00m f\u001b[38;5;241m.\u001b[39msubs(i, \u001b[38;5;241m0\u001b[39m) \u001b[38;5;241m==\u001b[39m \u001b[38;5;241m0\u001b[39m:\n\u001b[0;32m   1271\u001b[0m     \u001b[38;5;28;01mfrom\u001b[39;00m \u001b[38;5;21;01msympy\u001b[39;00m\u001b[38;5;21;01m.\u001b[39;00m\u001b[38;5;21;01msimplify\u001b[39;00m\u001b[38;5;21;01m.\u001b[39;00m\u001b[38;5;21;01msimplify\u001b[39;00m \u001b[38;5;28;01mimport\u001b[39;00m simplify\n",
      "File \u001b[1;32mC:\\ProgramData\\anaconda3\\Lib\\site-packages\\sympy\\concrete\\summations.py:1274\u001b[0m, in \u001b[0;36m_eval_sum_hyper\u001b[1;34m(f, i, a)\u001b[0m\n\u001b[0;32m   1272\u001b[0m     \u001b[38;5;28;01mif\u001b[39;00m simplify(f\u001b[38;5;241m.\u001b[39msubs(i, Dummy(\u001b[38;5;124m'\u001b[39m\u001b[38;5;124mi\u001b[39m\u001b[38;5;124m'\u001b[39m, integer\u001b[38;5;241m=\u001b[39m\u001b[38;5;28;01mTrue\u001b[39;00m, positive\u001b[38;5;241m=\u001b[39m\u001b[38;5;28;01mTrue\u001b[39;00m))) \u001b[38;5;241m==\u001b[39m \u001b[38;5;241m0\u001b[39m:\n\u001b[0;32m   1273\u001b[0m         \u001b[38;5;28;01mreturn\u001b[39;00m S\u001b[38;5;241m.\u001b[39mZero, \u001b[38;5;28;01mTrue\u001b[39;00m\n\u001b[1;32m-> 1274\u001b[0m     \u001b[38;5;28;01mreturn\u001b[39;00m _eval_sum_hyper(f\u001b[38;5;241m.\u001b[39msubs(i, i \u001b[38;5;241m+\u001b[39m \u001b[38;5;241m1\u001b[39m), i, \u001b[38;5;241m0\u001b[39m)\n\u001b[0;32m   1276\u001b[0m \u001b[38;5;28;01mfrom\u001b[39;00m \u001b[38;5;21;01msympy\u001b[39;00m\u001b[38;5;21;01m.\u001b[39;00m\u001b[38;5;21;01msimplify\u001b[39;00m\u001b[38;5;21;01m.\u001b[39;00m\u001b[38;5;21;01msimplify\u001b[39;00m \u001b[38;5;28;01mimport\u001b[39;00m hypersimp\n\u001b[0;32m   1277\u001b[0m hs \u001b[38;5;241m=\u001b[39m hypersimp(f, i)\n",
      "File \u001b[1;32mC:\\ProgramData\\anaconda3\\Lib\\site-packages\\sympy\\concrete\\summations.py:1274\u001b[0m, in \u001b[0;36m_eval_sum_hyper\u001b[1;34m(f, i, a)\u001b[0m\n\u001b[0;32m   1272\u001b[0m     \u001b[38;5;28;01mif\u001b[39;00m simplify(f\u001b[38;5;241m.\u001b[39msubs(i, Dummy(\u001b[38;5;124m'\u001b[39m\u001b[38;5;124mi\u001b[39m\u001b[38;5;124m'\u001b[39m, integer\u001b[38;5;241m=\u001b[39m\u001b[38;5;28;01mTrue\u001b[39;00m, positive\u001b[38;5;241m=\u001b[39m\u001b[38;5;28;01mTrue\u001b[39;00m))) \u001b[38;5;241m==\u001b[39m \u001b[38;5;241m0\u001b[39m:\n\u001b[0;32m   1273\u001b[0m         \u001b[38;5;28;01mreturn\u001b[39;00m S\u001b[38;5;241m.\u001b[39mZero, \u001b[38;5;28;01mTrue\u001b[39;00m\n\u001b[1;32m-> 1274\u001b[0m     \u001b[38;5;28;01mreturn\u001b[39;00m _eval_sum_hyper(f\u001b[38;5;241m.\u001b[39msubs(i, i \u001b[38;5;241m+\u001b[39m \u001b[38;5;241m1\u001b[39m), i, \u001b[38;5;241m0\u001b[39m)\n\u001b[0;32m   1276\u001b[0m \u001b[38;5;28;01mfrom\u001b[39;00m \u001b[38;5;21;01msympy\u001b[39;00m\u001b[38;5;21;01m.\u001b[39;00m\u001b[38;5;21;01msimplify\u001b[39;00m\u001b[38;5;21;01m.\u001b[39;00m\u001b[38;5;21;01msimplify\u001b[39;00m \u001b[38;5;28;01mimport\u001b[39;00m hypersimp\n\u001b[0;32m   1277\u001b[0m hs \u001b[38;5;241m=\u001b[39m hypersimp(f, i)\n",
      "    \u001b[1;31m[... skipping similar frames: _eval_sum_hyper at line 1274 (68 times)]\u001b[0m\n",
      "File \u001b[1;32mC:\\ProgramData\\anaconda3\\Lib\\site-packages\\sympy\\concrete\\summations.py:1274\u001b[0m, in \u001b[0;36m_eval_sum_hyper\u001b[1;34m(f, i, a)\u001b[0m\n\u001b[0;32m   1272\u001b[0m     \u001b[38;5;28;01mif\u001b[39;00m simplify(f\u001b[38;5;241m.\u001b[39msubs(i, Dummy(\u001b[38;5;124m'\u001b[39m\u001b[38;5;124mi\u001b[39m\u001b[38;5;124m'\u001b[39m, integer\u001b[38;5;241m=\u001b[39m\u001b[38;5;28;01mTrue\u001b[39;00m, positive\u001b[38;5;241m=\u001b[39m\u001b[38;5;28;01mTrue\u001b[39;00m))) \u001b[38;5;241m==\u001b[39m \u001b[38;5;241m0\u001b[39m:\n\u001b[0;32m   1273\u001b[0m         \u001b[38;5;28;01mreturn\u001b[39;00m S\u001b[38;5;241m.\u001b[39mZero, \u001b[38;5;28;01mTrue\u001b[39;00m\n\u001b[1;32m-> 1274\u001b[0m     \u001b[38;5;28;01mreturn\u001b[39;00m _eval_sum_hyper(f\u001b[38;5;241m.\u001b[39msubs(i, i \u001b[38;5;241m+\u001b[39m \u001b[38;5;241m1\u001b[39m), i, \u001b[38;5;241m0\u001b[39m)\n\u001b[0;32m   1276\u001b[0m \u001b[38;5;28;01mfrom\u001b[39;00m \u001b[38;5;21;01msympy\u001b[39;00m\u001b[38;5;21;01m.\u001b[39;00m\u001b[38;5;21;01msimplify\u001b[39;00m\u001b[38;5;21;01m.\u001b[39;00m\u001b[38;5;21;01msimplify\u001b[39;00m \u001b[38;5;28;01mimport\u001b[39;00m hypersimp\n\u001b[0;32m   1277\u001b[0m hs \u001b[38;5;241m=\u001b[39m hypersimp(f, i)\n",
      "File \u001b[1;32mC:\\ProgramData\\anaconda3\\Lib\\site-packages\\sympy\\concrete\\summations.py:1272\u001b[0m, in \u001b[0;36m_eval_sum_hyper\u001b[1;34m(f, i, a)\u001b[0m\n\u001b[0;32m   1270\u001b[0m \u001b[38;5;28;01mif\u001b[39;00m f\u001b[38;5;241m.\u001b[39msubs(i, \u001b[38;5;241m0\u001b[39m) \u001b[38;5;241m==\u001b[39m \u001b[38;5;241m0\u001b[39m:\n\u001b[0;32m   1271\u001b[0m     \u001b[38;5;28;01mfrom\u001b[39;00m \u001b[38;5;21;01msympy\u001b[39;00m\u001b[38;5;21;01m.\u001b[39;00m\u001b[38;5;21;01msimplify\u001b[39;00m\u001b[38;5;21;01m.\u001b[39;00m\u001b[38;5;21;01msimplify\u001b[39;00m \u001b[38;5;28;01mimport\u001b[39;00m simplify\n\u001b[1;32m-> 1272\u001b[0m     \u001b[38;5;28;01mif\u001b[39;00m simplify(f\u001b[38;5;241m.\u001b[39msubs(i, Dummy(\u001b[38;5;124m'\u001b[39m\u001b[38;5;124mi\u001b[39m\u001b[38;5;124m'\u001b[39m, integer\u001b[38;5;241m=\u001b[39m\u001b[38;5;28;01mTrue\u001b[39;00m, positive\u001b[38;5;241m=\u001b[39m\u001b[38;5;28;01mTrue\u001b[39;00m))) \u001b[38;5;241m==\u001b[39m \u001b[38;5;241m0\u001b[39m:\n\u001b[0;32m   1273\u001b[0m         \u001b[38;5;28;01mreturn\u001b[39;00m S\u001b[38;5;241m.\u001b[39mZero, \u001b[38;5;28;01mTrue\u001b[39;00m\n\u001b[0;32m   1274\u001b[0m     \u001b[38;5;28;01mreturn\u001b[39;00m _eval_sum_hyper(f\u001b[38;5;241m.\u001b[39msubs(i, i \u001b[38;5;241m+\u001b[39m \u001b[38;5;241m1\u001b[39m), i, \u001b[38;5;241m0\u001b[39m)\n",
      "File \u001b[1;32mC:\\ProgramData\\anaconda3\\Lib\\site-packages\\sympy\\simplify\\simplify.py:645\u001b[0m, in \u001b[0;36msimplify\u001b[1;34m(expr, ratio, measure, rational, inverse, doit, **kwargs)\u001b[0m\n\u001b[0;32m    643\u001b[0m expr \u001b[38;5;241m=\u001b[39m Mul(\u001b[38;5;241m*\u001b[39mpowsimp(expr)\u001b[38;5;241m.\u001b[39mas_content_primitive())\n\u001b[0;32m    644\u001b[0m _e \u001b[38;5;241m=\u001b[39m cancel(expr)\n\u001b[1;32m--> 645\u001b[0m expr1 \u001b[38;5;241m=\u001b[39m shorter(_e, _mexpand(_e)\u001b[38;5;241m.\u001b[39mcancel())  \u001b[38;5;66;03m# issue 6829\u001b[39;00m\n\u001b[0;32m    646\u001b[0m expr2 \u001b[38;5;241m=\u001b[39m shorter(together(expr, deep\u001b[38;5;241m=\u001b[39m\u001b[38;5;28;01mTrue\u001b[39;00m), together(expr1, deep\u001b[38;5;241m=\u001b[39m\u001b[38;5;28;01mTrue\u001b[39;00m))\n\u001b[0;32m    648\u001b[0m \u001b[38;5;28;01mif\u001b[39;00m ratio \u001b[38;5;129;01mis\u001b[39;00m S\u001b[38;5;241m.\u001b[39mInfinity:\n",
      "File \u001b[1;32mC:\\ProgramData\\anaconda3\\Lib\\site-packages\\sympy\\core\\expr.py:3791\u001b[0m, in \u001b[0;36mExpr.cancel\u001b[1;34m(self, *gens, **args)\u001b[0m\n\u001b[0;32m   3789\u001b[0m \u001b[38;5;250m\u001b[39m\u001b[38;5;124;03m\"\"\"See the cancel function in sympy.polys\"\"\"\u001b[39;00m\n\u001b[0;32m   3790\u001b[0m \u001b[38;5;28;01mfrom\u001b[39;00m \u001b[38;5;21;01msympy\u001b[39;00m\u001b[38;5;21;01m.\u001b[39;00m\u001b[38;5;21;01mpolys\u001b[39;00m\u001b[38;5;21;01m.\u001b[39;00m\u001b[38;5;21;01mpolytools\u001b[39;00m \u001b[38;5;28;01mimport\u001b[39;00m cancel\n\u001b[1;32m-> 3791\u001b[0m \u001b[38;5;28;01mreturn\u001b[39;00m cancel(\u001b[38;5;28mself\u001b[39m, \u001b[38;5;241m*\u001b[39mgens, \u001b[38;5;241m*\u001b[39m\u001b[38;5;241m*\u001b[39margs)\n",
      "File \u001b[1;32mC:\\ProgramData\\anaconda3\\Lib\\site-packages\\sympy\\polys\\polytools.py:6840\u001b[0m, in \u001b[0;36mcancel\u001b[1;34m(f, _signsimp, *gens, **args)\u001b[0m\n\u001b[0;32m   6838\u001b[0m     \u001b[38;5;28;01mif\u001b[39;00m f\u001b[38;5;241m.\u001b[39mis_Number \u001b[38;5;129;01mor\u001b[39;00m \u001b[38;5;28misinstance\u001b[39m(f, Relational) \u001b[38;5;129;01mor\u001b[39;00m \u001b[38;5;129;01mnot\u001b[39;00m \u001b[38;5;28misinstance\u001b[39m(f, Expr):\n\u001b[0;32m   6839\u001b[0m         \u001b[38;5;28;01mreturn\u001b[39;00m f\n\u001b[1;32m-> 6840\u001b[0m     f \u001b[38;5;241m=\u001b[39m factor_terms(f, radical\u001b[38;5;241m=\u001b[39m\u001b[38;5;28;01mTrue\u001b[39;00m)\n\u001b[0;32m   6841\u001b[0m     p, q \u001b[38;5;241m=\u001b[39m f\u001b[38;5;241m.\u001b[39mas_numer_denom()\n\u001b[0;32m   6843\u001b[0m \u001b[38;5;28;01melif\u001b[39;00m \u001b[38;5;28mlen\u001b[39m(f) \u001b[38;5;241m==\u001b[39m \u001b[38;5;241m2\u001b[39m:\n",
      "File \u001b[1;32mC:\\ProgramData\\anaconda3\\Lib\\site-packages\\sympy\\core\\exprtools.py:1267\u001b[0m, in \u001b[0;36mfactor_terms\u001b[1;34m(expr, radical, clear, fraction, sign)\u001b[0m\n\u001b[0;32m   1265\u001b[0m     \u001b[38;5;28;01mreturn\u001b[39;00m rv\n\u001b[0;32m   1266\u001b[0m expr \u001b[38;5;241m=\u001b[39m sympify(expr)\n\u001b[1;32m-> 1267\u001b[0m \u001b[38;5;28;01mreturn\u001b[39;00m do(expr)\n",
      "File \u001b[1;32mC:\\ProgramData\\anaconda3\\Lib\\site-packages\\sympy\\core\\exprtools.py:1242\u001b[0m, in \u001b[0;36mfactor_terms.<locals>.do\u001b[1;34m(expr)\u001b[0m\n\u001b[0;32m   1240\u001b[0m cont, p \u001b[38;5;241m=\u001b[39m expr\u001b[38;5;241m.\u001b[39mas_content_primitive(radical\u001b[38;5;241m=\u001b[39mradical, clear\u001b[38;5;241m=\u001b[39mclear)\n\u001b[0;32m   1241\u001b[0m \u001b[38;5;28;01mif\u001b[39;00m p\u001b[38;5;241m.\u001b[39mis_Add:\n\u001b[1;32m-> 1242\u001b[0m     list_args \u001b[38;5;241m=\u001b[39m [do(a) \u001b[38;5;28;01mfor\u001b[39;00m a \u001b[38;5;129;01min\u001b[39;00m Add\u001b[38;5;241m.\u001b[39mmake_args(p)]\n\u001b[0;32m   1243\u001b[0m     \u001b[38;5;66;03m# get a common negative (if there) which gcd_terms does not remove\u001b[39;00m\n\u001b[0;32m   1244\u001b[0m     \u001b[38;5;28;01mif\u001b[39;00m \u001b[38;5;129;01mnot\u001b[39;00m \u001b[38;5;28many\u001b[39m(a\u001b[38;5;241m.\u001b[39mas_coeff_Mul()[\u001b[38;5;241m0\u001b[39m]\u001b[38;5;241m.\u001b[39mextract_multiplicatively(\u001b[38;5;241m-\u001b[39m\u001b[38;5;241m1\u001b[39m) \u001b[38;5;129;01mis\u001b[39;00m \u001b[38;5;28;01mNone\u001b[39;00m\n\u001b[0;32m   1245\u001b[0m                \u001b[38;5;28;01mfor\u001b[39;00m a \u001b[38;5;129;01min\u001b[39;00m list_args):\n",
      "File \u001b[1;32mC:\\ProgramData\\anaconda3\\Lib\\site-packages\\sympy\\core\\exprtools.py:1242\u001b[0m, in \u001b[0;36m<listcomp>\u001b[1;34m(.0)\u001b[0m\n\u001b[0;32m   1240\u001b[0m cont, p \u001b[38;5;241m=\u001b[39m expr\u001b[38;5;241m.\u001b[39mas_content_primitive(radical\u001b[38;5;241m=\u001b[39mradical, clear\u001b[38;5;241m=\u001b[39mclear)\n\u001b[0;32m   1241\u001b[0m \u001b[38;5;28;01mif\u001b[39;00m p\u001b[38;5;241m.\u001b[39mis_Add:\n\u001b[1;32m-> 1242\u001b[0m     list_args \u001b[38;5;241m=\u001b[39m [do(a) \u001b[38;5;28;01mfor\u001b[39;00m a \u001b[38;5;129;01min\u001b[39;00m Add\u001b[38;5;241m.\u001b[39mmake_args(p)]\n\u001b[0;32m   1243\u001b[0m     \u001b[38;5;66;03m# get a common negative (if there) which gcd_terms does not remove\u001b[39;00m\n\u001b[0;32m   1244\u001b[0m     \u001b[38;5;28;01mif\u001b[39;00m \u001b[38;5;129;01mnot\u001b[39;00m \u001b[38;5;28many\u001b[39m(a\u001b[38;5;241m.\u001b[39mas_coeff_Mul()[\u001b[38;5;241m0\u001b[39m]\u001b[38;5;241m.\u001b[39mextract_multiplicatively(\u001b[38;5;241m-\u001b[39m\u001b[38;5;241m1\u001b[39m) \u001b[38;5;129;01mis\u001b[39;00m \u001b[38;5;28;01mNone\u001b[39;00m\n\u001b[0;32m   1245\u001b[0m                \u001b[38;5;28;01mfor\u001b[39;00m a \u001b[38;5;129;01min\u001b[39;00m list_args):\n",
      "File \u001b[1;32mC:\\ProgramData\\anaconda3\\Lib\\site-packages\\sympy\\core\\exprtools.py:1263\u001b[0m, in \u001b[0;36mfactor_terms.<locals>.do\u001b[1;34m(expr)\u001b[0m\n\u001b[0;32m   1257\u001b[0m     p \u001b[38;5;241m=\u001b[39m gcd_terms(p,\n\u001b[0;32m   1258\u001b[0m         isprimitive\u001b[38;5;241m=\u001b[39m\u001b[38;5;28;01mTrue\u001b[39;00m,\n\u001b[0;32m   1259\u001b[0m         clear\u001b[38;5;241m=\u001b[39mclear,\n\u001b[0;32m   1260\u001b[0m         fraction\u001b[38;5;241m=\u001b[39mfraction)\u001b[38;5;241m.\u001b[39mxreplace(special)\n\u001b[0;32m   1261\u001b[0m \u001b[38;5;28;01melif\u001b[39;00m p\u001b[38;5;241m.\u001b[39margs:\n\u001b[0;32m   1262\u001b[0m     p \u001b[38;5;241m=\u001b[39m p\u001b[38;5;241m.\u001b[39mfunc(\n\u001b[1;32m-> 1263\u001b[0m         \u001b[38;5;241m*\u001b[39m[do(a) \u001b[38;5;28;01mfor\u001b[39;00m a \u001b[38;5;129;01min\u001b[39;00m p\u001b[38;5;241m.\u001b[39margs])\n\u001b[0;32m   1264\u001b[0m rv \u001b[38;5;241m=\u001b[39m _keep_coeff(cont, p, clear\u001b[38;5;241m=\u001b[39mclear, sign\u001b[38;5;241m=\u001b[39msign)\n\u001b[0;32m   1265\u001b[0m \u001b[38;5;28;01mreturn\u001b[39;00m rv\n",
      "File \u001b[1;32mC:\\ProgramData\\anaconda3\\Lib\\site-packages\\sympy\\core\\exprtools.py:1263\u001b[0m, in \u001b[0;36m<listcomp>\u001b[1;34m(.0)\u001b[0m\n\u001b[0;32m   1257\u001b[0m     p \u001b[38;5;241m=\u001b[39m gcd_terms(p,\n\u001b[0;32m   1258\u001b[0m         isprimitive\u001b[38;5;241m=\u001b[39m\u001b[38;5;28;01mTrue\u001b[39;00m,\n\u001b[0;32m   1259\u001b[0m         clear\u001b[38;5;241m=\u001b[39mclear,\n\u001b[0;32m   1260\u001b[0m         fraction\u001b[38;5;241m=\u001b[39mfraction)\u001b[38;5;241m.\u001b[39mxreplace(special)\n\u001b[0;32m   1261\u001b[0m \u001b[38;5;28;01melif\u001b[39;00m p\u001b[38;5;241m.\u001b[39margs:\n\u001b[0;32m   1262\u001b[0m     p \u001b[38;5;241m=\u001b[39m p\u001b[38;5;241m.\u001b[39mfunc(\n\u001b[1;32m-> 1263\u001b[0m         \u001b[38;5;241m*\u001b[39m[do(a) \u001b[38;5;28;01mfor\u001b[39;00m a \u001b[38;5;129;01min\u001b[39;00m p\u001b[38;5;241m.\u001b[39margs])\n\u001b[0;32m   1264\u001b[0m rv \u001b[38;5;241m=\u001b[39m _keep_coeff(cont, p, clear\u001b[38;5;241m=\u001b[39mclear, sign\u001b[38;5;241m=\u001b[39msign)\n\u001b[0;32m   1265\u001b[0m \u001b[38;5;28;01mreturn\u001b[39;00m rv\n",
      "File \u001b[1;32mC:\\ProgramData\\anaconda3\\Lib\\site-packages\\sympy\\core\\exprtools.py:1233\u001b[0m, in \u001b[0;36mfactor_terms.<locals>.do\u001b[1;34m(expr)\u001b[0m\n\u001b[0;32m   1231\u001b[0m     \u001b[38;5;28;01mif\u001b[39;00m newargs \u001b[38;5;241m==\u001b[39m args:\n\u001b[0;32m   1232\u001b[0m         \u001b[38;5;28;01mreturn\u001b[39;00m expr\n\u001b[1;32m-> 1233\u001b[0m     \u001b[38;5;28;01mreturn\u001b[39;00m expr\u001b[38;5;241m.\u001b[39mfunc(\u001b[38;5;241m*\u001b[39mnewargs)\n\u001b[0;32m   1235\u001b[0m \u001b[38;5;28;01mif\u001b[39;00m \u001b[38;5;28misinstance\u001b[39m(expr, (Sum, Integral)):\n\u001b[0;32m   1236\u001b[0m     \u001b[38;5;28;01mreturn\u001b[39;00m _factor_sum_int(expr,\n\u001b[0;32m   1237\u001b[0m         radical\u001b[38;5;241m=\u001b[39mradical, clear\u001b[38;5;241m=\u001b[39mclear,\n\u001b[0;32m   1238\u001b[0m         fraction\u001b[38;5;241m=\u001b[39mfraction, sign\u001b[38;5;241m=\u001b[39msign)\n",
      "File \u001b[1;32mC:\\ProgramData\\anaconda3\\Lib\\site-packages\\sympy\\core\\cache.py:72\u001b[0m, in \u001b[0;36m__cacheit.<locals>.func_wrapper.<locals>.wrapper\u001b[1;34m(*args, **kwargs)\u001b[0m\n\u001b[0;32m     69\u001b[0m \u001b[38;5;129m@wraps\u001b[39m(func)\n\u001b[0;32m     70\u001b[0m \u001b[38;5;28;01mdef\u001b[39;00m \u001b[38;5;21mwrapper\u001b[39m(\u001b[38;5;241m*\u001b[39margs, \u001b[38;5;241m*\u001b[39m\u001b[38;5;241m*\u001b[39mkwargs):\n\u001b[0;32m     71\u001b[0m     \u001b[38;5;28;01mtry\u001b[39;00m:\n\u001b[1;32m---> 72\u001b[0m         retval \u001b[38;5;241m=\u001b[39m cfunc(\u001b[38;5;241m*\u001b[39margs, \u001b[38;5;241m*\u001b[39m\u001b[38;5;241m*\u001b[39mkwargs)\n\u001b[0;32m     73\u001b[0m     \u001b[38;5;28;01mexcept\u001b[39;00m \u001b[38;5;167;01mTypeError\u001b[39;00m \u001b[38;5;28;01mas\u001b[39;00m e:\n\u001b[0;32m     74\u001b[0m         \u001b[38;5;28;01mif\u001b[39;00m \u001b[38;5;129;01mnot\u001b[39;00m e\u001b[38;5;241m.\u001b[39margs \u001b[38;5;129;01mor\u001b[39;00m \u001b[38;5;129;01mnot\u001b[39;00m e\u001b[38;5;241m.\u001b[39margs[\u001b[38;5;241m0\u001b[39m]\u001b[38;5;241m.\u001b[39mstartswith(\u001b[38;5;124m'\u001b[39m\u001b[38;5;124munhashable type:\u001b[39m\u001b[38;5;124m'\u001b[39m):\n",
      "File \u001b[1;32mC:\\ProgramData\\anaconda3\\Lib\\site-packages\\sympy\\core\\power.py:371\u001b[0m, in \u001b[0;36mPow.__new__\u001b[1;34m(cls, b, e, evaluate)\u001b[0m\n\u001b[0;32m    367\u001b[0m         \u001b[38;5;28;01mif\u001b[39;00m s\u001b[38;5;241m.\u001b[39mis_Number \u001b[38;5;129;01mand\u001b[39;00m s \u001b[38;5;129;01mand\u001b[39;00m den \u001b[38;5;241m==\u001b[39m \\\n\u001b[0;32m    368\u001b[0m                 log(\u001b[38;5;241m-\u001b[39mfactor_terms(b, sign\u001b[38;5;241m=\u001b[39m\u001b[38;5;28;01mFalse\u001b[39;00m)) \u001b[38;5;241m+\u001b[39m s\u001b[38;5;241m*\u001b[39mS\u001b[38;5;241m.\u001b[39mImaginaryUnit\u001b[38;5;241m*\u001b[39mS\u001b[38;5;241m.\u001b[39mPi:\n\u001b[0;32m    369\u001b[0m             \u001b[38;5;28;01mreturn\u001b[39;00m S\u001b[38;5;241m.\u001b[39mExp1\u001b[38;5;241m*\u001b[39m\u001b[38;5;241m*\u001b[39m(c\u001b[38;5;241m*\u001b[39mnum)\n\u001b[1;32m--> 371\u001b[0m obj \u001b[38;5;241m=\u001b[39m b\u001b[38;5;241m.\u001b[39m_eval_power(e)\n\u001b[0;32m    372\u001b[0m \u001b[38;5;28;01mif\u001b[39;00m obj \u001b[38;5;129;01mis\u001b[39;00m \u001b[38;5;129;01mnot\u001b[39;00m \u001b[38;5;28;01mNone\u001b[39;00m:\n\u001b[0;32m    373\u001b[0m     \u001b[38;5;28;01mreturn\u001b[39;00m obj\n",
      "File \u001b[1;32mC:\\ProgramData\\anaconda3\\Lib\\site-packages\\sympy\\core\\mul.py:724\u001b[0m, in \u001b[0;36mMul._eval_power\u001b[1;34m(self, e)\u001b[0m\n\u001b[0;32m    721\u001b[0m cargs, nc \u001b[38;5;241m=\u001b[39m \u001b[38;5;28mself\u001b[39m\u001b[38;5;241m.\u001b[39margs_cnc(split_1\u001b[38;5;241m=\u001b[39m\u001b[38;5;28;01mFalse\u001b[39;00m)\n\u001b[0;32m    723\u001b[0m \u001b[38;5;28;01mif\u001b[39;00m e\u001b[38;5;241m.\u001b[39mis_Integer:\n\u001b[1;32m--> 724\u001b[0m     \u001b[38;5;28;01mreturn\u001b[39;00m Mul(\u001b[38;5;241m*\u001b[39m[Pow(b, e, evaluate\u001b[38;5;241m=\u001b[39m\u001b[38;5;28;01mFalse\u001b[39;00m) \u001b[38;5;28;01mfor\u001b[39;00m b \u001b[38;5;129;01min\u001b[39;00m cargs]) \u001b[38;5;241m*\u001b[39m \\\n\u001b[0;32m    725\u001b[0m         Pow(Mul\u001b[38;5;241m.\u001b[39m_from_args(nc), e, evaluate\u001b[38;5;241m=\u001b[39m\u001b[38;5;28;01mFalse\u001b[39;00m)\n\u001b[0;32m    726\u001b[0m \u001b[38;5;28;01mif\u001b[39;00m e\u001b[38;5;241m.\u001b[39mis_Rational \u001b[38;5;129;01mand\u001b[39;00m e\u001b[38;5;241m.\u001b[39mq \u001b[38;5;241m==\u001b[39m \u001b[38;5;241m2\u001b[39m:\n\u001b[0;32m    727\u001b[0m     \u001b[38;5;28;01mif\u001b[39;00m \u001b[38;5;28mself\u001b[39m\u001b[38;5;241m.\u001b[39mis_imaginary:\n",
      "File \u001b[1;32mC:\\ProgramData\\anaconda3\\Lib\\site-packages\\sympy\\core\\decorators.py:236\u001b[0m, in \u001b[0;36m_SympifyWrapper.make_wrapped.<locals>._func\u001b[1;34m(self, other)\u001b[0m\n\u001b[0;32m    234\u001b[0m \u001b[38;5;28;01mif\u001b[39;00m \u001b[38;5;129;01mnot\u001b[39;00m \u001b[38;5;28misinstance\u001b[39m(other, expectedcls):\n\u001b[0;32m    235\u001b[0m     \u001b[38;5;28;01mreturn\u001b[39;00m retval\n\u001b[1;32m--> 236\u001b[0m \u001b[38;5;28;01mreturn\u001b[39;00m func(\u001b[38;5;28mself\u001b[39m, other)\n",
      "File \u001b[1;32mC:\\ProgramData\\anaconda3\\Lib\\site-packages\\sympy\\core\\decorators.py:106\u001b[0m, in \u001b[0;36mcall_highest_priority.<locals>.priority_decorator.<locals>.binary_op_wrapper\u001b[1;34m(self, other)\u001b[0m\n\u001b[0;32m    104\u001b[0m         \u001b[38;5;28;01mif\u001b[39;00m f \u001b[38;5;129;01mis\u001b[39;00m \u001b[38;5;129;01mnot\u001b[39;00m \u001b[38;5;28;01mNone\u001b[39;00m:\n\u001b[0;32m    105\u001b[0m             \u001b[38;5;28;01mreturn\u001b[39;00m f(\u001b[38;5;28mself\u001b[39m)\n\u001b[1;32m--> 106\u001b[0m \u001b[38;5;28;01mreturn\u001b[39;00m func(\u001b[38;5;28mself\u001b[39m, other)\n",
      "File \u001b[1;32mC:\\ProgramData\\anaconda3\\Lib\\site-packages\\sympy\\core\\expr.py:218\u001b[0m, in \u001b[0;36mExpr.__mul__\u001b[1;34m(self, other)\u001b[0m\n\u001b[0;32m    215\u001b[0m \u001b[38;5;129m@sympify_return\u001b[39m([(\u001b[38;5;124m'\u001b[39m\u001b[38;5;124mother\u001b[39m\u001b[38;5;124m'\u001b[39m, \u001b[38;5;124m'\u001b[39m\u001b[38;5;124mExpr\u001b[39m\u001b[38;5;124m'\u001b[39m)], \u001b[38;5;28mNotImplemented\u001b[39m)\n\u001b[0;32m    216\u001b[0m \u001b[38;5;129m@call_highest_priority\u001b[39m(\u001b[38;5;124m'\u001b[39m\u001b[38;5;124m__rmul__\u001b[39m\u001b[38;5;124m'\u001b[39m)\n\u001b[0;32m    217\u001b[0m \u001b[38;5;28;01mdef\u001b[39;00m \u001b[38;5;21m__mul__\u001b[39m(\u001b[38;5;28mself\u001b[39m, other):\n\u001b[1;32m--> 218\u001b[0m     \u001b[38;5;28;01mreturn\u001b[39;00m Mul(\u001b[38;5;28mself\u001b[39m, other)\n",
      "File \u001b[1;32mC:\\ProgramData\\anaconda3\\Lib\\site-packages\\sympy\\core\\cache.py:72\u001b[0m, in \u001b[0;36m__cacheit.<locals>.func_wrapper.<locals>.wrapper\u001b[1;34m(*args, **kwargs)\u001b[0m\n\u001b[0;32m     69\u001b[0m \u001b[38;5;129m@wraps\u001b[39m(func)\n\u001b[0;32m     70\u001b[0m \u001b[38;5;28;01mdef\u001b[39;00m \u001b[38;5;21mwrapper\u001b[39m(\u001b[38;5;241m*\u001b[39margs, \u001b[38;5;241m*\u001b[39m\u001b[38;5;241m*\u001b[39mkwargs):\n\u001b[0;32m     71\u001b[0m     \u001b[38;5;28;01mtry\u001b[39;00m:\n\u001b[1;32m---> 72\u001b[0m         retval \u001b[38;5;241m=\u001b[39m cfunc(\u001b[38;5;241m*\u001b[39margs, \u001b[38;5;241m*\u001b[39m\u001b[38;5;241m*\u001b[39mkwargs)\n\u001b[0;32m     73\u001b[0m     \u001b[38;5;28;01mexcept\u001b[39;00m \u001b[38;5;167;01mTypeError\u001b[39;00m \u001b[38;5;28;01mas\u001b[39;00m e:\n\u001b[0;32m     74\u001b[0m         \u001b[38;5;28;01mif\u001b[39;00m \u001b[38;5;129;01mnot\u001b[39;00m e\u001b[38;5;241m.\u001b[39margs \u001b[38;5;129;01mor\u001b[39;00m \u001b[38;5;129;01mnot\u001b[39;00m e\u001b[38;5;241m.\u001b[39margs[\u001b[38;5;241m0\u001b[39m]\u001b[38;5;241m.\u001b[39mstartswith(\u001b[38;5;124m'\u001b[39m\u001b[38;5;124munhashable type:\u001b[39m\u001b[38;5;124m'\u001b[39m):\n",
      "File \u001b[1;32mC:\\ProgramData\\anaconda3\\Lib\\site-packages\\sympy\\core\\operations.py:98\u001b[0m, in \u001b[0;36mAssocOp.__new__\u001b[1;34m(cls, evaluate, _sympify, *args)\u001b[0m\n\u001b[0;32m     95\u001b[0m \u001b[38;5;28;01mif\u001b[39;00m \u001b[38;5;28mlen\u001b[39m(args) \u001b[38;5;241m==\u001b[39m \u001b[38;5;241m1\u001b[39m:\n\u001b[0;32m     96\u001b[0m     \u001b[38;5;28;01mreturn\u001b[39;00m args[\u001b[38;5;241m0\u001b[39m]\n\u001b[1;32m---> 98\u001b[0m c_part, nc_part, order_symbols \u001b[38;5;241m=\u001b[39m \u001b[38;5;28mcls\u001b[39m\u001b[38;5;241m.\u001b[39mflatten(args)\n\u001b[0;32m     99\u001b[0m is_commutative \u001b[38;5;241m=\u001b[39m \u001b[38;5;129;01mnot\u001b[39;00m nc_part\n\u001b[0;32m    100\u001b[0m obj \u001b[38;5;241m=\u001b[39m \u001b[38;5;28mcls\u001b[39m\u001b[38;5;241m.\u001b[39m_from_args(c_part \u001b[38;5;241m+\u001b[39m nc_part, is_commutative)\n",
      "File \u001b[1;32mC:\\ProgramData\\anaconda3\\Lib\\site-packages\\sympy\\core\\mul.py:285\u001b[0m, in \u001b[0;36mMul.flatten\u001b[1;34m(cls, seq)\u001b[0m\n\u001b[0;32m    283\u001b[0m     seq \u001b[38;5;241m=\u001b[39m [a, b]\n\u001b[0;32m    284\u001b[0m \u001b[38;5;28;01massert\u001b[39;00m a \u001b[38;5;129;01mis\u001b[39;00m \u001b[38;5;129;01mnot\u001b[39;00m S\u001b[38;5;241m.\u001b[39mOne\n\u001b[1;32m--> 285\u001b[0m \u001b[38;5;28;01mif\u001b[39;00m \u001b[38;5;129;01mnot\u001b[39;00m a\u001b[38;5;241m.\u001b[39mis_zero \u001b[38;5;129;01mand\u001b[39;00m a\u001b[38;5;241m.\u001b[39mis_Rational:\n\u001b[0;32m    286\u001b[0m     r, b \u001b[38;5;241m=\u001b[39m b\u001b[38;5;241m.\u001b[39mas_coeff_Mul()\n\u001b[0;32m    287\u001b[0m     \u001b[38;5;28;01mif\u001b[39;00m b\u001b[38;5;241m.\u001b[39mis_Add:\n",
      "File \u001b[1;32mC:\\ProgramData\\anaconda3\\Lib\\site-packages\\sympy\\core\\assumptions.py:503\u001b[0m, in \u001b[0;36mmake_property.<locals>.getit\u001b[1;34m(self)\u001b[0m\n\u001b[0;32m    501\u001b[0m \u001b[38;5;28;01mif\u001b[39;00m \u001b[38;5;28mself\u001b[39m\u001b[38;5;241m.\u001b[39m_assumptions \u001b[38;5;129;01mis\u001b[39;00m \u001b[38;5;28mself\u001b[39m\u001b[38;5;241m.\u001b[39mdefault_assumptions:\n\u001b[0;32m    502\u001b[0m     \u001b[38;5;28mself\u001b[39m\u001b[38;5;241m.\u001b[39m_assumptions \u001b[38;5;241m=\u001b[39m \u001b[38;5;28mself\u001b[39m\u001b[38;5;241m.\u001b[39mdefault_assumptions\u001b[38;5;241m.\u001b[39mcopy()\n\u001b[1;32m--> 503\u001b[0m \u001b[38;5;28;01mreturn\u001b[39;00m _ask(fact, \u001b[38;5;28mself\u001b[39m)\n",
      "File \u001b[1;32mC:\\ProgramData\\anaconda3\\Lib\\site-packages\\sympy\\core\\assumptions.py:559\u001b[0m, in \u001b[0;36m_ask\u001b[1;34m(fact, obj)\u001b[0m\n\u001b[0;32m    557\u001b[0m handler_i \u001b[38;5;241m=\u001b[39m handler_map\u001b[38;5;241m.\u001b[39mget(fact_i)\n\u001b[0;32m    558\u001b[0m \u001b[38;5;28;01mif\u001b[39;00m handler_i \u001b[38;5;129;01mis\u001b[39;00m \u001b[38;5;129;01mnot\u001b[39;00m \u001b[38;5;28;01mNone\u001b[39;00m:\n\u001b[1;32m--> 559\u001b[0m     fact_i_value \u001b[38;5;241m=\u001b[39m handler_i(obj)\n\u001b[0;32m    561\u001b[0m \u001b[38;5;66;03m# If we get a new value for fact_i then we should update our knowledge\u001b[39;00m\n\u001b[0;32m    562\u001b[0m \u001b[38;5;66;03m# of fact_i as well as any related facts that can be inferred using the\u001b[39;00m\n\u001b[0;32m    563\u001b[0m \u001b[38;5;66;03m# inference rules connecting the fact_i and any other fact values that\u001b[39;00m\n\u001b[0;32m    564\u001b[0m \u001b[38;5;66;03m# are already known.\u001b[39;00m\n\u001b[0;32m    565\u001b[0m \u001b[38;5;28;01mif\u001b[39;00m fact_i_value \u001b[38;5;129;01mis\u001b[39;00m \u001b[38;5;129;01mnot\u001b[39;00m \u001b[38;5;28;01mNone\u001b[39;00m:\n",
      "File \u001b[1;32mC:\\ProgramData\\anaconda3\\Lib\\site-packages\\sympy\\core\\mul.py:1347\u001b[0m, in \u001b[0;36mMul._eval_is_zero\u001b[1;34m(self)\u001b[0m\n\u001b[0;32m   1344\u001b[0m \u001b[38;5;28;01mdef\u001b[39;00m \u001b[38;5;21m_eval_is_zero\u001b[39m(\u001b[38;5;28mself\u001b[39m):\n\u001b[0;32m   1345\u001b[0m     \u001b[38;5;66;03m# True iff any arg is zero and no arg is infinite but need to handle\u001b[39;00m\n\u001b[0;32m   1346\u001b[0m     \u001b[38;5;66;03m# three valued logic carefully.\u001b[39;00m\n\u001b[1;32m-> 1347\u001b[0m     seen_zero, seen_infinite \u001b[38;5;241m=\u001b[39m \u001b[38;5;28mself\u001b[39m\u001b[38;5;241m.\u001b[39m_eval_is_zero_infinite_helper()\n\u001b[0;32m   1349\u001b[0m     \u001b[38;5;28;01mif\u001b[39;00m seen_zero \u001b[38;5;129;01mis\u001b[39;00m \u001b[38;5;28;01mFalse\u001b[39;00m:\n\u001b[0;32m   1350\u001b[0m         \u001b[38;5;28;01mreturn\u001b[39;00m \u001b[38;5;28;01mFalse\u001b[39;00m\n",
      "File \u001b[1;32mC:\\ProgramData\\anaconda3\\Lib\\site-packages\\sympy\\core\\mul.py:1324\u001b[0m, in \u001b[0;36mMul._eval_is_zero_infinite_helper\u001b[1;34m(self)\u001b[0m\n\u001b[0;32m   1321\u001b[0m seen_zero \u001b[38;5;241m=\u001b[39m seen_infinite \u001b[38;5;241m=\u001b[39m \u001b[38;5;28;01mFalse\u001b[39;00m\n\u001b[0;32m   1323\u001b[0m \u001b[38;5;28;01mfor\u001b[39;00m a \u001b[38;5;129;01min\u001b[39;00m \u001b[38;5;28mself\u001b[39m\u001b[38;5;241m.\u001b[39margs:\n\u001b[1;32m-> 1324\u001b[0m     \u001b[38;5;28;01mif\u001b[39;00m a\u001b[38;5;241m.\u001b[39mis_zero:\n\u001b[0;32m   1325\u001b[0m         \u001b[38;5;28;01mif\u001b[39;00m seen_infinite \u001b[38;5;129;01mis\u001b[39;00m \u001b[38;5;129;01mnot\u001b[39;00m \u001b[38;5;28;01mFalse\u001b[39;00m:\n\u001b[0;32m   1326\u001b[0m             \u001b[38;5;28;01mreturn\u001b[39;00m \u001b[38;5;28;01mNone\u001b[39;00m, \u001b[38;5;28;01mNone\u001b[39;00m\n",
      "File \u001b[1;32mC:\\ProgramData\\anaconda3\\Lib\\site-packages\\sympy\\core\\assumptions.py:503\u001b[0m, in \u001b[0;36mmake_property.<locals>.getit\u001b[1;34m(self)\u001b[0m\n\u001b[0;32m    501\u001b[0m \u001b[38;5;28;01mif\u001b[39;00m \u001b[38;5;28mself\u001b[39m\u001b[38;5;241m.\u001b[39m_assumptions \u001b[38;5;129;01mis\u001b[39;00m \u001b[38;5;28mself\u001b[39m\u001b[38;5;241m.\u001b[39mdefault_assumptions:\n\u001b[0;32m    502\u001b[0m     \u001b[38;5;28mself\u001b[39m\u001b[38;5;241m.\u001b[39m_assumptions \u001b[38;5;241m=\u001b[39m \u001b[38;5;28mself\u001b[39m\u001b[38;5;241m.\u001b[39mdefault_assumptions\u001b[38;5;241m.\u001b[39mcopy()\n\u001b[1;32m--> 503\u001b[0m \u001b[38;5;28;01mreturn\u001b[39;00m _ask(fact, \u001b[38;5;28mself\u001b[39m)\n",
      "File \u001b[1;32mC:\\ProgramData\\anaconda3\\Lib\\site-packages\\sympy\\core\\assumptions.py:559\u001b[0m, in \u001b[0;36m_ask\u001b[1;34m(fact, obj)\u001b[0m\n\u001b[0;32m    557\u001b[0m handler_i \u001b[38;5;241m=\u001b[39m handler_map\u001b[38;5;241m.\u001b[39mget(fact_i)\n\u001b[0;32m    558\u001b[0m \u001b[38;5;28;01mif\u001b[39;00m handler_i \u001b[38;5;129;01mis\u001b[39;00m \u001b[38;5;129;01mnot\u001b[39;00m \u001b[38;5;28;01mNone\u001b[39;00m:\n\u001b[1;32m--> 559\u001b[0m     fact_i_value \u001b[38;5;241m=\u001b[39m handler_i(obj)\n\u001b[0;32m    561\u001b[0m \u001b[38;5;66;03m# If we get a new value for fact_i then we should update our knowledge\u001b[39;00m\n\u001b[0;32m    562\u001b[0m \u001b[38;5;66;03m# of fact_i as well as any related facts that can be inferred using the\u001b[39;00m\n\u001b[0;32m    563\u001b[0m \u001b[38;5;66;03m# inference rules connecting the fact_i and any other fact values that\u001b[39;00m\n\u001b[0;32m    564\u001b[0m \u001b[38;5;66;03m# are already known.\u001b[39;00m\n\u001b[0;32m    565\u001b[0m \u001b[38;5;28;01mif\u001b[39;00m fact_i_value \u001b[38;5;129;01mis\u001b[39;00m \u001b[38;5;129;01mnot\u001b[39;00m \u001b[38;5;28;01mNone\u001b[39;00m:\n",
      "File \u001b[1;32mC:\\ProgramData\\anaconda3\\Lib\\site-packages\\sympy\\core\\power.py:620\u001b[0m, in \u001b[0;36mPow._eval_is_zero\u001b[1;34m(self)\u001b[0m\n\u001b[0;32m    619\u001b[0m \u001b[38;5;28;01mdef\u001b[39;00m \u001b[38;5;21m_eval_is_zero\u001b[39m(\u001b[38;5;28mself\u001b[39m):\n\u001b[1;32m--> 620\u001b[0m     \u001b[38;5;28;01mif\u001b[39;00m \u001b[38;5;28mself\u001b[39m\u001b[38;5;241m.\u001b[39mbase\u001b[38;5;241m.\u001b[39mis_zero:\n\u001b[0;32m    621\u001b[0m         \u001b[38;5;28;01mif\u001b[39;00m \u001b[38;5;28mself\u001b[39m\u001b[38;5;241m.\u001b[39mexp\u001b[38;5;241m.\u001b[39mis_extended_positive:\n\u001b[0;32m    622\u001b[0m             \u001b[38;5;28;01mreturn\u001b[39;00m \u001b[38;5;28;01mTrue\u001b[39;00m\n",
      "File \u001b[1;32mC:\\ProgramData\\anaconda3\\Lib\\site-packages\\sympy\\core\\assumptions.py:503\u001b[0m, in \u001b[0;36mmake_property.<locals>.getit\u001b[1;34m(self)\u001b[0m\n\u001b[0;32m    501\u001b[0m \u001b[38;5;28;01mif\u001b[39;00m \u001b[38;5;28mself\u001b[39m\u001b[38;5;241m.\u001b[39m_assumptions \u001b[38;5;129;01mis\u001b[39;00m \u001b[38;5;28mself\u001b[39m\u001b[38;5;241m.\u001b[39mdefault_assumptions:\n\u001b[0;32m    502\u001b[0m     \u001b[38;5;28mself\u001b[39m\u001b[38;5;241m.\u001b[39m_assumptions \u001b[38;5;241m=\u001b[39m \u001b[38;5;28mself\u001b[39m\u001b[38;5;241m.\u001b[39mdefault_assumptions\u001b[38;5;241m.\u001b[39mcopy()\n\u001b[1;32m--> 503\u001b[0m \u001b[38;5;28;01mreturn\u001b[39;00m _ask(fact, \u001b[38;5;28mself\u001b[39m)\n",
      "File \u001b[1;32mC:\\ProgramData\\anaconda3\\Lib\\site-packages\\sympy\\core\\assumptions.py:559\u001b[0m, in \u001b[0;36m_ask\u001b[1;34m(fact, obj)\u001b[0m\n\u001b[0;32m    557\u001b[0m handler_i \u001b[38;5;241m=\u001b[39m handler_map\u001b[38;5;241m.\u001b[39mget(fact_i)\n\u001b[0;32m    558\u001b[0m \u001b[38;5;28;01mif\u001b[39;00m handler_i \u001b[38;5;129;01mis\u001b[39;00m \u001b[38;5;129;01mnot\u001b[39;00m \u001b[38;5;28;01mNone\u001b[39;00m:\n\u001b[1;32m--> 559\u001b[0m     fact_i_value \u001b[38;5;241m=\u001b[39m handler_i(obj)\n\u001b[0;32m    561\u001b[0m \u001b[38;5;66;03m# If we get a new value for fact_i then we should update our knowledge\u001b[39;00m\n\u001b[0;32m    562\u001b[0m \u001b[38;5;66;03m# of fact_i as well as any related facts that can be inferred using the\u001b[39;00m\n\u001b[0;32m    563\u001b[0m \u001b[38;5;66;03m# inference rules connecting the fact_i and any other fact values that\u001b[39;00m\n\u001b[0;32m    564\u001b[0m \u001b[38;5;66;03m# are already known.\u001b[39;00m\n\u001b[0;32m    565\u001b[0m \u001b[38;5;28;01mif\u001b[39;00m fact_i_value \u001b[38;5;129;01mis\u001b[39;00m \u001b[38;5;129;01mnot\u001b[39;00m \u001b[38;5;28;01mNone\u001b[39;00m:\n",
      "File \u001b[1;32mC:\\ProgramData\\anaconda3\\Lib\\site-packages\\sympy\\core\\add.py:863\u001b[0m, in \u001b[0;36mAdd._eval_is_extended_negative\u001b[1;34m(self)\u001b[0m\n\u001b[0;32m    861\u001b[0m \u001b[38;5;28;01mif\u001b[39;00m \u001b[38;5;129;01mnot\u001b[39;00m c\u001b[38;5;241m.\u001b[39mis_zero:\n\u001b[0;32m    862\u001b[0m     \u001b[38;5;28;01mfrom\u001b[39;00m \u001b[38;5;21;01m.\u001b[39;00m\u001b[38;5;21;01mexprtools\u001b[39;00m \u001b[38;5;28;01mimport\u001b[39;00m _monotonic_sign\n\u001b[1;32m--> 863\u001b[0m     v \u001b[38;5;241m=\u001b[39m _monotonic_sign(a)\n\u001b[0;32m    864\u001b[0m     \u001b[38;5;28;01mif\u001b[39;00m v \u001b[38;5;129;01mis\u001b[39;00m \u001b[38;5;129;01mnot\u001b[39;00m \u001b[38;5;28;01mNone\u001b[39;00m:\n\u001b[0;32m    865\u001b[0m         s \u001b[38;5;241m=\u001b[39m v \u001b[38;5;241m+\u001b[39m c\n",
      "File \u001b[1;32mC:\\ProgramData\\anaconda3\\Lib\\site-packages\\sympy\\core\\exprtools.py:121\u001b[0m, in \u001b[0;36m_monotonic_sign\u001b[1;34m(self)\u001b[0m\n\u001b[0;32m    119\u001b[0m     x0 \u001b[38;5;241m=\u001b[39m S\u001b[38;5;241m.\u001b[39mZero\n\u001b[0;32m    120\u001b[0m \u001b[38;5;28;01mif\u001b[39;00m x0 \u001b[38;5;129;01mis\u001b[39;00m \u001b[38;5;129;01mnot\u001b[39;00m \u001b[38;5;28;01mNone\u001b[39;00m:\n\u001b[1;32m--> 121\u001b[0m     d \u001b[38;5;241m=\u001b[39m \u001b[38;5;28mself\u001b[39m\u001b[38;5;241m.\u001b[39mdiff(x)\n\u001b[0;32m    122\u001b[0m     \u001b[38;5;28;01mif\u001b[39;00m d\u001b[38;5;241m.\u001b[39mis_number:\n\u001b[0;32m    123\u001b[0m         currentroots \u001b[38;5;241m=\u001b[39m []\n",
      "File \u001b[1;32mC:\\ProgramData\\anaconda3\\Lib\\site-packages\\sympy\\core\\expr.py:3586\u001b[0m, in \u001b[0;36mExpr.diff\u001b[1;34m(self, *symbols, **assumptions)\u001b[0m\n\u001b[0;32m   3584\u001b[0m \u001b[38;5;28;01mdef\u001b[39;00m \u001b[38;5;21mdiff\u001b[39m(\u001b[38;5;28mself\u001b[39m, \u001b[38;5;241m*\u001b[39msymbols, \u001b[38;5;241m*\u001b[39m\u001b[38;5;241m*\u001b[39massumptions):\n\u001b[0;32m   3585\u001b[0m     assumptions\u001b[38;5;241m.\u001b[39msetdefault(\u001b[38;5;124m\"\u001b[39m\u001b[38;5;124mevaluate\u001b[39m\u001b[38;5;124m\"\u001b[39m, \u001b[38;5;28;01mTrue\u001b[39;00m)\n\u001b[1;32m-> 3586\u001b[0m     \u001b[38;5;28;01mreturn\u001b[39;00m _derivative_dispatch(\u001b[38;5;28mself\u001b[39m, \u001b[38;5;241m*\u001b[39msymbols, \u001b[38;5;241m*\u001b[39m\u001b[38;5;241m*\u001b[39massumptions)\n",
      "File \u001b[1;32mC:\\ProgramData\\anaconda3\\Lib\\site-packages\\sympy\\core\\function.py:1909\u001b[0m, in \u001b[0;36m_derivative_dispatch\u001b[1;34m(expr, *variables, **kwargs)\u001b[0m\n\u001b[0;32m   1907\u001b[0m     \u001b[38;5;28;01mfrom\u001b[39;00m \u001b[38;5;21;01msympy\u001b[39;00m\u001b[38;5;21;01m.\u001b[39;00m\u001b[38;5;21;01mtensor\u001b[39;00m\u001b[38;5;21;01m.\u001b[39;00m\u001b[38;5;21;01marray\u001b[39;00m\u001b[38;5;21;01m.\u001b[39;00m\u001b[38;5;21;01marray_derivatives\u001b[39;00m \u001b[38;5;28;01mimport\u001b[39;00m ArrayDerivative\n\u001b[0;32m   1908\u001b[0m     \u001b[38;5;28;01mreturn\u001b[39;00m ArrayDerivative(expr, \u001b[38;5;241m*\u001b[39mvariables, \u001b[38;5;241m*\u001b[39m\u001b[38;5;241m*\u001b[39mkwargs)\n\u001b[1;32m-> 1909\u001b[0m \u001b[38;5;28;01mreturn\u001b[39;00m Derivative(expr, \u001b[38;5;241m*\u001b[39mvariables, \u001b[38;5;241m*\u001b[39m\u001b[38;5;241m*\u001b[39mkwargs)\n",
      "File \u001b[1;32mC:\\ProgramData\\anaconda3\\Lib\\site-packages\\sympy\\core\\function.py:1438\u001b[0m, in \u001b[0;36mDerivative.__new__\u001b[1;34m(cls, expr, *variables, **kwargs)\u001b[0m\n\u001b[0;32m   1435\u001b[0m         expr \u001b[38;5;241m*\u001b[39m\u001b[38;5;241m=\u001b[39m old_v\u001b[38;5;241m.\u001b[39mdiff(old_v)\n\u001b[0;32m   1437\u001b[0m obj \u001b[38;5;241m=\u001b[39m \u001b[38;5;28mcls\u001b[39m\u001b[38;5;241m.\u001b[39m_dispatch_eval_derivative_n_times(expr, v, count)\n\u001b[1;32m-> 1438\u001b[0m \u001b[38;5;28;01mif\u001b[39;00m obj \u001b[38;5;129;01mis\u001b[39;00m \u001b[38;5;129;01mnot\u001b[39;00m \u001b[38;5;28;01mNone\u001b[39;00m \u001b[38;5;129;01mand\u001b[39;00m obj\u001b[38;5;241m.\u001b[39mis_zero:\n\u001b[0;32m   1439\u001b[0m     \u001b[38;5;28;01mreturn\u001b[39;00m obj\n\u001b[0;32m   1441\u001b[0m nderivs \u001b[38;5;241m+\u001b[39m\u001b[38;5;241m=\u001b[39m count\n",
      "File \u001b[1;32mC:\\ProgramData\\anaconda3\\Lib\\site-packages\\sympy\\core\\assumptions.py:503\u001b[0m, in \u001b[0;36mmake_property.<locals>.getit\u001b[1;34m(self)\u001b[0m\n\u001b[0;32m    501\u001b[0m \u001b[38;5;28;01mif\u001b[39;00m \u001b[38;5;28mself\u001b[39m\u001b[38;5;241m.\u001b[39m_assumptions \u001b[38;5;129;01mis\u001b[39;00m \u001b[38;5;28mself\u001b[39m\u001b[38;5;241m.\u001b[39mdefault_assumptions:\n\u001b[0;32m    502\u001b[0m     \u001b[38;5;28mself\u001b[39m\u001b[38;5;241m.\u001b[39m_assumptions \u001b[38;5;241m=\u001b[39m \u001b[38;5;28mself\u001b[39m\u001b[38;5;241m.\u001b[39mdefault_assumptions\u001b[38;5;241m.\u001b[39mcopy()\n\u001b[1;32m--> 503\u001b[0m \u001b[38;5;28;01mreturn\u001b[39;00m _ask(fact, \u001b[38;5;28mself\u001b[39m)\n",
      "File \u001b[1;32mC:\\ProgramData\\anaconda3\\Lib\\site-packages\\sympy\\core\\assumptions.py:559\u001b[0m, in \u001b[0;36m_ask\u001b[1;34m(fact, obj)\u001b[0m\n\u001b[0;32m    557\u001b[0m handler_i \u001b[38;5;241m=\u001b[39m handler_map\u001b[38;5;241m.\u001b[39mget(fact_i)\n\u001b[0;32m    558\u001b[0m \u001b[38;5;28;01mif\u001b[39;00m handler_i \u001b[38;5;129;01mis\u001b[39;00m \u001b[38;5;129;01mnot\u001b[39;00m \u001b[38;5;28;01mNone\u001b[39;00m:\n\u001b[1;32m--> 559\u001b[0m     fact_i_value \u001b[38;5;241m=\u001b[39m handler_i(obj)\n\u001b[0;32m    561\u001b[0m \u001b[38;5;66;03m# If we get a new value for fact_i then we should update our knowledge\u001b[39;00m\n\u001b[0;32m    562\u001b[0m \u001b[38;5;66;03m# of fact_i as well as any related facts that can be inferred using the\u001b[39;00m\n\u001b[0;32m    563\u001b[0m \u001b[38;5;66;03m# inference rules connecting the fact_i and any other fact values that\u001b[39;00m\n\u001b[0;32m    564\u001b[0m \u001b[38;5;66;03m# are already known.\u001b[39;00m\n\u001b[0;32m    565\u001b[0m \u001b[38;5;28;01mif\u001b[39;00m fact_i_value \u001b[38;5;129;01mis\u001b[39;00m \u001b[38;5;129;01mnot\u001b[39;00m \u001b[38;5;28;01mNone\u001b[39;00m:\n",
      "File \u001b[1;32mC:\\ProgramData\\anaconda3\\Lib\\site-packages\\sympy\\core\\add.py:779\u001b[0m, in \u001b[0;36mAdd._eval_is_extended_positive\u001b[1;34m(self)\u001b[0m\n\u001b[0;32m    777\u001b[0m \u001b[38;5;28;01mif\u001b[39;00m \u001b[38;5;129;01mnot\u001b[39;00m c\u001b[38;5;241m.\u001b[39mis_zero:\n\u001b[0;32m    778\u001b[0m     \u001b[38;5;28;01mfrom\u001b[39;00m \u001b[38;5;21;01m.\u001b[39;00m\u001b[38;5;21;01mexprtools\u001b[39;00m \u001b[38;5;28;01mimport\u001b[39;00m _monotonic_sign\n\u001b[1;32m--> 779\u001b[0m     v \u001b[38;5;241m=\u001b[39m _monotonic_sign(a)\n\u001b[0;32m    780\u001b[0m     \u001b[38;5;28;01mif\u001b[39;00m v \u001b[38;5;129;01mis\u001b[39;00m \u001b[38;5;129;01mnot\u001b[39;00m \u001b[38;5;28;01mNone\u001b[39;00m:\n\u001b[0;32m    781\u001b[0m         s \u001b[38;5;241m=\u001b[39m v \u001b[38;5;241m+\u001b[39m c\n",
      "File \u001b[1;32mC:\\ProgramData\\anaconda3\\Lib\\site-packages\\sympy\\core\\exprtools.py:121\u001b[0m, in \u001b[0;36m_monotonic_sign\u001b[1;34m(self)\u001b[0m\n\u001b[0;32m    119\u001b[0m     x0 \u001b[38;5;241m=\u001b[39m S\u001b[38;5;241m.\u001b[39mZero\n\u001b[0;32m    120\u001b[0m \u001b[38;5;28;01mif\u001b[39;00m x0 \u001b[38;5;129;01mis\u001b[39;00m \u001b[38;5;129;01mnot\u001b[39;00m \u001b[38;5;28;01mNone\u001b[39;00m:\n\u001b[1;32m--> 121\u001b[0m     d \u001b[38;5;241m=\u001b[39m \u001b[38;5;28mself\u001b[39m\u001b[38;5;241m.\u001b[39mdiff(x)\n\u001b[0;32m    122\u001b[0m     \u001b[38;5;28;01mif\u001b[39;00m d\u001b[38;5;241m.\u001b[39mis_number:\n\u001b[0;32m    123\u001b[0m         currentroots \u001b[38;5;241m=\u001b[39m []\n",
      "File \u001b[1;32mC:\\ProgramData\\anaconda3\\Lib\\site-packages\\sympy\\core\\expr.py:3586\u001b[0m, in \u001b[0;36mExpr.diff\u001b[1;34m(self, *symbols, **assumptions)\u001b[0m\n\u001b[0;32m   3584\u001b[0m \u001b[38;5;28;01mdef\u001b[39;00m \u001b[38;5;21mdiff\u001b[39m(\u001b[38;5;28mself\u001b[39m, \u001b[38;5;241m*\u001b[39msymbols, \u001b[38;5;241m*\u001b[39m\u001b[38;5;241m*\u001b[39massumptions):\n\u001b[0;32m   3585\u001b[0m     assumptions\u001b[38;5;241m.\u001b[39msetdefault(\u001b[38;5;124m\"\u001b[39m\u001b[38;5;124mevaluate\u001b[39m\u001b[38;5;124m\"\u001b[39m, \u001b[38;5;28;01mTrue\u001b[39;00m)\n\u001b[1;32m-> 3586\u001b[0m     \u001b[38;5;28;01mreturn\u001b[39;00m _derivative_dispatch(\u001b[38;5;28mself\u001b[39m, \u001b[38;5;241m*\u001b[39msymbols, \u001b[38;5;241m*\u001b[39m\u001b[38;5;241m*\u001b[39massumptions)\n",
      "File \u001b[1;32mC:\\ProgramData\\anaconda3\\Lib\\site-packages\\sympy\\core\\function.py:1909\u001b[0m, in \u001b[0;36m_derivative_dispatch\u001b[1;34m(expr, *variables, **kwargs)\u001b[0m\n\u001b[0;32m   1907\u001b[0m     \u001b[38;5;28;01mfrom\u001b[39;00m \u001b[38;5;21;01msympy\u001b[39;00m\u001b[38;5;21;01m.\u001b[39;00m\u001b[38;5;21;01mtensor\u001b[39;00m\u001b[38;5;21;01m.\u001b[39;00m\u001b[38;5;21;01marray\u001b[39;00m\u001b[38;5;21;01m.\u001b[39;00m\u001b[38;5;21;01marray_derivatives\u001b[39;00m \u001b[38;5;28;01mimport\u001b[39;00m ArrayDerivative\n\u001b[0;32m   1908\u001b[0m     \u001b[38;5;28;01mreturn\u001b[39;00m ArrayDerivative(expr, \u001b[38;5;241m*\u001b[39mvariables, \u001b[38;5;241m*\u001b[39m\u001b[38;5;241m*\u001b[39mkwargs)\n\u001b[1;32m-> 1909\u001b[0m \u001b[38;5;28;01mreturn\u001b[39;00m Derivative(expr, \u001b[38;5;241m*\u001b[39mvariables, \u001b[38;5;241m*\u001b[39m\u001b[38;5;241m*\u001b[39mkwargs)\n",
      "File \u001b[1;32mC:\\ProgramData\\anaconda3\\Lib\\site-packages\\sympy\\core\\function.py:1438\u001b[0m, in \u001b[0;36mDerivative.__new__\u001b[1;34m(cls, expr, *variables, **kwargs)\u001b[0m\n\u001b[0;32m   1435\u001b[0m         expr \u001b[38;5;241m*\u001b[39m\u001b[38;5;241m=\u001b[39m old_v\u001b[38;5;241m.\u001b[39mdiff(old_v)\n\u001b[0;32m   1437\u001b[0m obj \u001b[38;5;241m=\u001b[39m \u001b[38;5;28mcls\u001b[39m\u001b[38;5;241m.\u001b[39m_dispatch_eval_derivative_n_times(expr, v, count)\n\u001b[1;32m-> 1438\u001b[0m \u001b[38;5;28;01mif\u001b[39;00m obj \u001b[38;5;129;01mis\u001b[39;00m \u001b[38;5;129;01mnot\u001b[39;00m \u001b[38;5;28;01mNone\u001b[39;00m \u001b[38;5;129;01mand\u001b[39;00m obj\u001b[38;5;241m.\u001b[39mis_zero:\n\u001b[0;32m   1439\u001b[0m     \u001b[38;5;28;01mreturn\u001b[39;00m obj\n\u001b[0;32m   1441\u001b[0m nderivs \u001b[38;5;241m+\u001b[39m\u001b[38;5;241m=\u001b[39m count\n",
      "    \u001b[1;31m[... skipping similar frames: _ask at line 559 (1 times), make_property.<locals>.getit at line 503 (1 times)]\u001b[0m\n",
      "File \u001b[1;32mC:\\ProgramData\\anaconda3\\Lib\\site-packages\\sympy\\core\\add.py:863\u001b[0m, in \u001b[0;36mAdd._eval_is_extended_negative\u001b[1;34m(self)\u001b[0m\n\u001b[0;32m    861\u001b[0m \u001b[38;5;28;01mif\u001b[39;00m \u001b[38;5;129;01mnot\u001b[39;00m c\u001b[38;5;241m.\u001b[39mis_zero:\n\u001b[0;32m    862\u001b[0m     \u001b[38;5;28;01mfrom\u001b[39;00m \u001b[38;5;21;01m.\u001b[39;00m\u001b[38;5;21;01mexprtools\u001b[39;00m \u001b[38;5;28;01mimport\u001b[39;00m _monotonic_sign\n\u001b[1;32m--> 863\u001b[0m     v \u001b[38;5;241m=\u001b[39m _monotonic_sign(a)\n\u001b[0;32m    864\u001b[0m     \u001b[38;5;28;01mif\u001b[39;00m v \u001b[38;5;129;01mis\u001b[39;00m \u001b[38;5;129;01mnot\u001b[39;00m \u001b[38;5;28;01mNone\u001b[39;00m:\n\u001b[0;32m    865\u001b[0m         s \u001b[38;5;241m=\u001b[39m v \u001b[38;5;241m+\u001b[39m c\n",
      "    \u001b[1;31m[... skipping similar frames: Derivative.__new__ at line 1438 (2 times), _ask at line 559 (2 times), _derivative_dispatch at line 1909 (2 times), _monotonic_sign at line 121 (2 times), Expr.diff at line 3586 (2 times), make_property.<locals>.getit at line 503 (2 times), Add._eval_is_extended_negative at line 863 (1 times)]\u001b[0m\n",
      "File \u001b[1;32mC:\\ProgramData\\anaconda3\\Lib\\site-packages\\sympy\\core\\add.py:779\u001b[0m, in \u001b[0;36mAdd._eval_is_extended_positive\u001b[1;34m(self)\u001b[0m\n\u001b[0;32m    777\u001b[0m \u001b[38;5;28;01mif\u001b[39;00m \u001b[38;5;129;01mnot\u001b[39;00m c\u001b[38;5;241m.\u001b[39mis_zero:\n\u001b[0;32m    778\u001b[0m     \u001b[38;5;28;01mfrom\u001b[39;00m \u001b[38;5;21;01m.\u001b[39;00m\u001b[38;5;21;01mexprtools\u001b[39;00m \u001b[38;5;28;01mimport\u001b[39;00m _monotonic_sign\n\u001b[1;32m--> 779\u001b[0m     v \u001b[38;5;241m=\u001b[39m _monotonic_sign(a)\n\u001b[0;32m    780\u001b[0m     \u001b[38;5;28;01mif\u001b[39;00m v \u001b[38;5;129;01mis\u001b[39;00m \u001b[38;5;129;01mnot\u001b[39;00m \u001b[38;5;28;01mNone\u001b[39;00m:\n\u001b[0;32m    781\u001b[0m         s \u001b[38;5;241m=\u001b[39m v \u001b[38;5;241m+\u001b[39m c\n",
      "    \u001b[1;31m[... skipping similar frames: Derivative.__new__ at line 1438 (12 times), _ask at line 559 (12 times), _derivative_dispatch at line 1909 (12 times), _monotonic_sign at line 121 (12 times), Expr.diff at line 3586 (12 times), make_property.<locals>.getit at line 503 (12 times), Add._eval_is_extended_positive at line 779 (7 times), Add._eval_is_extended_negative at line 863 (4 times)]\u001b[0m\n",
      "File \u001b[1;32mC:\\ProgramData\\anaconda3\\Lib\\site-packages\\sympy\\core\\add.py:779\u001b[0m, in \u001b[0;36mAdd._eval_is_extended_positive\u001b[1;34m(self)\u001b[0m\n\u001b[0;32m    777\u001b[0m \u001b[38;5;28;01mif\u001b[39;00m \u001b[38;5;129;01mnot\u001b[39;00m c\u001b[38;5;241m.\u001b[39mis_zero:\n\u001b[0;32m    778\u001b[0m     \u001b[38;5;28;01mfrom\u001b[39;00m \u001b[38;5;21;01m.\u001b[39;00m\u001b[38;5;21;01mexprtools\u001b[39;00m \u001b[38;5;28;01mimport\u001b[39;00m _monotonic_sign\n\u001b[1;32m--> 779\u001b[0m     v \u001b[38;5;241m=\u001b[39m _monotonic_sign(a)\n\u001b[0;32m    780\u001b[0m     \u001b[38;5;28;01mif\u001b[39;00m v \u001b[38;5;129;01mis\u001b[39;00m \u001b[38;5;129;01mnot\u001b[39;00m \u001b[38;5;28;01mNone\u001b[39;00m:\n\u001b[0;32m    781\u001b[0m         s \u001b[38;5;241m=\u001b[39m v \u001b[38;5;241m+\u001b[39m c\n",
      "File \u001b[1;32mC:\\ProgramData\\anaconda3\\Lib\\site-packages\\sympy\\core\\exprtools.py:121\u001b[0m, in \u001b[0;36m_monotonic_sign\u001b[1;34m(self)\u001b[0m\n\u001b[0;32m    119\u001b[0m     x0 \u001b[38;5;241m=\u001b[39m S\u001b[38;5;241m.\u001b[39mZero\n\u001b[0;32m    120\u001b[0m \u001b[38;5;28;01mif\u001b[39;00m x0 \u001b[38;5;129;01mis\u001b[39;00m \u001b[38;5;129;01mnot\u001b[39;00m \u001b[38;5;28;01mNone\u001b[39;00m:\n\u001b[1;32m--> 121\u001b[0m     d \u001b[38;5;241m=\u001b[39m \u001b[38;5;28mself\u001b[39m\u001b[38;5;241m.\u001b[39mdiff(x)\n\u001b[0;32m    122\u001b[0m     \u001b[38;5;28;01mif\u001b[39;00m d\u001b[38;5;241m.\u001b[39mis_number:\n\u001b[0;32m    123\u001b[0m         currentroots \u001b[38;5;241m=\u001b[39m []\n",
      "File \u001b[1;32mC:\\ProgramData\\anaconda3\\Lib\\site-packages\\sympy\\core\\expr.py:3586\u001b[0m, in \u001b[0;36mExpr.diff\u001b[1;34m(self, *symbols, **assumptions)\u001b[0m\n\u001b[0;32m   3584\u001b[0m \u001b[38;5;28;01mdef\u001b[39;00m \u001b[38;5;21mdiff\u001b[39m(\u001b[38;5;28mself\u001b[39m, \u001b[38;5;241m*\u001b[39msymbols, \u001b[38;5;241m*\u001b[39m\u001b[38;5;241m*\u001b[39massumptions):\n\u001b[0;32m   3585\u001b[0m     assumptions\u001b[38;5;241m.\u001b[39msetdefault(\u001b[38;5;124m\"\u001b[39m\u001b[38;5;124mevaluate\u001b[39m\u001b[38;5;124m\"\u001b[39m, \u001b[38;5;28;01mTrue\u001b[39;00m)\n\u001b[1;32m-> 3586\u001b[0m     \u001b[38;5;28;01mreturn\u001b[39;00m _derivative_dispatch(\u001b[38;5;28mself\u001b[39m, \u001b[38;5;241m*\u001b[39msymbols, \u001b[38;5;241m*\u001b[39m\u001b[38;5;241m*\u001b[39massumptions)\n",
      "File \u001b[1;32mC:\\ProgramData\\anaconda3\\Lib\\site-packages\\sympy\\core\\function.py:1909\u001b[0m, in \u001b[0;36m_derivative_dispatch\u001b[1;34m(expr, *variables, **kwargs)\u001b[0m\n\u001b[0;32m   1907\u001b[0m     \u001b[38;5;28;01mfrom\u001b[39;00m \u001b[38;5;21;01msympy\u001b[39;00m\u001b[38;5;21;01m.\u001b[39;00m\u001b[38;5;21;01mtensor\u001b[39;00m\u001b[38;5;21;01m.\u001b[39;00m\u001b[38;5;21;01marray\u001b[39;00m\u001b[38;5;21;01m.\u001b[39;00m\u001b[38;5;21;01marray_derivatives\u001b[39;00m \u001b[38;5;28;01mimport\u001b[39;00m ArrayDerivative\n\u001b[0;32m   1908\u001b[0m     \u001b[38;5;28;01mreturn\u001b[39;00m ArrayDerivative(expr, \u001b[38;5;241m*\u001b[39mvariables, \u001b[38;5;241m*\u001b[39m\u001b[38;5;241m*\u001b[39mkwargs)\n\u001b[1;32m-> 1909\u001b[0m \u001b[38;5;28;01mreturn\u001b[39;00m Derivative(expr, \u001b[38;5;241m*\u001b[39mvariables, \u001b[38;5;241m*\u001b[39m\u001b[38;5;241m*\u001b[39mkwargs)\n",
      "File \u001b[1;32mC:\\ProgramData\\anaconda3\\Lib\\site-packages\\sympy\\core\\function.py:1438\u001b[0m, in \u001b[0;36mDerivative.__new__\u001b[1;34m(cls, expr, *variables, **kwargs)\u001b[0m\n\u001b[0;32m   1435\u001b[0m         expr \u001b[38;5;241m*\u001b[39m\u001b[38;5;241m=\u001b[39m old_v\u001b[38;5;241m.\u001b[39mdiff(old_v)\n\u001b[0;32m   1437\u001b[0m obj \u001b[38;5;241m=\u001b[39m \u001b[38;5;28mcls\u001b[39m\u001b[38;5;241m.\u001b[39m_dispatch_eval_derivative_n_times(expr, v, count)\n\u001b[1;32m-> 1438\u001b[0m \u001b[38;5;28;01mif\u001b[39;00m obj \u001b[38;5;129;01mis\u001b[39;00m \u001b[38;5;129;01mnot\u001b[39;00m \u001b[38;5;28;01mNone\u001b[39;00m \u001b[38;5;129;01mand\u001b[39;00m obj\u001b[38;5;241m.\u001b[39mis_zero:\n\u001b[0;32m   1439\u001b[0m     \u001b[38;5;28;01mreturn\u001b[39;00m obj\n\u001b[0;32m   1441\u001b[0m nderivs \u001b[38;5;241m+\u001b[39m\u001b[38;5;241m=\u001b[39m count\n",
      "File \u001b[1;32mC:\\ProgramData\\anaconda3\\Lib\\site-packages\\sympy\\core\\assumptions.py:503\u001b[0m, in \u001b[0;36mmake_property.<locals>.getit\u001b[1;34m(self)\u001b[0m\n\u001b[0;32m    501\u001b[0m \u001b[38;5;28;01mif\u001b[39;00m \u001b[38;5;28mself\u001b[39m\u001b[38;5;241m.\u001b[39m_assumptions \u001b[38;5;129;01mis\u001b[39;00m \u001b[38;5;28mself\u001b[39m\u001b[38;5;241m.\u001b[39mdefault_assumptions:\n\u001b[0;32m    502\u001b[0m     \u001b[38;5;28mself\u001b[39m\u001b[38;5;241m.\u001b[39m_assumptions \u001b[38;5;241m=\u001b[39m \u001b[38;5;28mself\u001b[39m\u001b[38;5;241m.\u001b[39mdefault_assumptions\u001b[38;5;241m.\u001b[39mcopy()\n\u001b[1;32m--> 503\u001b[0m \u001b[38;5;28;01mreturn\u001b[39;00m _ask(fact, \u001b[38;5;28mself\u001b[39m)\n",
      "File \u001b[1;32mC:\\ProgramData\\anaconda3\\Lib\\site-packages\\sympy\\core\\assumptions.py:559\u001b[0m, in \u001b[0;36m_ask\u001b[1;34m(fact, obj)\u001b[0m\n\u001b[0;32m    557\u001b[0m handler_i \u001b[38;5;241m=\u001b[39m handler_map\u001b[38;5;241m.\u001b[39mget(fact_i)\n\u001b[0;32m    558\u001b[0m \u001b[38;5;28;01mif\u001b[39;00m handler_i \u001b[38;5;129;01mis\u001b[39;00m \u001b[38;5;129;01mnot\u001b[39;00m \u001b[38;5;28;01mNone\u001b[39;00m:\n\u001b[1;32m--> 559\u001b[0m     fact_i_value \u001b[38;5;241m=\u001b[39m handler_i(obj)\n\u001b[0;32m    561\u001b[0m \u001b[38;5;66;03m# If we get a new value for fact_i then we should update our knowledge\u001b[39;00m\n\u001b[0;32m    562\u001b[0m \u001b[38;5;66;03m# of fact_i as well as any related facts that can be inferred using the\u001b[39;00m\n\u001b[0;32m    563\u001b[0m \u001b[38;5;66;03m# inference rules connecting the fact_i and any other fact values that\u001b[39;00m\n\u001b[0;32m    564\u001b[0m \u001b[38;5;66;03m# are already known.\u001b[39;00m\n\u001b[0;32m    565\u001b[0m \u001b[38;5;28;01mif\u001b[39;00m fact_i_value \u001b[38;5;129;01mis\u001b[39;00m \u001b[38;5;129;01mnot\u001b[39;00m \u001b[38;5;28;01mNone\u001b[39;00m:\n",
      "File \u001b[1;32mC:\\ProgramData\\anaconda3\\Lib\\site-packages\\sympy\\core\\add.py:863\u001b[0m, in \u001b[0;36mAdd._eval_is_extended_negative\u001b[1;34m(self)\u001b[0m\n\u001b[0;32m    861\u001b[0m \u001b[38;5;28;01mif\u001b[39;00m \u001b[38;5;129;01mnot\u001b[39;00m c\u001b[38;5;241m.\u001b[39mis_zero:\n\u001b[0;32m    862\u001b[0m     \u001b[38;5;28;01mfrom\u001b[39;00m \u001b[38;5;21;01m.\u001b[39;00m\u001b[38;5;21;01mexprtools\u001b[39;00m \u001b[38;5;28;01mimport\u001b[39;00m _monotonic_sign\n\u001b[1;32m--> 863\u001b[0m     v \u001b[38;5;241m=\u001b[39m _monotonic_sign(a)\n\u001b[0;32m    864\u001b[0m     \u001b[38;5;28;01mif\u001b[39;00m v \u001b[38;5;129;01mis\u001b[39;00m \u001b[38;5;129;01mnot\u001b[39;00m \u001b[38;5;28;01mNone\u001b[39;00m:\n\u001b[0;32m    865\u001b[0m         s \u001b[38;5;241m=\u001b[39m v \u001b[38;5;241m+\u001b[39m c\n",
      "File \u001b[1;32mC:\\ProgramData\\anaconda3\\Lib\\site-packages\\sympy\\core\\exprtools.py:126\u001b[0m, in \u001b[0;36m_monotonic_sign\u001b[1;34m(self)\u001b[0m\n\u001b[0;32m    124\u001b[0m \u001b[38;5;28;01melse\u001b[39;00m:\n\u001b[0;32m    125\u001b[0m     \u001b[38;5;28;01mtry\u001b[39;00m:\n\u001b[1;32m--> 126\u001b[0m         currentroots \u001b[38;5;241m=\u001b[39m real_roots(d)\n\u001b[0;32m    127\u001b[0m     \u001b[38;5;28;01mexcept\u001b[39;00m (PolynomialError, \u001b[38;5;167;01mNotImplementedError\u001b[39;00m):\n\u001b[0;32m    128\u001b[0m         currentroots \u001b[38;5;241m=\u001b[39m [r \u001b[38;5;28;01mfor\u001b[39;00m r \u001b[38;5;129;01min\u001b[39;00m roots(d, x) \u001b[38;5;28;01mif\u001b[39;00m r\u001b[38;5;241m.\u001b[39mis_extended_real]\n",
      "File \u001b[1;32mC:\\ProgramData\\anaconda3\\Lib\\site-packages\\sympy\\polys\\polytools.py:6693\u001b[0m, in \u001b[0;36mreal_roots\u001b[1;34m(f, multiple)\u001b[0m\n\u001b[0;32m   6689\u001b[0m \u001b[38;5;28;01mexcept\u001b[39;00m GeneratorsNeeded:\n\u001b[0;32m   6690\u001b[0m     \u001b[38;5;28;01mraise\u001b[39;00m PolynomialError(\n\u001b[0;32m   6691\u001b[0m         \u001b[38;5;124m\"\u001b[39m\u001b[38;5;124mCannot compute real roots of \u001b[39m\u001b[38;5;132;01m%s\u001b[39;00m\u001b[38;5;124m, not a polynomial\u001b[39m\u001b[38;5;124m\"\u001b[39m \u001b[38;5;241m%\u001b[39m f)\n\u001b[1;32m-> 6693\u001b[0m \u001b[38;5;28;01mreturn\u001b[39;00m F\u001b[38;5;241m.\u001b[39mreal_roots(multiple\u001b[38;5;241m=\u001b[39mmultiple)\n",
      "File \u001b[1;32mC:\\ProgramData\\anaconda3\\Lib\\site-packages\\sympy\\polys\\polytools.py:3606\u001b[0m, in \u001b[0;36mPoly.real_roots\u001b[1;34m(f, multiple, radicals)\u001b[0m\n\u001b[0;32m   3590\u001b[0m \u001b[38;5;28;01mdef\u001b[39;00m \u001b[38;5;21mreal_roots\u001b[39m(f, multiple\u001b[38;5;241m=\u001b[39m\u001b[38;5;28;01mTrue\u001b[39;00m, radicals\u001b[38;5;241m=\u001b[39m\u001b[38;5;28;01mTrue\u001b[39;00m):\n\u001b[0;32m   3591\u001b[0m \u001b[38;5;250m    \u001b[39m\u001b[38;5;124;03m\"\"\"\u001b[39;00m\n\u001b[0;32m   3592\u001b[0m \u001b[38;5;124;03m    Return a list of real roots with multiplicities.\u001b[39;00m\n\u001b[0;32m   3593\u001b[0m \n\u001b[1;32m   (...)\u001b[0m\n\u001b[0;32m   3604\u001b[0m \n\u001b[0;32m   3605\u001b[0m \u001b[38;5;124;03m    \"\"\"\u001b[39;00m\n\u001b[1;32m-> 3606\u001b[0m     reals \u001b[38;5;241m=\u001b[39m sympy\u001b[38;5;241m.\u001b[39mpolys\u001b[38;5;241m.\u001b[39mrootoftools\u001b[38;5;241m.\u001b[39mCRootOf\u001b[38;5;241m.\u001b[39mreal_roots(f, radicals\u001b[38;5;241m=\u001b[39mradicals)\n\u001b[0;32m   3608\u001b[0m     \u001b[38;5;28;01mif\u001b[39;00m multiple:\n\u001b[0;32m   3609\u001b[0m         \u001b[38;5;28;01mreturn\u001b[39;00m reals\n",
      "File \u001b[1;32mC:\\ProgramData\\anaconda3\\Lib\\site-packages\\sympy\\polys\\rootoftools.py:412\u001b[0m, in \u001b[0;36mComplexRootOf.real_roots\u001b[1;34m(cls, poly, radicals)\u001b[0m\n\u001b[0;32m    409\u001b[0m \u001b[38;5;129m@classmethod\u001b[39m\n\u001b[0;32m    410\u001b[0m \u001b[38;5;28;01mdef\u001b[39;00m \u001b[38;5;21mreal_roots\u001b[39m(\u001b[38;5;28mcls\u001b[39m, poly, radicals\u001b[38;5;241m=\u001b[39m\u001b[38;5;28;01mTrue\u001b[39;00m):\n\u001b[0;32m    411\u001b[0m \u001b[38;5;250m    \u001b[39m\u001b[38;5;124;03m\"\"\"Get real roots of a polynomial. \"\"\"\u001b[39;00m\n\u001b[1;32m--> 412\u001b[0m     \u001b[38;5;28;01mreturn\u001b[39;00m \u001b[38;5;28mcls\u001b[39m\u001b[38;5;241m.\u001b[39m_get_roots(\u001b[38;5;124m\"\u001b[39m\u001b[38;5;124m_real_roots\u001b[39m\u001b[38;5;124m\"\u001b[39m, poly, radicals)\n",
      "File \u001b[1;32mC:\\ProgramData\\anaconda3\\Lib\\site-packages\\sympy\\polys\\rootoftools.py:771\u001b[0m, in \u001b[0;36mComplexRootOf._get_roots\u001b[1;34m(cls, method, poly, radicals)\u001b[0m\n\u001b[0;32m    769\u001b[0m \u001b[38;5;28;01mfor\u001b[39;00m x \u001b[38;5;129;01min\u001b[39;00m chain((symbols(\u001b[38;5;124m'\u001b[39m\u001b[38;5;124mx\u001b[39m\u001b[38;5;124m'\u001b[39m),), numbered_symbols(\u001b[38;5;124m'\u001b[39m\u001b[38;5;124mx\u001b[39m\u001b[38;5;124m'\u001b[39m)):\n\u001b[0;32m    770\u001b[0m     \u001b[38;5;28;01mif\u001b[39;00m x\u001b[38;5;241m.\u001b[39mname \u001b[38;5;129;01mnot\u001b[39;00m \u001b[38;5;129;01min\u001b[39;00m free_names:\n\u001b[1;32m--> 771\u001b[0m         poly \u001b[38;5;241m=\u001b[39m poly\u001b[38;5;241m.\u001b[39mxreplace({d: x})\n\u001b[0;32m    772\u001b[0m         \u001b[38;5;28;01mbreak\u001b[39;00m\n\u001b[0;32m    773\u001b[0m coeff, poly \u001b[38;5;241m=\u001b[39m \u001b[38;5;28mcls\u001b[39m\u001b[38;5;241m.\u001b[39m_preprocess_roots(poly)\n",
      "File \u001b[1;32mC:\\ProgramData\\anaconda3\\Lib\\site-packages\\sympy\\core\\basic.py:1230\u001b[0m, in \u001b[0;36mBasic.xreplace\u001b[1;34m(self, rule)\u001b[0m\n\u001b[0;32m   1168\u001b[0m \u001b[38;5;28;01mdef\u001b[39;00m \u001b[38;5;21mxreplace\u001b[39m(\u001b[38;5;28mself\u001b[39m, rule):\n\u001b[0;32m   1169\u001b[0m \u001b[38;5;250m    \u001b[39m\u001b[38;5;124;03m\"\"\"\u001b[39;00m\n\u001b[0;32m   1170\u001b[0m \u001b[38;5;124;03m    Replace occurrences of objects within the expression.\u001b[39;00m\n\u001b[0;32m   1171\u001b[0m \n\u001b[1;32m   (...)\u001b[0m\n\u001b[0;32m   1228\u001b[0m \n\u001b[0;32m   1229\u001b[0m \u001b[38;5;124;03m    \"\"\"\u001b[39;00m\n\u001b[1;32m-> 1230\u001b[0m     value, _ \u001b[38;5;241m=\u001b[39m \u001b[38;5;28mself\u001b[39m\u001b[38;5;241m.\u001b[39m_xreplace(rule)\n\u001b[0;32m   1231\u001b[0m     \u001b[38;5;28;01mreturn\u001b[39;00m value\n",
      "File \u001b[1;32mC:\\ProgramData\\anaconda3\\Lib\\site-packages\\sympy\\core\\basic.py:1245\u001b[0m, in \u001b[0;36mBasic._xreplace\u001b[1;34m(self, rule)\u001b[0m\n\u001b[0;32m   1243\u001b[0m _xreplace \u001b[38;5;241m=\u001b[39m \u001b[38;5;28mgetattr\u001b[39m(a, \u001b[38;5;124m'\u001b[39m\u001b[38;5;124m_xreplace\u001b[39m\u001b[38;5;124m'\u001b[39m, \u001b[38;5;28;01mNone\u001b[39;00m)\n\u001b[0;32m   1244\u001b[0m \u001b[38;5;28;01mif\u001b[39;00m _xreplace \u001b[38;5;129;01mis\u001b[39;00m \u001b[38;5;129;01mnot\u001b[39;00m \u001b[38;5;28;01mNone\u001b[39;00m:\n\u001b[1;32m-> 1245\u001b[0m     a_xr \u001b[38;5;241m=\u001b[39m _xreplace(rule)\n\u001b[0;32m   1246\u001b[0m     args\u001b[38;5;241m.\u001b[39mappend(a_xr[\u001b[38;5;241m0\u001b[39m])\n\u001b[0;32m   1247\u001b[0m     changed \u001b[38;5;241m|\u001b[39m\u001b[38;5;241m=\u001b[39m a_xr[\u001b[38;5;241m1\u001b[39m]\n",
      "File \u001b[1;32mC:\\ProgramData\\anaconda3\\Lib\\site-packages\\sympy\\core\\basic.py:1252\u001b[0m, in \u001b[0;36mBasic._xreplace\u001b[1;34m(self, rule)\u001b[0m\n\u001b[0;32m   1250\u001b[0m     args \u001b[38;5;241m=\u001b[39m \u001b[38;5;28mtuple\u001b[39m(args)\n\u001b[0;32m   1251\u001b[0m     \u001b[38;5;28;01mif\u001b[39;00m changed:\n\u001b[1;32m-> 1252\u001b[0m         \u001b[38;5;28;01mreturn\u001b[39;00m \u001b[38;5;28mself\u001b[39m\u001b[38;5;241m.\u001b[39mfunc(\u001b[38;5;241m*\u001b[39margs), \u001b[38;5;28;01mTrue\u001b[39;00m\n\u001b[0;32m   1253\u001b[0m \u001b[38;5;28;01mreturn\u001b[39;00m \u001b[38;5;28mself\u001b[39m, \u001b[38;5;28;01mFalse\u001b[39;00m\n",
      "File \u001b[1;32mC:\\ProgramData\\anaconda3\\Lib\\site-packages\\sympy\\core\\cache.py:72\u001b[0m, in \u001b[0;36m__cacheit.<locals>.func_wrapper.<locals>.wrapper\u001b[1;34m(*args, **kwargs)\u001b[0m\n\u001b[0;32m     69\u001b[0m \u001b[38;5;129m@wraps\u001b[39m(func)\n\u001b[0;32m     70\u001b[0m \u001b[38;5;28;01mdef\u001b[39;00m \u001b[38;5;21mwrapper\u001b[39m(\u001b[38;5;241m*\u001b[39margs, \u001b[38;5;241m*\u001b[39m\u001b[38;5;241m*\u001b[39mkwargs):\n\u001b[0;32m     71\u001b[0m     \u001b[38;5;28;01mtry\u001b[39;00m:\n\u001b[1;32m---> 72\u001b[0m         retval \u001b[38;5;241m=\u001b[39m cfunc(\u001b[38;5;241m*\u001b[39margs, \u001b[38;5;241m*\u001b[39m\u001b[38;5;241m*\u001b[39mkwargs)\n\u001b[0;32m     73\u001b[0m     \u001b[38;5;28;01mexcept\u001b[39;00m \u001b[38;5;167;01mTypeError\u001b[39;00m \u001b[38;5;28;01mas\u001b[39;00m e:\n\u001b[0;32m     74\u001b[0m         \u001b[38;5;28;01mif\u001b[39;00m \u001b[38;5;129;01mnot\u001b[39;00m e\u001b[38;5;241m.\u001b[39margs \u001b[38;5;129;01mor\u001b[39;00m \u001b[38;5;129;01mnot\u001b[39;00m e\u001b[38;5;241m.\u001b[39margs[\u001b[38;5;241m0\u001b[39m]\u001b[38;5;241m.\u001b[39mstartswith(\u001b[38;5;124m'\u001b[39m\u001b[38;5;124munhashable type:\u001b[39m\u001b[38;5;124m'\u001b[39m):\n",
      "File \u001b[1;32mC:\\ProgramData\\anaconda3\\Lib\\site-packages\\sympy\\core\\operations.py:98\u001b[0m, in \u001b[0;36mAssocOp.__new__\u001b[1;34m(cls, evaluate, _sympify, *args)\u001b[0m\n\u001b[0;32m     95\u001b[0m \u001b[38;5;28;01mif\u001b[39;00m \u001b[38;5;28mlen\u001b[39m(args) \u001b[38;5;241m==\u001b[39m \u001b[38;5;241m1\u001b[39m:\n\u001b[0;32m     96\u001b[0m     \u001b[38;5;28;01mreturn\u001b[39;00m args[\u001b[38;5;241m0\u001b[39m]\n\u001b[1;32m---> 98\u001b[0m c_part, nc_part, order_symbols \u001b[38;5;241m=\u001b[39m \u001b[38;5;28mcls\u001b[39m\u001b[38;5;241m.\u001b[39mflatten(args)\n\u001b[0;32m     99\u001b[0m is_commutative \u001b[38;5;241m=\u001b[39m \u001b[38;5;129;01mnot\u001b[39;00m nc_part\n\u001b[0;32m    100\u001b[0m obj \u001b[38;5;241m=\u001b[39m \u001b[38;5;28mcls\u001b[39m\u001b[38;5;241m.\u001b[39m_from_args(c_part \u001b[38;5;241m+\u001b[39m nc_part, is_commutative)\n",
      "File \u001b[1;32mC:\\ProgramData\\anaconda3\\Lib\\site-packages\\sympy\\core\\add.py:381\u001b[0m, in \u001b[0;36mAdd.flatten\u001b[1;34m(cls, seq)\u001b[0m\n\u001b[0;32m    378\u001b[0m             \u001b[38;5;28;01mbreak\u001b[39;00m\n\u001b[0;32m    380\u001b[0m \u001b[38;5;66;03m# order args canonically\u001b[39;00m\n\u001b[1;32m--> 381\u001b[0m _addsort(newseq)\n\u001b[0;32m    383\u001b[0m \u001b[38;5;66;03m# current code expects coeff to be first\u001b[39;00m\n\u001b[0;32m    384\u001b[0m \u001b[38;5;28;01mif\u001b[39;00m coeff \u001b[38;5;129;01mis\u001b[39;00m \u001b[38;5;129;01mnot\u001b[39;00m S\u001b[38;5;241m.\u001b[39mZero:\n",
      "File \u001b[1;32mC:\\ProgramData\\anaconda3\\Lib\\site-packages\\sympy\\core\\add.py:38\u001b[0m, in \u001b[0;36m_addsort\u001b[1;34m(args)\u001b[0m\n\u001b[0;32m     36\u001b[0m \u001b[38;5;28;01mdef\u001b[39;00m \u001b[38;5;21m_addsort\u001b[39m(args):\n\u001b[0;32m     37\u001b[0m     \u001b[38;5;66;03m# in-place sorting of args\u001b[39;00m\n\u001b[1;32m---> 38\u001b[0m     args\u001b[38;5;241m.\u001b[39msort(key\u001b[38;5;241m=\u001b[39m_args_sortkey)\n",
      "File \u001b[1;32mC:\\ProgramData\\anaconda3\\Lib\\site-packages\\sympy\\core\\basic.py:266\u001b[0m, in \u001b[0;36mBasic.compare\u001b[1;34m(self, other)\u001b[0m\n\u001b[0;32m    264\u001b[0m n1 \u001b[38;5;241m=\u001b[39m \u001b[38;5;28mself\u001b[39m\u001b[38;5;241m.\u001b[39m\u001b[38;5;18m__class__\u001b[39m\n\u001b[0;32m    265\u001b[0m n2 \u001b[38;5;241m=\u001b[39m other\u001b[38;5;241m.\u001b[39m\u001b[38;5;18m__class__\u001b[39m\n\u001b[1;32m--> 266\u001b[0m c \u001b[38;5;241m=\u001b[39m _old_compare(n1, n2)\n\u001b[0;32m    267\u001b[0m \u001b[38;5;28;01mif\u001b[39;00m c:\n\u001b[0;32m    268\u001b[0m     \u001b[38;5;28;01mreturn\u001b[39;00m c\n",
      "File \u001b[1;32mC:\\ProgramData\\anaconda3\\Lib\\site-packages\\sympy\\core\\basic.py:36\u001b[0m, in \u001b[0;36m_old_compare\u001b[1;34m(x, y)\u001b[0m\n\u001b[0;32m     30\u001b[0m     \u001b[38;5;28;01mexcept\u001b[39;00m SympifyError:\n\u001b[0;32m     31\u001b[0m         \u001b[38;5;28;01mraise\u001b[39;00m \u001b[38;5;167;01mTypeError\u001b[39;00m(\n\u001b[0;32m     32\u001b[0m             \u001b[38;5;124m'\u001b[39m\u001b[38;5;124mArgument must be a Basic object, not `\u001b[39m\u001b[38;5;132;01m%s\u001b[39;00m\u001b[38;5;124m`\u001b[39m\u001b[38;5;124m'\u001b[39m \u001b[38;5;241m%\u001b[39m func_name(\n\u001b[0;32m     33\u001b[0m             expr))\n\u001b[1;32m---> 36\u001b[0m \u001b[38;5;28;01mdef\u001b[39;00m \u001b[38;5;21m_old_compare\u001b[39m(x: \u001b[38;5;28mtype\u001b[39m, y: \u001b[38;5;28mtype\u001b[39m) \u001b[38;5;241m-\u001b[39m\u001b[38;5;241m>\u001b[39m \u001b[38;5;28mint\u001b[39m:\n\u001b[0;32m     37\u001b[0m     \u001b[38;5;66;03m# If the other object is not a Basic subclass, then we are not equal to it.\u001b[39;00m\n\u001b[0;32m     38\u001b[0m     \u001b[38;5;28;01mif\u001b[39;00m \u001b[38;5;129;01mnot\u001b[39;00m \u001b[38;5;28missubclass\u001b[39m(y, Basic):\n\u001b[0;32m     39\u001b[0m         \u001b[38;5;28;01mreturn\u001b[39;00m \u001b[38;5;241m-\u001b[39m\u001b[38;5;241m1\u001b[39m\n",
      "\u001b[1;31mKeyboardInterrupt\u001b[0m: "
     ]
    }
   ],
   "source": [
    "# E(X(X-1)) 계산\n",
    "summation(k*(k-1)*binomial(n,k)*p**k*(1-p)**(n-k),(k,1,n)).simplify()"
   ]
  },
  {
   "cell_type": "markdown",
   "id": "a35ca62e-31f7-4fe4-9759-265518d8b1e7",
   "metadata": {},
   "source": [
    "# 동전을 던져서 앞면이 나올 확률은 1/2이다. 100번을 던졌을 때 동전의 앞면이 20번이하로 나올 확률을 구하여라. "
   ]
  },
  {
   "cell_type": "code",
   "execution_count": 44,
   "id": "51ae7108-c846-45ee-8140-d1df03065c4d",
   "metadata": {},
   "outputs": [
    {
     "data": {
      "text/latex": [
       "$\\displaystyle 5.57954452862598 \\cdot 10^{-10}$"
      ],
      "text/plain": [
       "5.57954452862598e-10"
      ]
     },
     "execution_count": 44,
     "metadata": {},
     "output_type": "execute_result"
    }
   ],
   "source": [
    "# P(X<=20) 직접구하기\n",
    "n,p=100,0.5\n",
    "summation(binomial(n,k)*p**k*(1-p)**(n-k),(k,0,20)).simplify()"
   ]
  },
  {
   "cell_type": "code",
   "execution_count": 52,
   "id": "0cd03cfe-b52c-4ed5-9645-24800caec439",
   "metadata": {
    "tags": []
   },
   "outputs": [
    {
     "data": {
      "text/latex": [
       "$\\displaystyle 5.57954452862598 \\cdot 10^{-10}$"
      ],
      "text/plain": [
       "5.57954452862598e-10"
      ]
     },
     "execution_count": 52,
     "metadata": {},
     "output_type": "execute_result"
    }
   ],
   "source": [
    "from sympy.stats import Binomial,P\n",
    "# 확률변수 X를 이항분포로 정의\n",
    "X=Binomial('X',100,1/2)\n",
    "P(X<=20)"
   ]
  },
  {
   "cell_type": "code",
   "execution_count": 46,
   "id": "9ebdb45f-8d7b-4fe6-b49b-f116df838916",
   "metadata": {
    "tags": []
   },
   "outputs": [
    {
     "data": {
      "text/latex": [
       "$\\displaystyle \\begin{cases} 0.5^{n} 0.5^{100 - n} {\\binom{100}{n}} & \\text{for}\\: n \\leq 100 \\\\0 & \\text{otherwise} \\end{cases}$"
      ],
      "text/plain": [
       "Piecewise((0.5**n*0.5**(100 - n)*binomial(100, n), n <= 100), (0, True))"
      ]
     },
     "execution_count": 46,
     "metadata": {},
     "output_type": "execute_result"
    }
   ],
   "source": [
    "from sympy.stats import density\n",
    "# 확률질량함수 구하기\n",
    "n=symbols('n',integer=True,nonnegative=True)\n",
    "density(X)(n)"
   ]
  },
  {
   "cell_type": "code",
   "execution_count": 28,
   "id": "d2243003-cf1f-4441-b49b-f14702d489c8",
   "metadata": {
    "tags": []
   },
   "outputs": [
    {
     "data": {
      "text/latex": [
       "$\\displaystyle 1.0$"
      ],
      "text/plain": [
       "1.00000000000000"
      ]
     },
     "execution_count": 28,
     "metadata": {},
     "output_type": "execute_result"
    }
   ],
   "source": [
    "# 확률값 검증\n",
    "P(X<=100)"
   ]
  },
  {
   "cell_type": "code",
   "execution_count": 47,
   "id": "0ba02351-e038-4463-998d-91cab65783bd",
   "metadata": {
    "tags": []
   },
   "outputs": [
    {
     "data": {
      "text/latex": [
       "$\\displaystyle 0.5^{n} 0.5^{100 - n} {\\binom{100}{n}}$"
      ],
      "text/plain": [
       "0.5**n*0.5**(100 - n)*binomial(100, n)"
      ]
     },
     "execution_count": 47,
     "metadata": {},
     "output_type": "execute_result"
    }
   ],
   "source": [
    "out=density(X)(n)\n",
    "# 사용자 정의 함수로 정의\n",
    "f=lambda n: out.args[0][0]\n",
    "f(n)"
   ]
  },
  {
   "cell_type": "code",
   "execution_count": 48,
   "id": "d39d786c-e186-4a15-8f32-bad071b68acd",
   "metadata": {
    "tags": []
   },
   "outputs": [
    {
     "data": {
      "text/latex": [
       "$\\displaystyle 1.0$"
      ],
      "text/plain": [
       "1.00000000000000"
      ]
     },
     "execution_count": 48,
     "metadata": {},
     "output_type": "execute_result"
    }
   ],
   "source": [
    "from sympy import summation\n",
    "summation(f(n),(n,0,100))"
   ]
  },
  {
   "cell_type": "code",
   "execution_count": 49,
   "id": "4323f4ba-95f9-414b-aa17-4b6c46a5e917",
   "metadata": {},
   "outputs": [
    {
     "data": {
      "text/latex": [
       "$\\displaystyle 5.57954452862598 \\cdot 10^{-10}$"
      ],
      "text/plain": [
       "5.57954452862598e-10"
      ]
     },
     "execution_count": 49,
     "metadata": {},
     "output_type": "execute_result"
    }
   ],
   "source": [
    "# P(X<=20) 구하기\n",
    "summation(f(n),(n,0,20))"
   ]
  },
  {
   "cell_type": "code",
   "execution_count": 35,
   "id": "b53d12cf-e4da-44d2-8f17-3eae102e4683",
   "metadata": {},
   "outputs": [
    {
     "data": {
      "text/plain": [
       "8"
      ]
     },
     "execution_count": 35,
     "metadata": {},
     "output_type": "execute_result"
    }
   ],
   "source": [
    "# def 함수 착성\n",
    "def hst_fun(x,y):\n",
    "    return x**2+y**2\n",
    "hst_fun(2,2)"
   ]
  },
  {
   "cell_type": "code",
   "execution_count": 37,
   "id": "cc1e0ac3-774c-476e-894c-adb43e904efb",
   "metadata": {
    "tags": []
   },
   "outputs": [
    {
     "data": {
      "text/plain": [
       "8"
      ]
     },
     "execution_count": 37,
     "metadata": {},
     "output_type": "execute_result"
    }
   ],
   "source": [
    "# lambda 함수 작성\n",
    "hst_fun=lambda x,y: x**2+y**2\n",
    "hst_fun(2,2)"
   ]
  },
  {
   "cell_type": "code",
   "execution_count": 32,
   "id": "323eca04-5ca0-449f-b7b2-7fbfdb50ac5b",
   "metadata": {
    "tags": []
   },
   "outputs": [
    {
     "data": {
      "text/latex": [
       "$\\displaystyle {\\binom{100}{n}}$"
      ],
      "text/plain": [
       "binomial(100, n)"
      ]
     },
     "execution_count": 32,
     "metadata": {},
     "output_type": "execute_result"
    }
   ],
   "source": [
    "from sympy import binomial\n",
    "# 서로 다른 100개에서 n개를 순서와 상관없이 고르는 방법\n",
    "binomial(100,n)"
   ]
  },
  {
   "cell_type": "code",
   "execution_count": 33,
   "id": "54efe1b4-d09e-4a41-8162-ee5fc0754df9",
   "metadata": {
    "tags": []
   },
   "outputs": [
    {
     "data": {
      "text/latex": [
       "$\\displaystyle 10$"
      ],
      "text/plain": [
       "10"
      ]
     },
     "execution_count": 33,
     "metadata": {},
     "output_type": "execute_result"
    }
   ],
   "source": [
    "# 서로 다른 5개에서 순서 무관 2개\n",
    "binomial(5,2)"
   ]
  },
  {
   "cell_type": "code",
   "execution_count": 54,
   "id": "3bccf7a1-4568-4254-bca6-1dc350a69cc3",
   "metadata": {
    "tags": []
   },
   "outputs": [
    {
     "data": {
      "text/latex": [
       "$\\displaystyle 50.0$"
      ],
      "text/plain": [
       "50.0000000000000"
      ]
     },
     "execution_count": 54,
     "metadata": {},
     "output_type": "execute_result"
    }
   ],
   "source": [
    "from sympy.stats import E, variance\n",
    "# 평균 구하기\n",
    "E(X)"
   ]
  },
  {
   "cell_type": "code",
   "execution_count": 55,
   "id": "a6a223e0-c339-4ff6-8931-565667e0b203",
   "metadata": {
    "tags": []
   },
   "outputs": [
    {
     "data": {
      "text/latex": [
       "$\\displaystyle 25.0$"
      ],
      "text/plain": [
       "25.0000000000000"
      ]
     },
     "execution_count": 55,
     "metadata": {},
     "output_type": "execute_result"
    }
   ],
   "source": [
    "# 분산 구하기\n",
    "variance(X)"
   ]
  },
  {
   "attachments": {
    "97d375f6-ce29-4ccc-a975-0f05a2b983a6.png": {
     "image/png": "[encoded data removed]"
    }
   },
   "cell_type": "markdown",
   "id": "bd9ed0f7-5461-4ee3-937d-012444a2ce85",
   "metadata": {},
   "source": [
    "![image.png](attachment:97d375f6-ce29-4ccc-a975-0f05a2b983a6.png)"
   ]
  },
  {
   "cell_type": "code",
   "execution_count": 69,
   "id": "36580d96-6beb-47c5-a21a-00a60e50d8a0",
   "metadata": {},
   "outputs": [
    {
     "data": {
      "text/latex": [
       "$\\displaystyle 0.740503070879285$"
      ],
      "text/plain": [
       "0.740503070879285"
      ]
     },
     "execution_count": 69,
     "metadata": {},
     "output_type": "execute_result"
    }
   ],
   "source": [
    "X=Binomial('X',52,0.95)\n",
    "P(X<=50)"
   ]
  },
  {
   "attachments": {
    "95db5e4d-d729-4b04-8f75-f456798a06dd.png": {
     "image/png": "[encoded data removed]"
    }
   },
   "cell_type": "markdown",
   "id": "ad561246-81bb-498a-aea6-27137929132f",
   "metadata": {},
   "source": [
    "![image.png](attachment:95db5e4d-d729-4b04-8f75-f456798a06dd.png)"
   ]
  },
  {
   "cell_type": "code",
   "execution_count": 2,
   "id": "588c4f8e-0f51-4d33-9a42-3e1de7ff2d47",
   "metadata": {},
   "outputs": [
    {
     "data": {
      "text/latex": [
       "$\\displaystyle 1$"
      ],
      "text/plain": [
       "1"
      ]
     },
     "execution_count": 2,
     "metadata": {},
     "output_type": "execute_result"
    }
   ],
   "source": [
    "from sympy import summation, symbols, factorial, exp, oo\n",
    "n,k=symbols('n k', integer=True,nonnegative=True)\n",
    "lamda=symbols('λ',positive=True)\n",
    "summation(exp(-lamda)*lamda**k/factorial(k),(k,0,oo))"
   ]
  },
  {
   "cell_type": "code",
   "execution_count": 3,
   "id": "b04fab9b-418e-4976-9e94-5513d4085b94",
   "metadata": {},
   "outputs": [
    {
     "data": {
      "text/latex": [
       "$\\displaystyle λ$"
      ],
      "text/plain": [
       "λ"
      ]
     },
     "execution_count": 3,
     "metadata": {},
     "output_type": "execute_result"
    }
   ],
   "source": [
    "# E(X) 구하기\n",
    "summation(k*exp(-lamda)*lamda**k/factorial(k),(k,0,oo))"
   ]
  },
  {
   "cell_type": "code",
   "execution_count": 6,
   "id": "c7c002ff-0dab-45f8-adde-2cf5d2cfef7a",
   "metadata": {},
   "outputs": [
    {
     "data": {
      "text/latex": [
       "$\\displaystyle λ^{2}$"
      ],
      "text/plain": [
       "λ**2"
      ]
     },
     "execution_count": 6,
     "metadata": {},
     "output_type": "execute_result"
    }
   ],
   "source": [
    "# E(X(X-1)) 구하기\n",
    "S=summation(k*(k-1)*exp(-lamda)*lamda**k/factorial(k),(k,0,oo))\n",
    "S.simplify()"
   ]
  },
  {
   "cell_type": "code",
   "execution_count": 7,
   "id": "7652fb50-70f7-47bc-bad8-6dc833f49874",
   "metadata": {},
   "outputs": [
    {
     "data": {
      "text/latex": [
       "$\\displaystyle \\frac{λ^{k} e^{- λ}}{k!}$"
      ],
      "text/plain": [
       "λ**k*exp(-λ)/factorial(k)"
      ]
     },
     "execution_count": 7,
     "metadata": {},
     "output_type": "execute_result"
    }
   ],
   "source": [
    "from sympy.stats import Poisson,density\n",
    "\n",
    "X=Poisson('X',lamda)\n",
    "density(X)(k)"
   ]
  },
  {
   "cell_type": "code",
   "execution_count": 8,
   "id": "63ab8c09-a635-44ae-9ece-de7cb1de24bc",
   "metadata": {},
   "outputs": [
    {
     "data": {
      "text/plain": [
       "(λ, λ)"
      ]
     },
     "execution_count": 8,
     "metadata": {},
     "output_type": "execute_result"
    }
   ],
   "source": [
    "# 평균과 분산\n",
    "from sympy.stats import E,variance\n",
    "E(X),variance(X)"
   ]
  },
  {
   "cell_type": "code",
   "execution_count": 21,
   "id": "c116556d-3266-4c7c-9ccf-501eb18eb0fb",
   "metadata": {},
   "outputs": [
    {
     "data": {
      "text/latex": [
       "$\\displaystyle \\frac{125}{6 e^{5}}$"
      ],
      "text/plain": [
       "125*exp(-5)/6"
      ]
     },
     "execution_count": 21,
     "metadata": {},
     "output_type": "execute_result"
    }
   ],
   "source": [
    "from sympy.stats import P\n",
    "from sympy import Eq\n",
    "\n",
    "X=Poisson('X',5)\n",
    "P(Eq(X,3))"
   ]
  },
  {
   "cell_type": "code",
   "execution_count": 23,
   "id": "896f84d2-8461-49ae-9096-a9423675509d",
   "metadata": {},
   "outputs": [
    {
     "data": {
      "text/latex": [
       "$\\displaystyle 0.140373895814281$"
      ],
      "text/plain": [
       "0.140373895814281"
      ]
     },
     "execution_count": 23,
     "metadata": {},
     "output_type": "execute_result"
    }
   ],
   "source": [
    "from sympy import N\n",
    "# 직접계산하여 수치로 표현\n",
    "lamda,k=5,3\n",
    "out=exp(-lamda)*lamda**k/factorial(k)\n",
    "N(out)"
   ]
  },
  {
   "cell_type": "markdown",
   "id": "20e518f1-f1d5-4db0-9115-33fe0e6f8987",
   "metadata": {},
   "source": [
    "# 지수분포"
   ]
  },
  {
   "cell_type": "code",
   "execution_count": 37,
   "id": "7f3c57d4-388b-4e8b-a80d-389604f3d9ba",
   "metadata": {},
   "outputs": [
    {
     "data": {
      "text/latex": [
       "$\\displaystyle \\begin{cases} 1 & \\text{for}\\: \\left|{\\arg{\\left(λ \\right)}}\\right| < \\frac{\\pi}{2} \\\\\\int\\limits_{0}^{\\infty} λ e^{- x λ}\\, dx & \\text{otherwise} \\end{cases}$"
      ],
      "text/plain": [
       "Piecewise((1, Abs(arg(λ)) < pi/2), (Integral(λ*exp(-x*λ), (x, 0, oo)), True))"
      ]
     },
     "execution_count": 37,
     "metadata": {},
     "output_type": "execute_result"
    }
   ],
   "source": [
    "from sympy import integrate, oo, exp\n",
    "\n",
    "lamda,x=symbols('λ x', nonnegative=True)\n",
    "integrate(lamda*exp(-lamda*x),(x,0,oo))"
   ]
  },
  {
   "cell_type": "code",
   "execution_count": 25,
   "id": "c80e7b56-8a7d-43d0-bf09-8246e7a42b69",
   "metadata": {},
   "outputs": [
    {
     "data": {
      "text/latex": [
       "$\\displaystyle λ e^{- x λ}$"
      ],
      "text/plain": [
       "λ*exp(-x*λ)"
      ]
     },
     "execution_count": 25,
     "metadata": {},
     "output_type": "execute_result"
    }
   ],
   "source": [
    "from sympy.stats import Exponential, density\n",
    "\n",
    "lamda,x=symbols('λ x', nonnegative=True)\n",
    "\n",
    "X=Exponential('X',lamda)\n",
    "density(X)(x)"
   ]
  },
  {
   "cell_type": "code",
   "execution_count": 26,
   "id": "4e3e0ad2-d82a-42b5-a4fa-e76572bba04b",
   "metadata": {},
   "outputs": [
    {
     "data": {
      "text/plain": [
       "(1/λ, λ**(-2))"
      ]
     },
     "execution_count": 26,
     "metadata": {},
     "output_type": "execute_result"
    }
   ],
   "source": [
    "# 평균, 분산\n",
    "E(X),variance(X)"
   ]
  },
  {
   "cell_type": "code",
   "execution_count": 40,
   "id": "d18ee929-c385-4717-97b9-013f65c18c71",
   "metadata": {},
   "outputs": [
    {
     "data": {
      "text/latex": [
       "$\\displaystyle 0.77686983985157$"
      ],
      "text/plain": [
       "0.776869839851570"
      ]
     },
     "execution_count": 40,
     "metadata": {},
     "output_type": "execute_result"
    }
   ],
   "source": [
    "# 포아송분포로 변환하여 풀기\n",
    "Y=Poisson('Y',(1/10)*15)\n",
    "1-P(Eq(Y,0))"
   ]
  },
  {
   "attachments": {
    "afbe9eae-212f-47a6-b389-c1599f3dcd9c.png": {
     "image/png": "[encoded data removed]"
    }
   },
   "cell_type": "markdown",
   "id": "a9829e8e-98f1-4b7b-9a3a-95255508458f",
   "metadata": {},
   "source": [
    "![image.png](attachment:afbe9eae-212f-47a6-b389-c1599f3dcd9c.png)"
   ]
  },
  {
   "cell_type": "code",
   "execution_count": 35,
   "id": "7c189418-35d4-4a6c-954c-f5fd5e699bb4",
   "metadata": {},
   "outputs": [
    {
     "data": {
      "text/latex": [
       "$\\displaystyle 0.77686983985157$"
      ],
      "text/plain": [
       "0.776869839851570"
      ]
     },
     "execution_count": 35,
     "metadata": {},
     "output_type": "execute_result"
    }
   ],
   "source": [
    "from sympy.stats import P\n",
    "X=Exponential('X',0.1)\n",
    "P(X<=15)"
   ]
  },
  {
   "cell_type": "markdown",
   "id": "8ac8a12d-99f5-4e0e-b611-6fb667a58a59",
   "metadata": {},
   "source": [
    "# 정규분포"
   ]
  },
  {
   "cell_type": "code",
   "execution_count": 56,
   "id": "c6e49246-1b17-436f-bbf2-6415bfac385b",
   "metadata": {},
   "outputs": [
    {
     "data": {
      "text/latex": [
       "$\\displaystyle \\frac{\\sqrt{2} e^{- \\frac{0.5 \\left(x - μ\\right)^{2}}{σ^{2}}}}{2 \\sqrt{\\pi} σ}$"
      ],
      "text/plain": [
       "sqrt(2)*exp(-0.5*(x - μ)**2/σ**2)/(2*sqrt(pi)*σ)"
      ]
     },
     "execution_count": 56,
     "metadata": {},
     "output_type": "execute_result"
    }
   ],
   "source": [
    "from sympy import integrate,oo,sqrt, pi, exp\n",
    "mu,x=symbols('μ x')\n",
    "sig=symbols('σ',positive=True)\n",
    "f=lambda x: (1/(sig*sqrt(2*pi)))*exp(-(1/2)*((x-mu)/sig)**2)\n",
    "f(x)"
   ]
  },
  {
   "cell_type": "code",
   "execution_count": 58,
   "id": "d84a6518-2433-4787-918b-cb0772868854",
   "metadata": {},
   "outputs": [
    {
     "data": {
      "text/latex": [
       "$\\displaystyle 1.0$"
      ],
      "text/plain": [
       "1.00000000000000"
      ]
     },
     "execution_count": 58,
     "metadata": {},
     "output_type": "execute_result"
    }
   ],
   "source": [
    "# 학률값이 1이 되는지 검증\n",
    "integrate(f(x),(x,-oo,oo)).evalf()"
   ]
  },
  {
   "cell_type": "markdown",
   "id": "fe6af1f4-65b6-4722-b3a9-787e65b2f48a",
   "metadata": {},
   "source": [
    "# 확률변수 X가 평균 4, 표준편차 3인 정규분포를 따른다고 할 때, X의 확률밀도 함수를 그리고, skewness와 kurtosis 등을 구해 보아라. "
   ]
  },
  {
   "cell_type": "code",
   "execution_count": 59,
   "id": "40cb83e1-917e-40bb-b440-e4ba38fd7f44",
   "metadata": {},
   "outputs": [
    {
     "data": {
      "text/latex": [
       "$\\displaystyle \\frac{\\sqrt{2} e^{- \\frac{\\left(x - μ\\right)^{2}}{2 σ^{2}}}}{2 \\sqrt{\\pi} σ}$"
      ],
      "text/plain": [
       "sqrt(2)*exp(-(x - μ)**2/(2*σ**2))/(2*sqrt(pi)*σ)"
      ]
     },
     "execution_count": 59,
     "metadata": {},
     "output_type": "execute_result"
    }
   ],
   "source": [
    "from sympy.stats import Normal, density\n",
    "\n",
    "X=Normal('X',mu,sig)\n",
    "density(X)(x)"
   ]
  },
  {
   "cell_type": "code",
   "execution_count": 60,
   "id": "474aa1ce-31db-4e3e-916d-b35cc3af4abc",
   "metadata": {
    "tags": []
   },
   "outputs": [
    {
     "data": {
      "text/plain": [
       "(4, 9)"
      ]
     },
     "execution_count": 60,
     "metadata": {},
     "output_type": "execute_result"
    }
   ],
   "source": [
    "# 평균 4, 표준편차 3인 정규분포 X 설정\n",
    "from sympy.stats import E, variance\n",
    "X=Normal('X',4,3)\n",
    "E(X),variance(X)"
   ]
  },
  {
   "cell_type": "code",
   "execution_count": 61,
   "id": "921ccab5-759a-460d-8214-52eadd673bbd",
   "metadata": {
    "tags": []
   },
   "outputs": [
    {
     "data": {
      "text/latex": [
       "$\\displaystyle \\frac{\\sqrt{2} e^{- \\frac{\\left(x - 4\\right)^{2}}{18}}}{6 \\sqrt{\\pi}}$"
      ],
      "text/plain": [
       "sqrt(2)*exp(-(x - 4)**2/18)/(6*sqrt(pi))"
      ]
     },
     "execution_count": 61,
     "metadata": {},
     "output_type": "execute_result"
    }
   ],
   "source": [
    "f=lambda x: density(X)(x)\n",
    "f(x)"
   ]
  },
  {
   "cell_type": "code",
   "execution_count": 63,
   "id": "1cc47124-f7d0-4282-904f-0331bd8e6efc",
   "metadata": {
    "tags": []
   },
   "outputs": [
    {
     "data": {
      "image/png": "[encoded data removed]",
      "text/plain": [
       "<Figure size 300x300 with 1 Axes>"
      ]
     },
     "metadata": {},
     "output_type": "display_data"
    },
    {
     "data": {
      "text/plain": [
       "<sympy.plotting.plot.Plot at 0x16a6aa6f790>"
      ]
     },
     "execution_count": 63,
     "metadata": {},
     "output_type": "execute_result"
    }
   ],
   "source": [
    "from sympy import plot\n",
    "# sympy 내장함수 plot()을 이용하여 그래프로\n",
    "# 정의역 x는 -10에서 20까지 영역으로 \n",
    "plot(density(X)(x),(x,-10,20),size=(3, 3))"
   ]
  },
  {
   "cell_type": "code",
   "execution_count": 64,
   "id": "5b4b5d41-9345-4e02-910b-02f4ec3711eb",
   "metadata": {
    "tags": []
   },
   "outputs": [
    {
     "data": {
      "text/latex": [
       "$\\displaystyle 0$"
      ],
      "text/plain": [
       "0"
      ]
     },
     "execution_count": 64,
     "metadata": {},
     "output_type": "execute_result"
    }
   ],
   "source": [
    "from sympy.stats import skewness,kurtosis\n",
    "skewness(X)"
   ]
  },
  {
   "cell_type": "code",
   "execution_count": 67,
   "id": "de2f10fa-f6a4-492f-99a2-da7fe8c9328e",
   "metadata": {},
   "outputs": [
    {
     "data": {
      "text/latex": [
       "$\\displaystyle 0$"
      ],
      "text/plain": [
       "0"
      ]
     },
     "execution_count": 67,
     "metadata": {},
     "output_type": "execute_result"
    }
   ],
   "source": [
    "# skewness 계산\n",
    "E(((X-4)/3)**3)"
   ]
  },
  {
   "cell_type": "code",
   "execution_count": 65,
   "id": "471dd451-722a-4143-98d2-22f2c8b2cff9",
   "metadata": {
    "tags": []
   },
   "outputs": [
    {
     "data": {
      "text/latex": [
       "$\\displaystyle 3$"
      ],
      "text/plain": [
       "3"
      ]
     },
     "execution_count": 65,
     "metadata": {},
     "output_type": "execute_result"
    }
   ],
   "source": [
    "kurtosis(X)"
   ]
  },
  {
   "cell_type": "code",
   "execution_count": 68,
   "id": "84413d8a-1a9d-4479-98e7-ee04be80ea12",
   "metadata": {},
   "outputs": [
    {
     "data": {
      "text/latex": [
       "$\\displaystyle 3$"
      ],
      "text/plain": [
       "3"
      ]
     },
     "execution_count": 68,
     "metadata": {},
     "output_type": "execute_result"
    }
   ],
   "source": [
    "# kurtosis 계산\n",
    "E(((X-4)/3)**4)"
   ]
  },
  {
   "cell_type": "code",
   "execution_count": 44,
   "id": "6e49c1f0-6835-4e40-b657-ef94d1929b0e",
   "metadata": {
    "tags": []
   },
   "outputs": [
    {
     "data": {
      "text/latex": [
       "$\\displaystyle 9$"
      ],
      "text/plain": [
       "9"
      ]
     },
     "execution_count": 44,
     "metadata": {},
     "output_type": "execute_result"
    }
   ],
   "source": [
    "st.E((X-4)**2) # 분산"
   ]
  },
  {
   "cell_type": "code",
   "execution_count": 46,
   "id": "f9a1173d-ca48-4a82-9a7e-b61e298f9d2c",
   "metadata": {
    "tags": []
   },
   "outputs": [
    {
     "data": {
      "text/latex": [
       "$\\displaystyle 0$"
      ],
      "text/plain": [
       "0"
      ]
     },
     "execution_count": 46,
     "metadata": {},
     "output_type": "execute_result"
    }
   ],
   "source": [
    "st.E(((X-4)/3)**3) # skewness"
   ]
  },
  {
   "cell_type": "code",
   "execution_count": 47,
   "id": "962d9d22-c485-491d-b3d7-947bca30f903",
   "metadata": {
    "tags": []
   },
   "outputs": [
    {
     "data": {
      "text/latex": [
       "$\\displaystyle 3$"
      ],
      "text/plain": [
       "3"
      ]
     },
     "execution_count": 47,
     "metadata": {},
     "output_type": "execute_result"
    }
   ],
   "source": [
    "st.E(((X-4)/3)**4) # kurtosis"
   ]
  },
  {
   "cell_type": "code",
   "execution_count": 55,
   "id": "fb894393-95df-429f-ad13-86dc85cbb406",
   "metadata": {
    "tags": []
   },
   "outputs": [
    {
     "data": {
      "text/latex": [
       "$\\displaystyle 0.841344746068543$"
      ],
      "text/plain": [
       "0.841344746068543"
      ]
     },
     "execution_count": 55,
     "metadata": {},
     "output_type": "execute_result"
    }
   ],
   "source": [
    "st.P(X>=1).evalf()"
   ]
  },
  {
   "cell_type": "code",
   "execution_count": 57,
   "id": "408b8b7c-f649-4a28-92bc-b5236c82d4ba",
   "metadata": {
    "tags": []
   },
   "outputs": [
    {
     "data": {
      "text/plain": [
       "array([[ 1.28039774, -1.67775887,  4.60971552,  6.81007243,  2.80754458],\n",
       "       [-2.15131477,  2.80748263,  5.39552229, 11.64809185,  2.51650993]])"
      ]
     },
     "execution_count": 57,
     "metadata": {},
     "output_type": "execute_result"
    }
   ],
   "source": [
    "st.sample(X,size=(2,5))"
   ]
  },
  {
   "attachments": {
    "c40ba23e-6ed0-4743-a7b5-122cd483c6d6.png": {
     "image/png": "[encoded data removed]"
    }
   },
   "cell_type": "markdown",
   "id": "57d6e849-7791-45ee-8a73-fe8c63b0490f",
   "metadata": {},
   "source": [
    "![image.png](attachment:c40ba23e-6ed0-4743-a7b5-122cd483c6d6.png)"
   ]
  },
  {
   "cell_type": "code",
   "execution_count": 15,
   "id": "7a390968-d9c4-40d6-bf6b-1c320a5ccbcb",
   "metadata": {
    "tags": []
   },
   "outputs": [
    {
     "data": {
      "text/latex": [
       "$\\displaystyle \\frac{\\sqrt{2} e^{- \\frac{\\left(- \\mu + x\\right)^{2}}{2 \\sigma^{2}}}}{2 \\sqrt{\\pi} \\sigma}$"
      ],
      "text/plain": [
       "sqrt(2)*exp(-(-mu + x)**2/(2*sigma**2))/(2*sqrt(pi)*sigma)"
      ]
     },
     "execution_count": 15,
     "metadata": {},
     "output_type": "execute_result"
    }
   ],
   "source": [
    "mu=sp.symbols('mu')\n",
    "sigma=sp.symbols('sigma',positive=True)\n",
    "x=sp.symbols('x',real=True)\n",
    "X=st.Normal('X',mu,sigma)\n",
    "st.density(X)(x)"
   ]
  },
  {
   "attachments": {
    "e8976fa6-9b36-484d-918c-2e46a3d538bb.png": {
     "image/png": "[encoded data removed]"
    }
   },
   "cell_type": "markdown",
   "id": "1b573353-b193-4d41-b644-d64e7abeb84c",
   "metadata": {},
   "source": [
    "![image.png](attachment:e8976fa6-9b36-484d-918c-2e46a3d538bb.png)"
   ]
  },
  {
   "cell_type": "code",
   "execution_count": 72,
   "id": "ca023237-3350-4e19-9476-74034e945c26",
   "metadata": {},
   "outputs": [
    {
     "data": {
      "text/latex": [
       "$\\displaystyle 113.750659740896$"
      ],
      "text/plain": [
       "113.750659740896"
      ]
     },
     "execution_count": 72,
     "metadata": {},
     "output_type": "execute_result"
    }
   ],
   "source": [
    "X=Normal('X',345,10)\n",
    "P(X>=365).evalf()*5000"
   ]
  },
  {
   "cell_type": "code",
   "execution_count": 73,
   "id": "883baa9d-7fd2-4235-9960-ee1294718ef9",
   "metadata": {},
   "outputs": [
    {
     "data": {
      "text/plain": [
       "(345, 100)"
      ]
     },
     "execution_count": 73,
     "metadata": {},
     "output_type": "execute_result"
    }
   ],
   "source": [
    "E(X),variance(X)"
   ]
  },
  {
   "cell_type": "markdown",
   "id": "4f8f55c1-3213-4f67-997b-e042c48cd609",
   "metadata": {},
   "source": [
    "# 두 확률변수 X1,X2에 대하여 아래와 같은 결합 확률질량함수(joint probability mass function)를 갖는다고 한다. 확률변수 X1의 주변 확률질량함수(marginal probability mass function)를 구하여라. "
   ]
  },
  {
   "attachments": {
    "a7b1856c-dc6a-49f6-9423-62926cbf22f7.png": {
     "image/png": "[encoded data removed]"
    }
   },
   "cell_type": "markdown",
   "id": "91130ab2-56aa-4c61-86ca-d7e7ac59bc69",
   "metadata": {},
   "source": [
    "![image.png](attachment:a7b1856c-dc6a-49f6-9423-62926cbf22f7.png)"
   ]
  },
  {
   "cell_type": "code",
   "execution_count": 75,
   "id": "02dc7027-5e10-4088-9be9-d8ae6672f35e",
   "metadata": {
    "tags": []
   },
   "outputs": [
    {
     "data": {
      "text/html": [
       "<div>\n",
       "<style scoped>\n",
       "    .dataframe tbody tr th:only-of-type {\n",
       "        vertical-align: middle;\n",
       "    }\n",
       "\n",
       "    .dataframe tbody tr th {\n",
       "        vertical-align: top;\n",
       "    }\n",
       "\n",
       "    .dataframe thead th {\n",
       "        text-align: right;\n",
       "    }\n",
       "</style>\n",
       "<table border=\"1\" class=\"dataframe\">\n",
       "  <thead>\n",
       "    <tr style=\"text-align: right;\">\n",
       "      <th></th>\n",
       "      <th>X1</th>\n",
       "      <th>X2</th>\n",
       "      <th>Prob</th>\n",
       "    </tr>\n",
       "  </thead>\n",
       "  <tbody>\n",
       "    <tr>\n",
       "      <th>0</th>\n",
       "      <td>1</td>\n",
       "      <td>1</td>\n",
       "      <td>0.027778</td>\n",
       "    </tr>\n",
       "    <tr>\n",
       "      <th>1</th>\n",
       "      <td>1</td>\n",
       "      <td>2</td>\n",
       "      <td>0.055556</td>\n",
       "    </tr>\n",
       "    <tr>\n",
       "      <th>2</th>\n",
       "      <td>1</td>\n",
       "      <td>3</td>\n",
       "      <td>0.083333</td>\n",
       "    </tr>\n",
       "    <tr>\n",
       "      <th>3</th>\n",
       "      <td>2</td>\n",
       "      <td>1</td>\n",
       "      <td>0.055556</td>\n",
       "    </tr>\n",
       "    <tr>\n",
       "      <th>4</th>\n",
       "      <td>2</td>\n",
       "      <td>2</td>\n",
       "      <td>0.111111</td>\n",
       "    </tr>\n",
       "    <tr>\n",
       "      <th>5</th>\n",
       "      <td>2</td>\n",
       "      <td>3</td>\n",
       "      <td>0.166667</td>\n",
       "    </tr>\n",
       "    <tr>\n",
       "      <th>6</th>\n",
       "      <td>3</td>\n",
       "      <td>1</td>\n",
       "      <td>0.083333</td>\n",
       "    </tr>\n",
       "    <tr>\n",
       "      <th>7</th>\n",
       "      <td>3</td>\n",
       "      <td>2</td>\n",
       "      <td>0.166667</td>\n",
       "    </tr>\n",
       "    <tr>\n",
       "      <th>8</th>\n",
       "      <td>3</td>\n",
       "      <td>3</td>\n",
       "      <td>0.250000</td>\n",
       "    </tr>\n",
       "  </tbody>\n",
       "</table>\n",
       "</div>"
      ],
      "text/plain": [
       "   X1  X2      Prob\n",
       "0   1   1  0.027778\n",
       "1   1   2  0.055556\n",
       "2   1   3  0.083333\n",
       "3   2   1  0.055556\n",
       "4   2   2  0.111111\n",
       "5   2   3  0.166667\n",
       "6   3   1  0.083333\n",
       "7   3   2  0.166667\n",
       "8   3   3  0.250000"
      ]
     },
     "execution_count": 75,
     "metadata": {},
     "output_type": "execute_result"
    }
   ],
   "source": [
    "import pandas as pd \n",
    "import numpy as np\n",
    "df=pd.DataFrame(data={'X1':[1,1,1,2,2,2,3,3,3],\n",
    "                      'X2':[1,2,3,1,2,3,1,2,3]})\n",
    "\n",
    "# 확률값을 계산하는 칼럼 추가\n",
    "df['Prob']=df.X1*df.X2/36\n",
    "df"
   ]
  },
  {
   "cell_type": "code",
   "execution_count": 59,
   "id": "517fbc53-093b-4ceb-af01-f4c0c46f6bc2",
   "metadata": {
    "tags": []
   },
   "outputs": [
    {
     "data": {
      "text/plain": [
       "1.0"
      ]
     },
     "execution_count": 59,
     "metadata": {},
     "output_type": "execute_result"
    }
   ],
   "source": [
    "df.Prob.sum()"
   ]
  },
  {
   "cell_type": "code",
   "execution_count": 76,
   "id": "1453e1fa-40fa-45e0-ae1d-a6de370239e9",
   "metadata": {
    "tags": []
   },
   "outputs": [
    {
     "data": {
      "text/html": [
       "<div>\n",
       "<style scoped>\n",
       "    .dataframe tbody tr th:only-of-type {\n",
       "        vertical-align: middle;\n",
       "    }\n",
       "\n",
       "    .dataframe tbody tr th {\n",
       "        vertical-align: top;\n",
       "    }\n",
       "\n",
       "    .dataframe thead th {\n",
       "        text-align: right;\n",
       "    }\n",
       "</style>\n",
       "<table border=\"1\" class=\"dataframe\">\n",
       "  <thead>\n",
       "    <tr style=\"text-align: right;\">\n",
       "      <th></th>\n",
       "      <th>Prob</th>\n",
       "    </tr>\n",
       "    <tr>\n",
       "      <th>X1</th>\n",
       "      <th></th>\n",
       "    </tr>\n",
       "  </thead>\n",
       "  <tbody>\n",
       "    <tr>\n",
       "      <th>1</th>\n",
       "      <td>0.166667</td>\n",
       "    </tr>\n",
       "    <tr>\n",
       "      <th>2</th>\n",
       "      <td>0.333333</td>\n",
       "    </tr>\n",
       "    <tr>\n",
       "      <th>3</th>\n",
       "      <td>0.500000</td>\n",
       "    </tr>\n",
       "  </tbody>\n",
       "</table>\n",
       "</div>"
      ],
      "text/plain": [
       "        Prob\n",
       "X1          \n",
       "1   0.166667\n",
       "2   0.333333\n",
       "3   0.500000"
      ]
     },
     "execution_count": 76,
     "metadata": {},
     "output_type": "execute_result"
    }
   ],
   "source": [
    "# X1에 대한 marginal pmf\n",
    "df.pivot_table(values='Prob',index='X1',aggfunc='sum')"
   ]
  },
  {
   "cell_type": "code",
   "execution_count": 77,
   "id": "5e565e9c-7f55-4800-bbc8-10eaa7615e0b",
   "metadata": {
    "tags": []
   },
   "outputs": [
    {
     "data": {
      "text/latex": [
       "$\\displaystyle \\frac{x_{1}}{6}$"
      ],
      "text/plain": [
       "x1/6"
      ]
     },
     "execution_count": 77,
     "metadata": {},
     "output_type": "execute_result"
    }
   ],
   "source": [
    "import sympy as sp\n",
    "x1,x2=sp.symbols('x1 x2',integer=True)\n",
    "p=lambda x1,x2: x1*x2/36 # joint pmf\n",
    "sp.summation(p(x1,x2),(x2,1,3))"
   ]
  },
  {
   "cell_type": "code",
   "execution_count": 80,
   "id": "048041c0-c13d-4f64-9c70-eefcc9ede60a",
   "metadata": {},
   "outputs": [
    {
     "name": "stdout",
     "output_type": "stream",
     "text": [
      "x1=1,prob= 0.16666666666666666\n",
      "x1=2,prob= 0.3333333333333333\n",
      "x1=3,prob= 0.5\n"
     ]
    }
   ],
   "source": [
    "for i in range(3):\n",
    "    print(f'x1={i+1},prob=',(i+1)/6)"
   ]
  },
  {
   "cell_type": "markdown",
   "id": "ebf050bb-7f76-462a-843b-7111d039bdbf",
   "metadata": {},
   "source": [
    "# 두 확률변수 X1,X2에 대하여 아래와 같은 결합 확률밀도함수(joint probability density function)를 갖는다고 한다. 확률변수 X1의 주변 확률밀도함수(marginal probability density function)를 구하고, P(X1+ X2≤1)의 값도 구하여라. "
   ]
  },
  {
   "attachments": {
    "0fca01db-33e0-494b-83f7-1ac8e0fff50b.png": {
     "image/png": "[encoded data removed]"
    }
   },
   "cell_type": "markdown",
   "id": "a84ffc15-0574-4644-9944-e4c8b8747cff",
   "metadata": {},
   "source": [
    "![image.png](attachment:0fca01db-33e0-494b-83f7-1ac8e0fff50b.png)"
   ]
  },
  {
   "cell_type": "code",
   "execution_count": 1,
   "id": "dff296c3-be55-4ba9-83c4-f3fe2a7d5c92",
   "metadata": {
    "tags": []
   },
   "outputs": [
    {
     "data": {
      "text/latex": [
       "$\\displaystyle x_{1} + \\frac{1}{2}$"
      ],
      "text/plain": [
       "x1 + 1/2"
      ]
     },
     "execution_count": 1,
     "metadata": {},
     "output_type": "execute_result"
    }
   ],
   "source": [
    "from sympy import symbols, integrate\n",
    "x1,x2=symbols('x1 x2',real=True)\n",
    "f=lambda x1,x2: x1+x2 # joint pdf\n",
    "integrate(f(x1,x2),(x2,0,1))"
   ]
  },
  {
   "cell_type": "code",
   "execution_count": 2,
   "id": "75ead42e-3bf4-45ee-865c-3c9db4ceccfa",
   "metadata": {
    "tags": []
   },
   "outputs": [
    {
     "data": {
      "text/latex": [
       "$\\displaystyle 1$"
      ],
      "text/plain": [
       "1"
      ]
     },
     "execution_count": 2,
     "metadata": {},
     "output_type": "execute_result"
    }
   ],
   "source": [
    "# joint pdf를 따로 정의하지 않아도 됨\n",
    "fx1=integrate(x1+x2,(x2,0,1))\n",
    "# 값이 1인지 검증\n",
    "integrate(fx1,(x1,0,1))"
   ]
  },
  {
   "cell_type": "code",
   "execution_count": 3,
   "id": "b5f34a64-01df-4f3c-82b3-d601e425f619",
   "metadata": {
    "tags": []
   },
   "outputs": [
    {
     "data": {
      "text/latex": [
       "$\\displaystyle \\frac{1}{3}$"
      ],
      "text/plain": [
       "1/3"
      ]
     },
     "execution_count": 3,
     "metadata": {},
     "output_type": "execute_result"
    }
   ],
   "source": [
    "integrate(integrate(x1+x2,(x1,0,1-x2)),(x2,0,1))"
   ]
  },
  {
   "cell_type": "markdown",
   "id": "dac866e0-1473-434e-b907-9cef61590442",
   "metadata": {},
   "source": [
    "# 위 문제에서 두 확률변수의 공분산과 상관계수를 구하여라. "
   ]
  },
  {
   "cell_type": "code",
   "execution_count": 6,
   "id": "f5b49764-fd4a-4fd1-b281-3488ccf2519c",
   "metadata": {
    "tags": []
   },
   "outputs": [],
   "source": [
    "from sympy import integrate, sqrt\n",
    "# 각 확률변수의 평균값 구하기\n",
    "# marginal pdf 만들기\n",
    "fx1=integrate(x1+x2,(x2,0,1))\n",
    "fx2=integrate(x1+x2,(x1,0,1))\n",
    "\n",
    "# 평균구하기\n",
    "mu_x1=integrate(x1*fx1,(x1,0,1))\n",
    "mu_x2=integrate(x2*fx2,(x2,0,1))\n",
    "\n",
    "# 분산 구하기\n",
    "var_x1=integrate((x1-mu_x1)**2*fx1,(x1,0,1))\n",
    "var_x2=integrate((x2-mu_x2)**2*fx2,(x2,0,1))\n",
    "\n",
    "# 표준편차 구하기\n",
    "sig_x1=sqrt(var_x1)\n",
    "sig_x2=sqrt(var_x2)"
   ]
  },
  {
   "cell_type": "code",
   "execution_count": 7,
   "id": "af89f790-8730-44ed-84a9-8eb1fc1e0440",
   "metadata": {
    "tags": []
   },
   "outputs": [
    {
     "name": "stdout",
     "output_type": "stream",
     "text": [
      "공분산은 -1/144 입니다\n",
      "상관계수는 -1/11 입니다\n"
     ]
    }
   ],
   "source": [
    "# 공분산 구하기\n",
    "covar=integrate(integrate((x1-mu_x1)*(x2-mu_x2)*(x1+x2),\n",
    "                          (x1,0,1)),(x2,0,1))\n",
    "print('공분산은 {0} 입니다'.format(covar))\n",
    "# 상관계수 구하기\n",
    "coeff=covar/(sig_x1*sig_x2)\n",
    "print('상관계수는 {0} 입니다'.format(coeff))"
   ]
  },
  {
   "cell_type": "markdown",
   "id": "5428c356-7892-4fc5-af1d-0ab0532cb243",
   "metadata": {},
   "source": [
    "# 확률변수가 3개인 경우에 대하여 심파이를 이용해 공분산행렬, 상관계수행렬을 표현해 보면 아래와 같다. "
   ]
  },
  {
   "cell_type": "code",
   "execution_count": 8,
   "id": "8e21acd4-14d9-4539-a208-89fb152ad980",
   "metadata": {
    "tags": []
   },
   "outputs": [
    {
     "data": {
      "text/latex": [
       "$\\displaystyle \\left[\\begin{matrix}1 & 2\\\\3 & 4\\end{matrix}\\right]$"
      ],
      "text/plain": [
       "Matrix([\n",
       "[1, 2],\n",
       "[3, 4]])"
      ]
     },
     "execution_count": 8,
     "metadata": {},
     "output_type": "execute_result"
    }
   ],
   "source": [
    "from sympy import Matrix\n",
    "# Sympy 행렬의 표현\n",
    "A=Matrix(2,2,[1,2,3,4])\n",
    "A"
   ]
  },
  {
   "cell_type": "code",
   "execution_count": 11,
   "id": "5bcb833c-04b0-4eb4-bd59-09fe35cd258f",
   "metadata": {
    "tags": []
   },
   "outputs": [
    {
     "data": {
      "text/latex": [
       "$\\displaystyle \\left[\\begin{matrix}1 & 3\\\\2 & 4\\end{matrix}\\right]$"
      ],
      "text/plain": [
       "Matrix([\n",
       "[1, 3],\n",
       "[2, 4]])"
      ]
     },
     "execution_count": 11,
     "metadata": {},
     "output_type": "execute_result"
    }
   ],
   "source": [
    "# 전치행렬\n",
    "A.transpose()"
   ]
  },
  {
   "cell_type": "code",
   "execution_count": 12,
   "id": "f14a3f70-b5db-41bc-8aeb-8d23a383273b",
   "metadata": {
    "tags": []
   },
   "outputs": [
    {
     "data": {
      "text/latex": [
       "$\\displaystyle \\left[\\begin{matrix}-2 & 1\\\\\\frac{3}{2} & - \\frac{1}{2}\\end{matrix}\\right]$"
      ],
      "text/plain": [
       "Matrix([\n",
       "[ -2,    1],\n",
       "[3/2, -1/2]])"
      ]
     },
     "execution_count": 12,
     "metadata": {},
     "output_type": "execute_result"
    }
   ],
   "source": [
    "# 역행렬\n",
    "A.inv()"
   ]
  },
  {
   "cell_type": "code",
   "execution_count": 14,
   "id": "5870aede-a354-464d-b9ef-321365e0076b",
   "metadata": {
    "tags": []
   },
   "outputs": [
    {
     "data": {
      "text/latex": [
       "$\\displaystyle \\left[\\begin{matrix}1 & 0 & 0\\\\0 & 1 & 0\\\\0 & 0 & 1\\end{matrix}\\right]$"
      ],
      "text/plain": [
       "Matrix([\n",
       "[1, 0, 0],\n",
       "[0, 1, 0],\n",
       "[0, 0, 1]])"
      ]
     },
     "execution_count": 14,
     "metadata": {},
     "output_type": "execute_result"
    }
   ],
   "source": [
    "from sympy import eye\n",
    "# 단위행렬\n",
    "eye(3)"
   ]
  },
  {
   "cell_type": "code",
   "execution_count": 15,
   "id": "430e83f2-1030-45d7-a326-7d90d344723f",
   "metadata": {
    "tags": []
   },
   "outputs": [
    {
     "data": {
      "text/latex": [
       "$\\displaystyle \\left[\\begin{matrix}0 & 0 & 0\\\\0 & 0 & 0\\\\0 & 0 & 0\\end{matrix}\\right]$"
      ],
      "text/plain": [
       "Matrix([\n",
       "[0, 0, 0],\n",
       "[0, 0, 0],\n",
       "[0, 0, 0]])"
      ]
     },
     "execution_count": 15,
     "metadata": {},
     "output_type": "execute_result"
    }
   ],
   "source": [
    "from sympy import zeros\n",
    "# 영행렬\n",
    "zeros(3)"
   ]
  },
  {
   "cell_type": "code",
   "execution_count": 16,
   "id": "df5521e7-df9f-44ca-80b1-79f7544adc71",
   "metadata": {
    "tags": []
   },
   "outputs": [
    {
     "data": {
      "text/latex": [
       "$\\displaystyle \\left[\\begin{matrix}1 & 0 & 0\\\\0 & 2 & 0\\\\0 & 0 & 3\\end{matrix}\\right]$"
      ],
      "text/plain": [
       "Matrix([\n",
       "[1, 0, 0],\n",
       "[0, 2, 0],\n",
       "[0, 0, 3]])"
      ]
     },
     "execution_count": 16,
     "metadata": {},
     "output_type": "execute_result"
    }
   ],
   "source": [
    "# 대각행렬\n",
    "Matrix.diag([1,2,3])"
   ]
  },
  {
   "cell_type": "code",
   "execution_count": 17,
   "id": "d99442ac-0166-459c-87ac-743adb339923",
   "metadata": {},
   "outputs": [
    {
     "data": {
      "text/latex": [
       "$\\displaystyle \\left[\\begin{matrix}14\\end{matrix}\\right]$"
      ],
      "text/plain": [
       "Matrix([[14]])"
      ]
     },
     "execution_count": 17,
     "metadata": {},
     "output_type": "execute_result"
    }
   ],
   "source": [
    "# 행렬의 곱 연산자 @\n",
    "M1=Matrix(1,3,[1,2,3])\n",
    "M2=Matrix(3,1,[1,2,3])\n",
    "M1@M2"
   ]
  },
  {
   "cell_type": "code",
   "execution_count": 18,
   "id": "bc4c006e-34eb-4c2e-b09d-0c0efe9cb28e",
   "metadata": {
    "tags": []
   },
   "outputs": [
    {
     "data": {
      "text/latex": [
       "$\\displaystyle \\left[\\begin{matrix}1 & 2 & 3\\\\2 & 4 & 6\\\\3 & 6 & 9\\end{matrix}\\right]$"
      ],
      "text/plain": [
       "Matrix([\n",
       "[1, 2, 3],\n",
       "[2, 4, 6],\n",
       "[3, 6, 9]])"
      ]
     },
     "execution_count": 18,
     "metadata": {},
     "output_type": "execute_result"
    }
   ],
   "source": [
    "M2@M1"
   ]
  },
  {
   "cell_type": "code",
   "execution_count": 20,
   "id": "6672b8c0-9247-4b46-9af2-7d46b4fccef2",
   "metadata": {
    "tags": []
   },
   "outputs": [
    {
     "data": {
      "text/latex": [
       "$\\displaystyle \\left[\\begin{matrix}{a}_{1,1} & {a}_{1,2} & {a}_{1,3}\\\\{a}_{2,1} & {a}_{2,2} & {a}_{2,3}\\\\{a}_{3,1} & {a}_{3,2} & {a}_{3,3}\\end{matrix}\\right]$"
      ],
      "text/plain": [
       "Matrix([\n",
       "[a[1, 1], a[1, 2], a[1, 3]],\n",
       "[a[2, 1], a[2, 2], a[2, 3]],\n",
       "[a[3, 1], a[3, 2], a[3, 3]]])"
      ]
     },
     "execution_count": 20,
     "metadata": {},
     "output_type": "execute_result"
    }
   ],
   "source": [
    "from sympy import IndexedBase\n",
    "# 인덱스 개체로 행렬을 표현\n",
    "# IndexedBase()사용\n",
    "a=IndexedBase('a')\n",
    "i, j=symbols('i j',integer=True)\n",
    "\n",
    "A=Matrix(3,3,[a[i,j] for i in range(1,4) for j in range(1,4)])\n",
    "A"
   ]
  },
  {
   "cell_type": "code",
   "execution_count": 14,
   "id": "dad69b00-8a41-469b-afdb-cb5253aa15b1",
   "metadata": {
    "tags": []
   },
   "outputs": [
    {
     "data": {
      "text/latex": [
       "$\\displaystyle \\left[\\begin{matrix}σ_{1}^{2} {\\rho}_{1,1} & σ_{1} σ_{2} {\\rho}_{1,2} & σ_{1} σ_{3} {\\rho}_{1,3}\\\\σ_{1} σ_{2} {\\rho}_{2,1} & σ_{2}^{2} {\\rho}_{2,2} & σ_{2} σ_{3} {\\rho}_{2,3}\\\\σ_{1} σ_{3} {\\rho}_{3,1} & σ_{2} σ_{3} {\\rho}_{3,2} & σ_{3}^{2} {\\rho}_{3,3}\\end{matrix}\\right]$"
      ],
      "text/plain": [
       "Matrix([\n",
       "[σ1**2*rho[1, 1], σ1*σ2*rho[1, 2], σ1*σ3*rho[1, 3]],\n",
       "[σ1*σ2*rho[2, 1], σ2**2*rho[2, 2], σ2*σ3*rho[2, 3]],\n",
       "[σ1*σ3*rho[3, 1], σ2*σ3*rho[3, 2], σ3**2*rho[3, 3]]])"
      ]
     },
     "execution_count": 14,
     "metadata": {},
     "output_type": "execute_result"
    }
   ],
   "source": [
    "import sympy as sp\n",
    "\n",
    "# 행렬을 아래 첨자를 사용해서 표현\n",
    "rho=sp.IndexedBase('rho')\n",
    "i, j=sp.symbols('i j',integer=True)\n",
    "\n",
    "# 상관계수 행렬\n",
    "R=sp.Matrix(3,3,[rho[i,j] for i in range(1,4) for j in range(1,4)])\n",
    "\n",
    "# 대각선이 표준편차인 행렬 정의\n",
    "sigma1,sigma2,sigma3=sp.symbols('σ1 σ2 σ3')\n",
    "Di=[sigma1,sigma2,sigma3] # 대각원소 설정\n",
    "\n",
    "# 아래 식에서 *Di=[sigma1,sigma2,sigma3]와 같음 의미임\n",
    "D=sp.Matrix.diag(*Di) \n",
    "\n",
    "D@R@D"
   ]
  },
  {
   "cell_type": "code",
   "execution_count": 4,
   "id": "d768e92d-10e3-4e5b-96b6-d303a218bf27",
   "metadata": {
    "tags": []
   },
   "outputs": [
    {
     "data": {
      "text/latex": [
       "$\\displaystyle \\left[\\begin{matrix}{\\rho}_{1,1} & {\\rho}_{1,2} & {\\rho}_{1,3}\\\\{\\rho}_{2,1} & {\\rho}_{2,2} & {\\rho}_{2,3}\\\\{\\rho}_{3,1} & {\\rho}_{3,2} & {\\rho}_{3,3}\\end{matrix}\\right]$"
      ],
      "text/plain": [
       "Matrix([\n",
       "[rho[1, 1], rho[1, 2], rho[1, 3]],\n",
       "[rho[2, 1], rho[2, 2], rho[2, 3]],\n",
       "[rho[3, 1], rho[3, 2], rho[3, 3]]])"
      ]
     },
     "execution_count": 4,
     "metadata": {},
     "output_type": "execute_result"
    }
   ],
   "source": [
    "R"
   ]
  },
  {
   "cell_type": "code",
   "execution_count": 5,
   "id": "4d7e25c0-b5d0-4039-b0fd-9fdc47052055",
   "metadata": {
    "tags": []
   },
   "outputs": [
    {
     "data": {
      "text/latex": [
       "$\\displaystyle \\left[\\begin{matrix}σ_{1} & 0 & 0\\\\0 & σ_{2} & 0\\\\0 & 0 & σ_{3}\\end{matrix}\\right]$"
      ],
      "text/plain": [
       "Matrix([\n",
       "[σ1,  0,  0],\n",
       "[ 0, σ2,  0],\n",
       "[ 0,  0, σ3]])"
      ]
     },
     "execution_count": 5,
     "metadata": {},
     "output_type": "execute_result"
    }
   ],
   "source": [
    "D"
   ]
  },
  {
   "cell_type": "code",
   "execution_count": 6,
   "id": "ba3892e7-ce72-4cc4-9175-1d90c4c677eb",
   "metadata": {
    "tags": []
   },
   "outputs": [
    {
     "data": {
      "text/latex": [
       "$\\displaystyle \\left[\\begin{matrix}σ_{1}^{2} {\\rho}_{1,1} & σ_{1} σ_{2} {\\rho}_{1,2} & σ_{1} σ_{3} {\\rho}_{1,3} & σ_{1} σ_{4} {\\rho}_{1,4} & σ_{1} σ_{5} {\\rho}_{1,5}\\\\σ_{1} σ_{2} {\\rho}_{2,1} & σ_{2}^{2} {\\rho}_{2,2} & σ_{2} σ_{3} {\\rho}_{2,3} & σ_{2} σ_{4} {\\rho}_{2,4} & σ_{2} σ_{5} {\\rho}_{2,5}\\\\σ_{1} σ_{3} {\\rho}_{3,1} & σ_{2} σ_{3} {\\rho}_{3,2} & σ_{3}^{2} {\\rho}_{3,3} & σ_{3} σ_{4} {\\rho}_{3,4} & σ_{3} σ_{5} {\\rho}_{3,5}\\\\σ_{1} σ_{4} {\\rho}_{4,1} & σ_{2} σ_{4} {\\rho}_{4,2} & σ_{3} σ_{4} {\\rho}_{4,3} & σ_{4}^{2} {\\rho}_{4,4} & σ_{4} σ_{5} {\\rho}_{4,5}\\\\σ_{1} σ_{5} {\\rho}_{5,1} & σ_{2} σ_{5} {\\rho}_{5,2} & σ_{3} σ_{5} {\\rho}_{5,3} & σ_{4} σ_{5} {\\rho}_{5,4} & σ_{5}^{2} {\\rho}_{5,5}\\end{matrix}\\right]$"
      ],
      "text/plain": [
       "Matrix([\n",
       "[σ1**2*rho[1, 1], σ1*σ2*rho[1, 2], σ1*σ3*rho[1, 3], σ1*σ4*rho[1, 4], σ1*σ5*rho[1, 5]],\n",
       "[σ1*σ2*rho[2, 1], σ2**2*rho[2, 2], σ2*σ3*rho[2, 3], σ2*σ4*rho[2, 4], σ2*σ5*rho[2, 5]],\n",
       "[σ1*σ3*rho[3, 1], σ2*σ3*rho[3, 2], σ3**2*rho[3, 3], σ3*σ4*rho[3, 4], σ3*σ5*rho[3, 5]],\n",
       "[σ1*σ4*rho[4, 1], σ2*σ4*rho[4, 2], σ3*σ4*rho[4, 3], σ4**2*rho[4, 4], σ4*σ5*rho[4, 5]],\n",
       "[σ1*σ5*rho[5, 1], σ2*σ5*rho[5, 2], σ3*σ5*rho[5, 3], σ4*σ5*rho[5, 4], σ5**2*rho[5, 5]]])"
      ]
     },
     "execution_count": 6,
     "metadata": {},
     "output_type": "execute_result"
    }
   ],
   "source": [
    "# 5 by 5 공분산행렬\n",
    "# 상관계수 행렬\n",
    "R=sp.Matrix(5,5,[rho[i,j] for i in range(1,6) for j in range(1,6)])\n",
    "\n",
    "# 대각선이 표준편차인 행렬 정의\n",
    "sigma1,sigma2,sigma3,sigma4,sigma5=sp.symbols('σ1 σ2 σ3 σ4 σ5')\n",
    "Di=[sigma1,sigma2,sigma3,sigma4,sigma5] # 대각원소 설정\n",
    "D=sp.Matrix.diag(*Di) # 대각행렬에만 원소가 있고 나머지는 0인 행렬 작성\n",
    "\n",
    "D@R@D"
   ]
  },
  {
   "cell_type": "markdown",
   "id": "e9b1361b-6af9-458e-b963-5b884727129f",
   "metadata": {},
   "source": [
    "# 두 확률변수 X,Y에 대하여 아래와 같이 결합 확률밀도함수를 갖고 있다. Y=y일 때, X의 조건부 기대값(conditional expectation of X given Y=y)을 구하여라. "
   ]
  },
  {
   "attachments": {
    "9cac0b7e-7d2b-4a57-8aa3-bb3215594aaf.png": {
     "image/png": "[encoded data removed]"
    }
   },
   "cell_type": "markdown",
   "id": "7c6107be-f92b-4559-9e1a-f0cb3d260ccc",
   "metadata": {},
   "source": [
    "![image.png](attachment:9cac0b7e-7d2b-4a57-8aa3-bb3215594aaf.png)"
   ]
  },
  {
   "cell_type": "code",
   "execution_count": 2,
   "id": "41c15666-2164-4b93-b9d7-e6d6d1ccee76",
   "metadata": {
    "tags": []
   },
   "outputs": [
    {
     "data": {
      "text/latex": [
       "$\\displaystyle 1$"
      ],
      "text/plain": [
       "1"
      ]
     },
     "execution_count": 2,
     "metadata": {},
     "output_type": "execute_result"
    }
   ],
   "source": [
    "# 조건부 확률밀도함수 구하기 \n",
    "from sympy import symbols,integrate\n",
    "x,y=symbols('x y',real=True) #실수 심볼 정의\n",
    "f_xy=6*x*y*(2-x-y) # joint pdf\n",
    "f_y=integrate(f_xy,(x,0,1)) # marginal pdf of Y\n",
    "# conditional pdf of X given Y=y\n",
    "fx_y=f_xy/f_y\n",
    "\n",
    "# 확률값 검증\n",
    "integrate(fx_y,(x,0,1)).simplify()"
   ]
  },
  {
   "cell_type": "code",
   "execution_count": 3,
   "id": "5be3a5ec-f42d-48c8-9e89-b51da89d8d6c",
   "metadata": {
    "tags": []
   },
   "outputs": [
    {
     "data": {
      "text/latex": [
       "$\\displaystyle \\frac{4 y - 5}{2 \\left(3 y - 4\\right)}$"
      ],
      "text/plain": [
       "(4*y - 5)/(2*(3*y - 4))"
      ]
     },
     "execution_count": 3,
     "metadata": {},
     "output_type": "execute_result"
    }
   ],
   "source": [
    "# conditional Expectation of X given Y=y\n",
    "integrate(x*fx_y,(x,0,1)).simplify()"
   ]
  },
  {
   "cell_type": "markdown",
   "id": "5f65ec76-7ca9-4088-9235-7a409c64b0ac",
   "metadata": {},
   "source": [
    "# MultivariateNormal()이라는 클래스가 있습니다. 이 클래스에 평균이 [0,0], 공분산행렬 [[1,0],[0,4]]을 지정한 후, 각 변수 주변확률분포를 추정해 보아라. "
   ]
  },
  {
   "cell_type": "code",
   "execution_count": 2,
   "id": "c2f37e00-1f8c-48f6-a6e3-0a6c27e92ab4",
   "metadata": {
    "tags": []
   },
   "outputs": [
    {
     "data": {
      "text/latex": [
       "$\\displaystyle \\frac{\\sqrt{2} e^{- \\frac{x_{1}^{2}}{2}}}{2 \\sqrt{\\pi}}$"
      ],
      "text/plain": [
       "sqrt(2)*exp(-x1**2/2)/(2*sqrt(pi))"
      ]
     },
     "execution_count": 2,
     "metadata": {},
     "output_type": "execute_result"
    }
   ],
   "source": [
    "from sympy import symbols,integrate,oo\n",
    "from sympy.stats import MultivariateNormal,density\n",
    "\n",
    "# MultivariateNormal('x',mu,S)\n",
    "X=MultivariateNormal('X',[0,0],[[1,0],[0,4]]) \n",
    "x1,x2=symbols('x1 x2') \n",
    "f=density(X)(x1,x2)\n",
    "\n",
    "# f(x1)구하기\n",
    "integrate(f,(x2,-oo,oo))"
   ]
  },
  {
   "cell_type": "code",
   "execution_count": 3,
   "id": "1b892131-ab8f-4420-b8f0-6a99a2e56848",
   "metadata": {
    "tags": []
   },
   "outputs": [
    {
     "data": {
      "text/latex": [
       "$\\displaystyle \\frac{\\sqrt{2} e^{- \\frac{x_{2}^{2}}{8}}}{4 \\sqrt{\\pi}}$"
      ],
      "text/plain": [
       "sqrt(2)*exp(-x2**2/8)/(4*sqrt(pi))"
      ]
     },
     "execution_count": 3,
     "metadata": {},
     "output_type": "execute_result"
    }
   ],
   "source": [
    "# f(x2)구하기\n",
    "integrate(f,(x1,-oo,oo))"
   ]
  },
  {
   "cell_type": "code",
   "execution_count": 4,
   "id": "e2129c19-1d52-47f9-ac7a-92b3981e35d5",
   "metadata": {
    "tags": []
   },
   "outputs": [
    {
     "data": {
      "text/latex": [
       "$\\displaystyle \\frac{\\sqrt{2} e^{- \\frac{x_{1}^{2}}{2}}}{2 \\sqrt{\\pi}}$"
      ],
      "text/plain": [
       "sqrt(2)*exp(-x1**2/2)/(2*sqrt(pi))"
      ]
     },
     "execution_count": 4,
     "metadata": {},
     "output_type": "execute_result"
    }
   ],
   "source": [
    "from sympy.stats import marginal_distribution\n",
    "marginal_distribution(X,X[0])(x1) "
   ]
  },
  {
   "cell_type": "code",
   "execution_count": 5,
   "id": "747435e7-3435-4d84-90e2-23369a109973",
   "metadata": {
    "tags": []
   },
   "outputs": [
    {
     "data": {
      "text/latex": [
       "$\\displaystyle \\frac{\\sqrt{2} e^{- \\frac{x_{2}^{2}}{8}}}{4 \\sqrt{\\pi}}$"
      ],
      "text/plain": [
       "sqrt(2)*exp(-x2**2/8)/(4*sqrt(pi))"
      ]
     },
     "execution_count": 5,
     "metadata": {},
     "output_type": "execute_result"
    }
   ],
   "source": [
    "marginal_distribution(X,X[1])(x2) "
   ]
  },
  {
   "cell_type": "code",
   "execution_count": 6,
   "id": "25b12b78-9ce0-4fdd-95b8-546a63a54ae1",
   "metadata": {
    "tags": []
   },
   "outputs": [
    {
     "name": "stdout",
     "output_type": "stream",
     "text": [
      "x1의 평균은 0 입니다\n",
      "x2의 평균은 0 입니다\n"
     ]
    }
   ],
   "source": [
    "# 평균구하기\n",
    "fx1=integrate(f,(x2,-oo,oo))\n",
    "fx2=integrate(f,(x1,-oo,oo))\n",
    "mu_x1=integrate(x1*fx1,(x1,-oo,oo))\n",
    "mu_x2=integrate(x2*fx2,(x2,-oo,oo))\n",
    "print('x1의 평균은 {0} 입니다'.format(mu_x1))\n",
    "print('x2의 평균은 {0} 입니다'.format(mu_x2))"
   ]
  },
  {
   "cell_type": "code",
   "execution_count": 7,
   "id": "9298d3c7-d217-42c0-9b83-1b3e37f6f8de",
   "metadata": {
    "tags": []
   },
   "outputs": [
    {
     "name": "stdout",
     "output_type": "stream",
     "text": [
      "x1의 분산은 1 입니다\n",
      "x2의 분산은 4 입니다\n"
     ]
    }
   ],
   "source": [
    "# 분산구하기\n",
    "x1_2=integrate(x1**2*fx1,(x1,-oo,oo))\n",
    "x2_2=integrate(x2**2*fx2,(x2,-oo,oo))\n",
    "s2_x1=x1_2-mu_x1**2 # E(X^2)-E(X)^2\n",
    "s2_x2=x2_2-mu_x2**2\n",
    "print('x1의 분산은 {0} 입니다'.format(s2_x1))\n",
    "print('x2의 분산은 {0} 입니다'.format(s2_x2))"
   ]
  },
  {
   "cell_type": "code",
   "execution_count": 8,
   "id": "8d544380-f39a-410f-aa6f-1aede46d18ad",
   "metadata": {
    "tags": []
   },
   "outputs": [
    {
     "data": {
      "text/latex": [
       "$\\displaystyle 0$"
      ],
      "text/plain": [
       "0"
      ]
     },
     "execution_count": 8,
     "metadata": {},
     "output_type": "execute_result"
    }
   ],
   "source": [
    "# 공분산 구하기\n",
    "integrate(integrate(f*(x1-mu_x1)*(x2-mu_x2),(x1,-oo,oo)),(x2,-oo,oo))"
   ]
  },
  {
   "cell_type": "code",
   "execution_count": 9,
   "id": "ab00e65d-39cc-48a2-87c4-520063e66e49",
   "metadata": {
    "tags": []
   },
   "outputs": [
    {
     "data": {
      "text/latex": [
       "$\\displaystyle \\left[\\begin{matrix}1 & 2\\\\3 & 4\\end{matrix}\\right]$"
      ],
      "text/plain": [
       "Matrix([\n",
       "[1, 2],\n",
       "[3, 4]])"
      ]
     },
     "execution_count": 9,
     "metadata": {},
     "output_type": "execute_result"
    }
   ],
   "source": [
    "from sympy import Matrix\n",
    "A=Matrix([[1,2],[3,4]])\n",
    "A"
   ]
  },
  {
   "cell_type": "code",
   "execution_count": 10,
   "id": "10a0efe4-fb26-463e-8959-af9b26dbda44",
   "metadata": {
    "tags": []
   },
   "outputs": [
    {
     "data": {
      "text/latex": [
       "$\\displaystyle -2$"
      ],
      "text/plain": [
       "-2"
      ]
     },
     "execution_count": 10,
     "metadata": {},
     "output_type": "execute_result"
    }
   ],
   "source": [
    "# 행렬식(determinant)의 계산\n",
    "A.det()"
   ]
  },
  {
   "cell_type": "code",
   "execution_count": 1,
   "id": "0a265f97-c10b-4904-a71e-2204a9ea7316",
   "metadata": {
    "tags": []
   },
   "outputs": [
    {
     "data": {
      "text/latex": [
       "$\\displaystyle \\left|{S}\\right|$"
      ],
      "text/plain": [
       "Determinant(S)"
      ]
     },
     "execution_count": 1,
     "metadata": {},
     "output_type": "execute_result"
    }
   ],
   "source": [
    "from sympy import symbols, MatrixSymbol\n",
    "n=symbols('n',integer=True,positive=True)\n",
    "S=MatrixSymbol('S',n,n) # n by n 행렬 정의\n",
    "S.det() # determinant"
   ]
  },
  {
   "cell_type": "code",
   "execution_count": 2,
   "id": "8b5028b9-0d69-4ddc-b8a5-3cabe7be7529",
   "metadata": {
    "tags": []
   },
   "outputs": [
    {
     "data": {
      "text/latex": [
       "$\\displaystyle S^{-1}$"
      ],
      "text/plain": [
       "S**(-1)"
      ]
     },
     "execution_count": 2,
     "metadata": {},
     "output_type": "execute_result"
    }
   ],
   "source": [
    "S.inv() # 역행렬"
   ]
  },
  {
   "cell_type": "code",
   "execution_count": 2,
   "id": "15cdd256-38f0-4a94-83cb-1d590cc13b63",
   "metadata": {
    "tags": []
   },
   "outputs": [
    {
     "data": {
      "text/latex": [
       "$\\displaystyle {\\left(\\frac{e^{\\left(\\left(\\frac{1}{2}\\right) \\mu^{T} - \\left(\\frac{1}{2}\\right) x^{T}\\right) S^{-1} \\left(- \\mu + x\\right)}}{\\sqrt{\\left(2 \\pi\\right)^{n} \\left|{S}\\right|}}\\right)}_{0,0}$"
      ],
      "text/plain": [
       "(exp(((1/2)*mu.T - (1/2)*x.T)*S**(-1)*(-mu + x))/sqrt((2*pi)**n*Determinant(S)))[0, 0]"
      ]
     },
     "execution_count": 2,
     "metadata": {},
     "output_type": "execute_result"
    }
   ],
   "source": [
    "from sympy.stats import MultivariateNormal,density\n",
    "from sympy import MatrixSymbol,symbols\n",
    "n=symbols('n',integer=True,positive=True)\n",
    "\n",
    "# 행렬을 나타내는 심볼로 정의하기 위해 MatrixSymbol()사용\n",
    "mu=MatrixSymbol('mu',n,1) # n by 1 기대값 행렬\n",
    "S=MatrixSymbol('S',n,n) # n by n 공분산행렬\n",
    "x=MatrixSymbol('x',n,1) # 확률변수 벡터\n",
    "X=MultivariateNormal('X',mu,S) # multivarite normal 분포 설정\n",
    "density(X)(x)"
   ]
  },
  {
   "cell_type": "code",
   "execution_count": null,
   "id": "5b3d44d0-e742-4e55-ac4c-8c4aa0f29f00",
   "metadata": {},
   "outputs": [],
   "source": []
  }
 ],
 "metadata": {
  "kernelspec": {
   "display_name": "Python 3 (ipykernel)",
   "language": "python",
   "name": "python3"
  },
  "language_info": {
   "codemirror_mode": {
    "name": "ipython",
    "version": 3
   },
   "file_extension": ".py",
   "mimetype": "text/x-python",
   "name": "python",
   "nbconvert_exporter": "python",
   "pygments_lexer": "ipython3",
   "version": "3.10.12"
  },
  "widgets": {
   "application/vnd.jupyter.widget-state+json": {
    "state": {},
    "version_major": 2,
    "version_minor": 0
   }
  }
 },
 "nbformat": 4,
 "nbformat_minor": 5
}
